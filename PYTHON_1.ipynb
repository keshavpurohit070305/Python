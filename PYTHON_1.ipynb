{
 "cells": [
  {
   "cell_type": "markdown",
   "id": "76267e3b-b836-42b8-8643-b2d008727862",
   "metadata": {},
   "source": [
    "PYTHON BASICS"
   ]
  },
  {
   "cell_type": "code",
   "execution_count": 1,
   "id": "f9804f94-99fe-4cdf-aba1-9f1f11028faa",
   "metadata": {},
   "outputs": [
    {
     "data": {
      "text/plain": [
       "2"
      ]
     },
     "execution_count": 1,
     "metadata": {},
     "output_type": "execute_result"
    }
   ],
   "source": [
    "1+1"
   ]
  },
  {
   "cell_type": "code",
   "execution_count": 2,
   "id": "4617903b-c1d6-4674-9781-5b5d553d0dbc",
   "metadata": {},
   "outputs": [
    {
     "data": {
      "text/plain": [
       "25"
      ]
     },
     "execution_count": 2,
     "metadata": {},
     "output_type": "execute_result"
    }
   ],
   "source": [
    "5 * 5"
   ]
  },
  {
   "cell_type": "code",
   "execution_count": 3,
   "id": "80b582e9-18f6-46ca-aebb-41b7a8f8f699",
   "metadata": {},
   "outputs": [],
   "source": [
    "A = 10"
   ]
  },
  {
   "cell_type": "code",
   "execution_count": 4,
   "id": "955d6230-5518-4be4-9e4d-2759df8f4919",
   "metadata": {},
   "outputs": [
    {
     "data": {
      "text/plain": [
       "10"
      ]
     },
     "execution_count": 4,
     "metadata": {},
     "output_type": "execute_result"
    }
   ],
   "source": [
    "A"
   ]
  },
  {
   "cell_type": "code",
   "execution_count": 6,
   "id": "5a58e4df-cac8-4ad6-942e-765e5778d8ab",
   "metadata": {},
   "outputs": [
    {
     "data": {
      "text/plain": [
       "20"
      ]
     },
     "execution_count": 6,
     "metadata": {},
     "output_type": "execute_result"
    }
   ],
   "source": [
    " pen = 20\n",
    "pen"
   ]
  },
  {
   "cell_type": "code",
   "execution_count": 8,
   "id": "2e50ecde-d6f0-4de2-826a-df37194b1a96",
   "metadata": {},
   "outputs": [
    {
     "data": {
      "text/plain": [
       "30"
      ]
     },
     "execution_count": 8,
     "metadata": {},
     "output_type": "execute_result"
    }
   ],
   "source": [
    "A + pen"
   ]
  },
  {
   "cell_type": "code",
   "execution_count": 9,
   "id": "25aea6b5-54d2-472c-8355-d1cbda93ac3e",
   "metadata": {},
   "outputs": [
    {
     "data": {
      "text/plain": [
       "int"
      ]
     },
     "execution_count": 9,
     "metadata": {},
     "output_type": "execute_result"
    }
   ],
   "source": [
    "type(A)"
   ]
  },
  {
   "cell_type": "code",
   "execution_count": 10,
   "id": "171035d6-cd00-4d96-8232-8c2044ee44d0",
   "metadata": {},
   "outputs": [
    {
     "data": {
      "text/plain": [
       "int"
      ]
     },
     "execution_count": 10,
     "metadata": {},
     "output_type": "execute_result"
    }
   ],
   "source": [
    "type(pen)"
   ]
  },
  {
   "cell_type": "code",
   "execution_count": 11,
   "id": "1bae0c6c-fbaa-4764-ad0a-d51c7d038034",
   "metadata": {},
   "outputs": [],
   "source": [
    "b = 3.14"
   ]
  },
  {
   "cell_type": "code",
   "execution_count": 12,
   "id": "6fef03d8-16d6-443b-955c-bbcb71f177a1",
   "metadata": {},
   "outputs": [
    {
     "data": {
      "text/plain": [
       "3.14"
      ]
     },
     "execution_count": 12,
     "metadata": {},
     "output_type": "execute_result"
    }
   ],
   "source": [
    "b"
   ]
  },
  {
   "cell_type": "code",
   "execution_count": 13,
   "id": "255b11f2-eaed-4f3b-a670-98df1dfe2f9a",
   "metadata": {},
   "outputs": [
    {
     "data": {
      "text/plain": [
       "float"
      ]
     },
     "execution_count": 13,
     "metadata": {},
     "output_type": "execute_result"
    }
   ],
   "source": [
    "type(b)"
   ]
  },
  {
   "cell_type": "code",
   "execution_count": 14,
   "id": "4d8aa557-cbe2-42fd-96d4-6b908e08891d",
   "metadata": {},
   "outputs": [],
   "source": [
    "c = 13.454765"
   ]
  },
  {
   "cell_type": "code",
   "execution_count": 15,
   "id": "b0d72bac-d6fd-45ae-9940-5fef80e0c5b8",
   "metadata": {},
   "outputs": [
    {
     "data": {
      "text/plain": [
       "13.454765"
      ]
     },
     "execution_count": 15,
     "metadata": {},
     "output_type": "execute_result"
    }
   ],
   "source": [
    "c"
   ]
  },
  {
   "cell_type": "code",
   "execution_count": 16,
   "id": "c8adeb72-9019-4d3f-90a9-b65a5d2216da",
   "metadata": {},
   "outputs": [
    {
     "data": {
      "text/plain": [
       "float"
      ]
     },
     "execution_count": 16,
     "metadata": {},
     "output_type": "execute_result"
    }
   ],
   "source": [
    "type(c)"
   ]
  },
  {
   "cell_type": "code",
   "execution_count": 17,
   "id": "2dfb355f-37c8-4b02-9c19-d0b6b79e0304",
   "metadata": {},
   "outputs": [],
   "source": [
    "d = \"keshav\""
   ]
  },
  {
   "cell_type": "code",
   "execution_count": 18,
   "id": "c2d17637-004d-48c2-a6cb-c07e4a610b51",
   "metadata": {},
   "outputs": [
    {
     "data": {
      "text/plain": [
       "'keshav'"
      ]
     },
     "execution_count": 18,
     "metadata": {},
     "output_type": "execute_result"
    }
   ],
   "source": [
    "d"
   ]
  },
  {
   "cell_type": "code",
   "execution_count": 19,
   "id": "2d8f26b0-32de-4c5d-bd85-672a664b4342",
   "metadata": {},
   "outputs": [
    {
     "data": {
      "text/plain": [
       "str"
      ]
     },
     "execution_count": 19,
     "metadata": {},
     "output_type": "execute_result"
    }
   ],
   "source": [
    "type(d)"
   ]
  },
  {
   "cell_type": "code",
   "execution_count": 20,
   "id": "d4a5b596-736c-423c-87a8-f7ce33251be6",
   "metadata": {},
   "outputs": [
    {
     "data": {
      "text/plain": [
       "'I AM LEARNING PYTHON'"
      ]
     },
     "execution_count": 20,
     "metadata": {},
     "output_type": "execute_result"
    }
   ],
   "source": [
    "e = 'I AM LEARNING PYTHON'\n",
    "e"
   ]
  },
  {
   "cell_type": "code",
   "execution_count": 21,
   "id": "d3c4f6b6-9ba1-42c7-8793-da5c3ca5bc99",
   "metadata": {},
   "outputs": [
    {
     "data": {
      "text/plain": [
       "str"
      ]
     },
     "execution_count": 21,
     "metadata": {},
     "output_type": "execute_result"
    }
   ],
   "source": [
    "type(e)"
   ]
  },
  {
   "cell_type": "code",
   "execution_count": 22,
   "id": "de69ba6e-c03b-490f-8fc0-08d11892d77b",
   "metadata": {},
   "outputs": [
    {
     "data": {
      "text/plain": [
       "str"
      ]
     },
     "execution_count": 22,
     "metadata": {},
     "output_type": "execute_result"
    }
   ],
   "source": [
    "n = 'true'\n",
    "type(n)"
   ]
  },
  {
   "cell_type": "code",
   "execution_count": 23,
   "id": "045aab97-d318-427d-a228-42639ebc55ec",
   "metadata": {},
   "outputs": [
    {
     "data": {
      "text/plain": [
       "bool"
      ]
     },
     "execution_count": 23,
     "metadata": {},
     "output_type": "execute_result"
    }
   ],
   "source": [
    "r = True\n",
    "type(r)"
   ]
  },
  {
   "cell_type": "code",
   "execution_count": 24,
   "id": "92bacb00-8c3d-4420-8d9c-fd606da50794",
   "metadata": {},
   "outputs": [
    {
     "data": {
      "text/plain": [
       "bool"
      ]
     },
     "execution_count": 24,
     "metadata": {},
     "output_type": "execute_result"
    }
   ],
   "source": [
    "s = False\n",
    "type(s)"
   ]
  },
  {
   "cell_type": "code",
   "execution_count": 25,
   "id": "fc7df25a-1a8c-4e9d-aaf7-9b4bed402906",
   "metadata": {},
   "outputs": [
    {
     "ename": "NameError",
     "evalue": "name 'false' is not defined",
     "output_type": "error",
     "traceback": [
      "\u001b[1;31m---------------------------------------------------------------------------\u001b[0m",
      "\u001b[1;31mNameError\u001b[0m                                 Traceback (most recent call last)",
      "Cell \u001b[1;32mIn[25], line 1\u001b[0m\n\u001b[1;32m----> 1\u001b[0m t \u001b[38;5;241m=\u001b[39m false\n\u001b[0;32m      2\u001b[0m \u001b[38;5;28mtype\u001b[39m(t)\n",
      "\u001b[1;31mNameError\u001b[0m: name 'false' is not defined"
     ]
    }
   ],
   "source": [
    "t = false\n",
    "type(t)"
   ]
  },
  {
   "cell_type": "code",
   "execution_count": 26,
   "id": "099c9555-bcc6-4f03-87fd-cc0f5ec9f549",
   "metadata": {},
   "outputs": [
    {
     "data": {
      "text/plain": [
       "1"
      ]
     },
     "execution_count": 26,
     "metadata": {},
     "output_type": "execute_result"
    }
   ],
   "source": [
    "r+s"
   ]
  },
  {
   "cell_type": "code",
   "execution_count": 28,
   "id": "e94683c1-bc5d-4bb3-9967-b19c86f88046",
   "metadata": {},
   "outputs": [
    {
     "data": {
      "text/plain": [
       "2"
      ]
     },
     "execution_count": 28,
     "metadata": {},
     "output_type": "execute_result"
    }
   ],
   "source": [
    "r+r"
   ]
  },
  {
   "cell_type": "raw",
   "id": "c300606d-a3f5-4112-a954-d6ec965c3979",
   "metadata": {},
   "source": []
  },
  {
   "cell_type": "code",
   "execution_count": 29,
   "id": "cd1789f4-f7a4-4aac-b98d-7265d8e61ea6",
   "metadata": {},
   "outputs": [
    {
     "data": {
      "text/plain": [
       "0"
      ]
     },
     "execution_count": 29,
     "metadata": {},
     "output_type": "execute_result"
    }
   ],
   "source": [
    "r * s"
   ]
  },
  {
   "cell_type": "code",
   "execution_count": 30,
   "id": "52236259-d5aa-4678-9b64-5bfadd1de89c",
   "metadata": {},
   "outputs": [
    {
     "data": {
      "text/plain": [
       "1"
      ]
     },
     "execution_count": 30,
     "metadata": {},
     "output_type": "execute_result"
    }
   ],
   "source": [
    "True * True"
   ]
  },
  {
   "cell_type": "code",
   "execution_count": 31,
   "id": "19ea0ae7-dfc0-4aa5-9608-85cae3142bf9",
   "metadata": {},
   "outputs": [
    {
     "data": {
      "text/plain": [
       "0"
      ]
     },
     "execution_count": 31,
     "metadata": {},
     "output_type": "execute_result"
    }
   ],
   "source": [
    "True * False"
   ]
  },
  {
   "cell_type": "code",
   "execution_count": 32,
   "id": "f47214ea-8638-4a7a-aa6a-e6c819d77ec0",
   "metadata": {},
   "outputs": [
    {
     "data": {
      "text/plain": [
       "1"
      ]
     },
     "execution_count": 32,
     "metadata": {},
     "output_type": "execute_result"
    }
   ],
   "source": [
    "True + False"
   ]
  },
  {
   "cell_type": "code",
   "execution_count": 33,
   "id": "0c7f0178-cec2-45f3-a539-c47ec78cd4ec",
   "metadata": {},
   "outputs": [
    {
     "data": {
      "text/plain": [
       "2"
      ]
     },
     "execution_count": 33,
     "metadata": {},
     "output_type": "execute_result"
    }
   ],
   "source": [
    "True + True"
   ]
  },
  {
   "cell_type": "code",
   "execution_count": 34,
   "id": "6f577a85-f41b-4c08-9ac2-16f25bc8acb5",
   "metadata": {},
   "outputs": [
    {
     "ename": "ZeroDivisionError",
     "evalue": "division by zero",
     "output_type": "error",
     "traceback": [
      "\u001b[1;31m---------------------------------------------------------------------------\u001b[0m",
      "\u001b[1;31mZeroDivisionError\u001b[0m                         Traceback (most recent call last)",
      "Cell \u001b[1;32mIn[34], line 1\u001b[0m\n\u001b[1;32m----> 1\u001b[0m \u001b[38;5;28;01mTrue\u001b[39;00m \u001b[38;5;241m/\u001b[39m \u001b[38;5;28;01mFalse\u001b[39;00m\n",
      "\u001b[1;31mZeroDivisionError\u001b[0m: division by zero"
     ]
    }
   ],
   "source": [
    "True / False"
   ]
  },
  {
   "cell_type": "code",
   "execution_count": 35,
   "id": "62bef648-296d-4962-bfa2-d66c82c7524c",
   "metadata": {},
   "outputs": [
    {
     "ename": "ZeroDivisionError",
     "evalue": "division by zero",
     "output_type": "error",
     "traceback": [
      "\u001b[1;31m---------------------------------------------------------------------------\u001b[0m",
      "\u001b[1;31mZeroDivisionError\u001b[0m                         Traceback (most recent call last)",
      "Cell \u001b[1;32mIn[35], line 1\u001b[0m\n\u001b[1;32m----> 1\u001b[0m \u001b[38;5;241m1\u001b[39m \u001b[38;5;241m/\u001b[39m \u001b[38;5;241m0\u001b[39m\n",
      "\u001b[1;31mZeroDivisionError\u001b[0m: division by zero"
     ]
    }
   ],
   "source": [
    "1 / 0 "
   ]
  },
  {
   "cell_type": "code",
   "execution_count": 36,
   "id": "dbcd7787-2d7a-479d-80a4-c42389feb63b",
   "metadata": {},
   "outputs": [
    {
     "data": {
      "text/plain": [
       "1.0"
      ]
     },
     "execution_count": 36,
     "metadata": {},
     "output_type": "execute_result"
    }
   ],
   "source": [
    "True / True"
   ]
  },
  {
   "cell_type": "code",
   "execution_count": 37,
   "id": "9921c5b7-dfca-4d32-975a-37f6dfe19b58",
   "metadata": {},
   "outputs": [
    {
     "ename": "ZeroDivisionError",
     "evalue": "division by zero",
     "output_type": "error",
     "traceback": [
      "\u001b[1;31m---------------------------------------------------------------------------\u001b[0m",
      "\u001b[1;31mZeroDivisionError\u001b[0m                         Traceback (most recent call last)",
      "Cell \u001b[1;32mIn[37], line 1\u001b[0m\n\u001b[1;32m----> 1\u001b[0m \u001b[38;5;28;01mFalse\u001b[39;00m \u001b[38;5;241m/\u001b[39m \u001b[38;5;28;01mFalse\u001b[39;00m\n",
      "\u001b[1;31mZeroDivisionError\u001b[0m: division by zero"
     ]
    }
   ],
   "source": [
    " False / False"
   ]
  },
  {
   "cell_type": "code",
   "execution_count": 39,
   "id": "3c9527f7-a19f-41aa-8ffc-3088c99795b7",
   "metadata": {},
   "outputs": [],
   "source": [
    "keshav  = 7 + 3j"
   ]
  },
  {
   "cell_type": "code",
   "execution_count": 41,
   "id": "e923e98e-c700-4240-95ea-b9615f11d7c7",
   "metadata": {},
   "outputs": [
    {
     "data": {
      "text/plain": [
       "complex"
      ]
     },
     "execution_count": 41,
     "metadata": {},
     "output_type": "execute_result"
    }
   ],
   "source": [
    "type(keshav)"
   ]
  },
  {
   "cell_type": "code",
   "execution_count": 42,
   "id": "fc2dd012-aeab-451f-985f-8ec7e7324353",
   "metadata": {},
   "outputs": [
    {
     "data": {
      "text/plain": [
       "7.0"
      ]
     },
     "execution_count": 42,
     "metadata": {},
     "output_type": "execute_result"
    }
   ],
   "source": [
    "keshav.real"
   ]
  },
  {
   "cell_type": "code",
   "execution_count": 44,
   "id": "722b5d32-80a5-44f2-a6e4-5601c93d8f55",
   "metadata": {},
   "outputs": [
    {
     "data": {
      "text/plain": [
       "3.0"
      ]
     },
     "execution_count": 44,
     "metadata": {},
     "output_type": "execute_result"
    }
   ],
   "source": [
    "keshav.imag"
   ]
  },
  {
   "cell_type": "code",
   "execution_count": 45,
   "id": "dbbd561a-631a-4bb6-a271-f2f676571e3c",
   "metadata": {},
   "outputs": [
    {
     "data": {
      "text/plain": [
       "(7+3j)"
      ]
     },
     "execution_count": 45,
     "metadata": {},
     "output_type": "execute_result"
    }
   ],
   "source": [
    "keshav"
   ]
  },
  {
   "cell_type": "code",
   "execution_count": 46,
   "id": "96c7bb22-8722-477d-b0e0-9f455e68ea66",
   "metadata": {},
   "outputs": [
    {
     "name": "stdout",
     "output_type": "stream",
     "text": [
      "MY NAME IS KESHAV PUROHIT\n"
     ]
    }
   ],
   "source": [
    "print(\"MY NAME IS KESHAV PUROHIT\")"
   ]
  },
  {
   "cell_type": "code",
   "execution_count": 47,
   "id": "b044b369-947b-4f6a-bb69-ee689bb213bc",
   "metadata": {},
   "outputs": [
    {
     "name": "stdout",
     "output_type": "stream",
     "text": [
      "10\n"
     ]
    }
   ],
   "source": [
    "a = 10\n",
    "print(a)"
   ]
  },
  {
   "cell_type": "code",
   "execution_count": 48,
   "id": "899ef5b0-3bcd-438d-bff5-fc84559325ea",
   "metadata": {},
   "outputs": [
    {
     "data": {
      "text/plain": [
       "str"
      ]
     },
     "execution_count": 48,
     "metadata": {},
     "output_type": "execute_result"
    }
   ],
   "source": [
    "s = \"RBU\"\n",
    "type(s)"
   ]
  },
  {
   "cell_type": "code",
   "execution_count": 49,
   "id": "1142754b-7fd1-4016-b2f7-303d888936db",
   "metadata": {},
   "outputs": [
    {
     "data": {
      "text/plain": [
       "'R'"
      ]
     },
     "execution_count": 49,
     "metadata": {},
     "output_type": "execute_result"
    }
   ],
   "source": [
    "s[0]"
   ]
  },
  {
   "cell_type": "code",
   "execution_count": 50,
   "id": "2f57bb41-fabf-4d5b-aad3-60891d7354cc",
   "metadata": {},
   "outputs": [
    {
     "data": {
      "text/plain": [
       "'B'"
      ]
     },
     "execution_count": 50,
     "metadata": {},
     "output_type": "execute_result"
    }
   ],
   "source": [
    "s[1]"
   ]
  },
  {
   "cell_type": "code",
   "execution_count": 51,
   "id": "2f407181-dcb1-40cf-ae58-60b7a683fcc9",
   "metadata": {},
   "outputs": [
    {
     "data": {
      "text/plain": [
       "'U'"
      ]
     },
     "execution_count": 51,
     "metadata": {},
     "output_type": "execute_result"
    }
   ],
   "source": [
    "s[-1]"
   ]
  },
  {
   "cell_type": "code",
   "execution_count": 52,
   "id": "e6b36038-f496-4797-adb2-2eda460f4ca1",
   "metadata": {},
   "outputs": [
    {
     "data": {
      "text/plain": [
       "'R'"
      ]
     },
     "execution_count": 52,
     "metadata": {},
     "output_type": "execute_result"
    }
   ],
   "source": [
    "s[0:1]"
   ]
  },
  {
   "cell_type": "code",
   "execution_count": 53,
   "id": "47531fec-cd06-45b4-b584-a88ee9b92876",
   "metadata": {},
   "outputs": [
    {
     "data": {
      "text/plain": [
       "'RB'"
      ]
     },
     "execution_count": 53,
     "metadata": {},
     "output_type": "execute_result"
    }
   ],
   "source": [
    "s[:2]"
   ]
  },
  {
   "cell_type": "code",
   "execution_count": 54,
   "id": "83422343-baab-4aeb-a3a1-252a358847df",
   "metadata": {},
   "outputs": [
    {
     "data": {
      "text/plain": [
       "'RBU'"
      ]
     },
     "execution_count": 54,
     "metadata": {},
     "output_type": "execute_result"
    }
   ],
   "source": [
    "s[0:]"
   ]
  },
  {
   "cell_type": "code",
   "execution_count": 55,
   "id": "f8475cc6-6ab2-4a69-a129-e744da3bea64",
   "metadata": {},
   "outputs": [],
   "source": [
    "name = \"keshav_purohit\""
   ]
  },
  {
   "cell_type": "code",
   "execution_count": 60,
   "id": "7dbd3886-4876-4d69-878a-be2297d39fd1",
   "metadata": {},
   "outputs": [
    {
     "data": {
      "text/plain": [
       "'ksa_uoi'"
      ]
     },
     "execution_count": 60,
     "metadata": {},
     "output_type": "execute_result"
    }
   ],
   "source": [
    "name[0:16:2]"
   ]
  },
  {
   "cell_type": "markdown",
   "id": "107ecdd7-4929-4084-9bc2-84015129c1f0",
   "metadata": {},
   "source": [
    "above -  // printed element from 0 to 15 , but printing every 2nd"
   ]
  },
  {
   "cell_type": "code",
   "execution_count": 62,
   "id": "1f38cd8f-74ea-47a9-98cc-27c15ed5d860",
   "metadata": {},
   "outputs": [
    {
     "data": {
      "text/plain": [
       "'keshav_purohit'"
      ]
     },
     "execution_count": 62,
     "metadata": {},
     "output_type": "execute_result"
    }
   ],
   "source": [
    "name[0:14:1]"
   ]
  },
  {
   "cell_type": "markdown",
   "id": "7be55b35-3a11-4535-989c-ec9bf50f848c",
   "metadata": {},
   "source": []
  },
  {
   "cell_type": "code",
   "execution_count": 63,
   "id": "283a2f6d-d9df-48fd-b5c5-df94d0536ce8",
   "metadata": {},
   "outputs": [
    {
     "data": {
      "text/plain": [
       "'keshav_purohit'"
      ]
     },
     "execution_count": 63,
     "metadata": {},
     "output_type": "execute_result"
    }
   ],
   "source": [
    "name[::1]"
   ]
  },
  {
   "cell_type": "code",
   "execution_count": 64,
   "id": "2268f554-2e42-4272-a9b5-df9a1bec3fb8",
   "metadata": {},
   "outputs": [
    {
     "data": {
      "text/plain": [
       "'kh_ri'"
      ]
     },
     "execution_count": 64,
     "metadata": {},
     "output_type": "execute_result"
    }
   ],
   "source": [
    "name[::3]\n"
   ]
  },
  {
   "cell_type": "code",
   "execution_count": 65,
   "id": "20d5f3ea-a9e0-49ff-a065-47693702f185",
   "metadata": {},
   "outputs": [
    {
     "data": {
      "text/plain": [
       "'keshav_purohit'"
      ]
     },
     "execution_count": 65,
     "metadata": {},
     "output_type": "execute_result"
    }
   ],
   "source": [
    "name[0::1]"
   ]
  },
  {
   "cell_type": "code",
   "execution_count": 66,
   "id": "fa2e9d73-1192-4e36-88b1-e827f77ed641",
   "metadata": {},
   "outputs": [
    {
     "data": {
      "text/plain": [
       "'s_o'"
      ]
     },
     "execution_count": 66,
     "metadata": {},
     "output_type": "execute_result"
    }
   ],
   "source": [
    "name[2::4]"
   ]
  },
  {
   "cell_type": "code",
   "execution_count": 67,
   "id": "c3e87713-22f6-4c3b-8202-e51143f1486d",
   "metadata": {},
   "outputs": [
    {
     "data": {
      "text/plain": [
       "'tihorup_vahsek'"
      ]
     },
     "execution_count": 67,
     "metadata": {},
     "output_type": "execute_result"
    }
   ],
   "source": [
    "name[::-1]"
   ]
  },
  {
   "cell_type": "code",
   "execution_count": 68,
   "id": "1d78818c-9a0c-48c2-a8be-8efddcbff0dd",
   "metadata": {},
   "outputs": [
    {
     "data": {
      "text/plain": [
       "'keshav_purohit'"
      ]
     },
     "execution_count": 68,
     "metadata": {},
     "output_type": "execute_result"
    }
   ],
   "source": [
    "name"
   ]
  },
  {
   "cell_type": "code",
   "execution_count": 71,
   "id": "68972577-979f-4055-ad16-6466fd3d3089",
   "metadata": {},
   "outputs": [
    {
     "data": {
      "text/plain": [
       "''"
      ]
     },
     "execution_count": 71,
     "metadata": {},
     "output_type": "execute_result"
    }
   ],
   "source": [
    "name[2:14:-1]"
   ]
  },
  {
   "cell_type": "code",
   "execution_count": 72,
   "id": "93ab742c-f0e8-4ee0-b2ba-8c63882b98d5",
   "metadata": {},
   "outputs": [
    {
     "data": {
      "text/plain": [
       "''"
      ]
     },
     "execution_count": 72,
     "metadata": {},
     "output_type": "execute_result"
    }
   ],
   "source": [
    "name[14:0]"
   ]
  },
  {
   "cell_type": "code",
   "execution_count": 73,
   "id": "89e3bb7d-8944-4054-8986-6e198e4e5980",
   "metadata": {},
   "outputs": [
    {
     "data": {
      "text/plain": [
       "'up_vahsek'"
      ]
     },
     "execution_count": 73,
     "metadata": {},
     "output_type": "execute_result"
    }
   ],
   "source": [
    "name[8::-1]"
   ]
  },
  {
   "cell_type": "code",
   "execution_count": 77,
   "id": "2748d602-6a77-447b-b854-10923cbc802b",
   "metadata": {},
   "outputs": [
    {
     "data": {
      "text/plain": [
       "'tihorup_vahsek'"
      ]
     },
     "execution_count": 77,
     "metadata": {},
     "output_type": "execute_result"
    }
   ],
   "source": [
    "name[14::-1]"
   ]
  },
  {
   "cell_type": "markdown",
   "id": "5bc384ff-f36b-4d52-a200-2ee277cb0f90",
   "metadata": {},
   "source": [
    "abv 3**"
   ]
  },
  {
   "cell_type": "markdown",
   "id": "ce7a456f-12d1-44f1-82ce-71d947813e9b",
   "metadata": {},
   "source": [
    "when we give negative it start from back and there giving 2:14 will not work similarly in case of just\n",
    "14:0 it means will go forward and there nothing 14:0 ahead possible therefore fill be blank when we gave \n",
    "8::-1 here from 8 will go decreasing till zero simiarly for 14::-1 will be able to come to zero fro 14\n",
    "cuz of -1  \n"
   ]
  },
  {
   "cell_type": "code",
   "execution_count": 4,
   "id": "2f8c58e5-6f67-414a-8810-ec41909036e6",
   "metadata": {},
   "outputs": [],
   "source": [
    "s = \"rohitS45\"\n"
   ]
  },
  {
   "cell_type": "code",
   "execution_count": 5,
   "id": "b5d2637a-142e-4ef4-83f4-fa2b1115a302",
   "metadata": {},
   "outputs": [
    {
     "data": {
      "text/plain": [
       "'rohitS45'"
      ]
     },
     "execution_count": 5,
     "metadata": {},
     "output_type": "execute_result"
    }
   ],
   "source": [
    "s"
   ]
  },
  {
   "cell_type": "code",
   "execution_count": 6,
   "id": "72418fc5-dacd-41df-8afd-e67ea15764d6",
   "metadata": {},
   "outputs": [
    {
     "data": {
      "text/plain": [
       "'4Stiho'"
      ]
     },
     "execution_count": 6,
     "metadata": {},
     "output_type": "execute_result"
    }
   ],
   "source": [
    "s[-2 : -8 : -1]"
   ]
  },
  {
   "cell_type": "markdown",
   "id": "ccf4830d-8b51-4a34-b22a-156e6d5f2d91",
   "metadata": {},
   "source": [
    "here -ve will start from -2 and go till -7 that is o with dec cuz of -1"
   ]
  },
  {
   "cell_type": "code",
   "execution_count": 7,
   "id": "2db9b6d6-99df-4c5d-9c28-10d6d2d657c3",
   "metadata": {},
   "outputs": [
    {
     "data": {
      "text/plain": [
       "'4Stihor'"
      ]
     },
     "execution_count": 7,
     "metadata": {},
     "output_type": "execute_result"
    }
   ],
   "source": [
    "s[-2 : : -1]"
   ]
  },
  {
   "cell_type": "code",
   "execution_count": 8,
   "id": "7babc227-0581-4f02-9f4e-3106c2fcfa6b",
   "metadata": {},
   "outputs": [
    {
     "data": {
      "text/plain": [
       "'54Stihor'"
      ]
     },
     "execution_count": 8,
     "metadata": {},
     "output_type": "execute_result"
    }
   ],
   "source": [
    "s[::-1]"
   ]
  },
  {
   "cell_type": "code",
   "execution_count": 9,
   "id": "2182f755-4bec-4afe-8691-fe6e46f3ac2e",
   "metadata": {},
   "outputs": [
    {
     "data": {
      "text/plain": [
       "'rohitS45'"
      ]
     },
     "execution_count": 9,
     "metadata": {},
     "output_type": "execute_result"
    }
   ],
   "source": [
    "s[::]"
   ]
  },
  {
   "cell_type": "code",
   "execution_count": 10,
   "id": "d0b3e6bc-6be7-45c4-9d54-f61ea5f4a8c4",
   "metadata": {},
   "outputs": [
    {
     "data": {
      "text/plain": [
       "''"
      ]
     },
     "execution_count": 10,
     "metadata": {},
     "output_type": "execute_result"
    }
   ],
   "source": [
    "s[:-90:]"
   ]
  },
  {
   "cell_type": "markdown",
   "id": "e50e8075-c671-4e27-9417-3277160d6a79",
   "metadata": {},
   "source": [
    "it works like s[0:-90:1]"
   ]
  },
  {
   "cell_type": "code",
   "execution_count": 12,
   "id": "41e74d24-5a6f-4d13-aba8-a5aae569a7b7",
   "metadata": {},
   "outputs": [
    {
     "ename": "IndexError",
     "evalue": "string index out of range",
     "output_type": "error",
     "traceback": [
      "\u001b[1;31m---------------------------------------------------------------------------\u001b[0m",
      "\u001b[1;31mIndexError\u001b[0m                                Traceback (most recent call last)",
      "Cell \u001b[1;32mIn[12], line 1\u001b[0m\n\u001b[1;32m----> 1\u001b[0m s[\u001b[38;5;241m90\u001b[39m]\n",
      "\u001b[1;31mIndexError\u001b[0m: string index out of range"
     ]
    }
   ],
   "source": [
    "s[90]"
   ]
  },
  {
   "cell_type": "code",
   "execution_count": 13,
   "id": "13d836ce-9bc4-48a8-8617-779cbbd49f3e",
   "metadata": {},
   "outputs": [
    {
     "data": {
      "text/plain": [
       "'54Stihor'"
      ]
     },
     "execution_count": 13,
     "metadata": {},
     "output_type": "execute_result"
    }
   ],
   "source": [
    "s[:-90000:-1]"
   ]
  },
  {
   "cell_type": "code",
   "execution_count": 14,
   "id": "707b77e4-7980-44aa-940a-310a03751836",
   "metadata": {},
   "outputs": [
    {
     "data": {
      "text/plain": [
       "''"
      ]
     },
     "execution_count": 14,
     "metadata": {},
     "output_type": "execute_result"
    }
   ],
   "source": [
    "s[-90000::-1]"
   ]
  },
  {
   "cell_type": "markdown",
   "id": "7820a177-b0e1-484e-8c55-e6532a0db6fc",
   "metadata": {},
   "source": [
    " s[:-90000:-1] work as s[-1:-90000:-1]\n",
    "but in case of s[-90000::-1] it is not possible \n"
   ]
  },
  {
   "cell_type": "code",
   "execution_count": 15,
   "id": "9e70f4cb-91a0-4597-affb-f7bb7f4565e0",
   "metadata": {},
   "outputs": [
    {
     "data": {
      "text/plain": [
       "'rohitS45'"
      ]
     },
     "execution_count": 15,
     "metadata": {},
     "output_type": "execute_result"
    }
   ],
   "source": [
    "s[-90:14:1]"
   ]
  },
  {
   "cell_type": "code",
   "execution_count": 16,
   "id": "e7b12c35-c1d8-478a-9a16-5dc4566a9346",
   "metadata": {},
   "outputs": [],
   "source": [
    "c = 200"
   ]
  },
  {
   "cell_type": "code",
   "execution_count": 17,
   "id": "8a279906-31fb-4ce0-bb45-f2ddec4b4632",
   "metadata": {},
   "outputs": [],
   "source": [
    "s1 = \"this is my string class\""
   ]
  },
  {
   "cell_type": "code",
   "execution_count": 18,
   "id": "76bcdb0b-4921-4f78-87dc-64f6085eeb19",
   "metadata": {},
   "outputs": [
    {
     "data": {
      "text/plain": [
       "23"
      ]
     },
     "execution_count": 18,
     "metadata": {},
     "output_type": "execute_result"
    }
   ],
   "source": [
    "len(s1)"
   ]
  },
  {
   "cell_type": "code",
   "execution_count": 19,
   "id": "3b0fcfa4-4288-491f-b361-35b783155673",
   "metadata": {},
   "outputs": [
    {
     "data": {
      "text/plain": [
       "3"
      ]
     },
     "execution_count": 19,
     "metadata": {},
     "output_type": "execute_result"
    }
   ],
   "source": [
    "s1.find('s')"
   ]
  },
  {
   "cell_type": "code",
   "execution_count": 20,
   "id": "9fe66d36-7ea3-4bdd-945a-79d4cdd0c304",
   "metadata": {},
   "outputs": [
    {
     "data": {
      "text/plain": [
       "2"
      ]
     },
     "execution_count": 20,
     "metadata": {},
     "output_type": "execute_result"
    }
   ],
   "source": [
    "s1.find('i')"
   ]
  },
  {
   "cell_type": "code",
   "execution_count": 21,
   "id": "b7b01159-7bc0-4479-a5ad-4a1e09522464",
   "metadata": {},
   "outputs": [
    {
     "data": {
      "text/plain": [
       "2"
      ]
     },
     "execution_count": 21,
     "metadata": {},
     "output_type": "execute_result"
    }
   ],
   "source": [
    "s1.find(\"is\")"
   ]
  },
  {
   "cell_type": "code",
   "execution_count": 22,
   "id": "0eb6ecae-abf2-490b-8722-689c529f64f5",
   "metadata": {},
   "outputs": [
    {
     "data": {
      "text/plain": [
       "-1"
      ]
     },
     "execution_count": 22,
     "metadata": {},
     "output_type": "execute_result"
    }
   ],
   "source": [
    "#this is a code to find a charecterd of sub string in string \n",
    "s1.find(\"iS\")"
   ]
  },
  {
   "cell_type": "code",
   "execution_count": 23,
   "id": "75a5365c-7527-4211-a219-cf79a0b761b2",
   "metadata": {},
   "outputs": [
    {
     "data": {
      "text/plain": [
       "5"
      ]
     },
     "execution_count": 23,
     "metadata": {},
     "output_type": "execute_result"
    }
   ],
   "source": [
    "s1.count('s')"
   ]
  },
  {
   "cell_type": "code",
   "execution_count": 24,
   "id": "ef1714bd-6187-4967-b76b-928b3bfe6792",
   "metadata": {},
   "outputs": [
    {
     "data": {
      "text/plain": [
       "'this is my string class'"
      ]
     },
     "execution_count": 24,
     "metadata": {},
     "output_type": "execute_result"
    }
   ],
   "source": [
    "s1"
   ]
  },
  {
   "cell_type": "code",
   "execution_count": 25,
   "id": "53e02deb-7863-4b35-ba41-6755b4f793c5",
   "metadata": {},
   "outputs": [
    {
     "data": {
      "text/plain": [
       "1"
      ]
     },
     "execution_count": 25,
     "metadata": {},
     "output_type": "execute_result"
    }
   ],
   "source": [
    "s1.count(\"st\")"
   ]
  },
  {
   "cell_type": "code",
   "execution_count": 26,
   "id": "541ae9e2-7b28-4325-9549-5c7c183dc5ba",
   "metadata": {},
   "outputs": [
    {
     "data": {
      "text/plain": [
       "0"
      ]
     },
     "execution_count": 26,
     "metadata": {},
     "output_type": "execute_result"
    }
   ],
   "source": [
    "s1.count('z')"
   ]
  },
  {
   "cell_type": "code",
   "execution_count": 27,
   "id": "bcb92c38-e40d-477d-ba36-d35e484d0d4d",
   "metadata": {},
   "outputs": [
    {
     "data": {
      "text/plain": [
       "'THIS IS MY STRING CLASS'"
      ]
     },
     "execution_count": 27,
     "metadata": {},
     "output_type": "execute_result"
    }
   ],
   "source": [
    "s1.upper()"
   ]
  },
  {
   "cell_type": "code",
   "execution_count": 28,
   "id": "88f41af2-98c3-4e5e-8fbc-30d4b02b2ee1",
   "metadata": {},
   "outputs": [
    {
     "data": {
      "text/plain": [
       "'this is my string class'"
      ]
     },
     "execution_count": 28,
     "metadata": {},
     "output_type": "execute_result"
    }
   ],
   "source": [
    "s1"
   ]
  },
  {
   "cell_type": "code",
   "execution_count": 29,
   "id": "aa7c4a64-dfb8-4b46-88e0-92bb78ab8f25",
   "metadata": {},
   "outputs": [],
   "source": [
    "s2 = 'THIS IS MY STRING CLASS'"
   ]
  },
  {
   "cell_type": "code",
   "execution_count": 30,
   "id": "fe719d66-249a-4f5f-b3e2-e62833a8f83b",
   "metadata": {},
   "outputs": [
    {
     "data": {
      "text/plain": [
       "'this is my string class'"
      ]
     },
     "execution_count": 30,
     "metadata": {},
     "output_type": "execute_result"
    }
   ],
   "source": [
    "s1"
   ]
  },
  {
   "cell_type": "code",
   "execution_count": 31,
   "id": "2af9b143-2cb1-4f40-a72e-b4864d6d1530",
   "metadata": {},
   "outputs": [
    {
     "data": {
      "text/plain": [
       "'THIS IS MY STRING CLASS'"
      ]
     },
     "execution_count": 31,
     "metadata": {},
     "output_type": "execute_result"
    }
   ],
   "source": [
    "s2"
   ]
  },
  {
   "cell_type": "code",
   "execution_count": 32,
   "id": "40c97394-d77f-4c82-9563-190c5e683539",
   "metadata": {},
   "outputs": [
    {
     "data": {
      "text/plain": [
       "'this is my string class'"
      ]
     },
     "execution_count": 32,
     "metadata": {},
     "output_type": "execute_result"
    }
   ],
   "source": [
    "s2.lower()"
   ]
  },
  {
   "cell_type": "code",
   "execution_count": 33,
   "id": "7c4d546f-00a0-412d-b5c8-a8b03d9673cb",
   "metadata": {},
   "outputs": [
    {
     "data": {
      "text/plain": [
       "'This Is My String Class'"
      ]
     },
     "execution_count": 33,
     "metadata": {},
     "output_type": "execute_result"
    }
   ],
   "source": [
    "s1.title()"
   ]
  },
  {
   "cell_type": "code",
   "execution_count": 34,
   "id": "2e995432-adf8-4514-baf4-8bc74a28cec9",
   "metadata": {},
   "outputs": [
    {
     "data": {
      "text/plain": [
       "'This Is My String Class'"
      ]
     },
     "execution_count": 34,
     "metadata": {},
     "output_type": "execute_result"
    }
   ],
   "source": [
    "s2.title()"
   ]
  },
  {
   "cell_type": "code",
   "execution_count": 35,
   "id": "26c94299-ef80-49e8-9e2f-09c5637a9c93",
   "metadata": {},
   "outputs": [
    {
     "data": {
      "text/plain": [
       "'This is my string class'"
      ]
     },
     "execution_count": 35,
     "metadata": {},
     "output_type": "execute_result"
    }
   ],
   "source": [
    "s1.capitalize()"
   ]
  },
  {
   "cell_type": "code",
   "execution_count": 36,
   "id": "9e0bc82b-b53c-479c-b2db-212da85d779e",
   "metadata": {},
   "outputs": [
    {
     "data": {
      "text/plain": [
       "'rohitS45'"
      ]
     },
     "execution_count": 36,
     "metadata": {},
     "output_type": "execute_result"
    }
   ],
   "source": [
    "s"
   ]
  },
  {
   "cell_type": "code",
   "execution_count": 37,
   "id": "52a9ab4d-8f46-4083-91d2-709622cba528",
   "metadata": {},
   "outputs": [
    {
     "ename": "TypeError",
     "evalue": "can only concatenate str (not \"int\") to str",
     "output_type": "error",
     "traceback": [
      "\u001b[1;31m---------------------------------------------------------------------------\u001b[0m",
      "\u001b[1;31mTypeError\u001b[0m                                 Traceback (most recent call last)",
      "Cell \u001b[1;32mIn[37], line 1\u001b[0m\n\u001b[1;32m----> 1\u001b[0m s \u001b[38;5;241m+\u001b[39m \u001b[38;5;241m1\u001b[39m\n",
      "\u001b[1;31mTypeError\u001b[0m: can only concatenate str (not \"int\") to str"
     ]
    }
   ],
   "source": [
    "s + 1"
   ]
  },
  {
   "cell_type": "code",
   "execution_count": 38,
   "id": "ee0f481f-6976-47ac-b12e-f5c9fb626e0f",
   "metadata": {},
   "outputs": [
    {
     "data": {
      "text/plain": [
       "'rohitS45 keshav'"
      ]
     },
     "execution_count": 38,
     "metadata": {},
     "output_type": "execute_result"
    }
   ],
   "source": [
    "s + \" keshav\""
   ]
  },
  {
   "cell_type": "code",
   "execution_count": 40,
   "id": "a5d2b23b-57e5-47b1-8818-b5e27f379751",
   "metadata": {},
   "outputs": [
    {
     "data": {
      "text/plain": [
       "'rohitS453'"
      ]
     },
     "execution_count": 40,
     "metadata": {},
     "output_type": "execute_result"
    }
   ],
   "source": [
    "s + \"3\""
   ]
  },
  {
   "cell_type": "code",
   "execution_count": 41,
   "id": "31e54b09-7296-4e5e-a802-173b3b4466d2",
   "metadata": {},
   "outputs": [
    {
     "data": {
      "text/plain": [
       "'rohitS451'"
      ]
     },
     "execution_count": 41,
     "metadata": {},
     "output_type": "execute_result"
    }
   ],
   "source": [
    "s+ str(1)"
   ]
  },
  {
   "cell_type": "code",
   "execution_count": 42,
   "id": "371ec5ff-71d7-4fb5-81f8-2ffea01062ec",
   "metadata": {},
   "outputs": [
    {
     "data": {
      "text/plain": [
       "'rohitS45rohitS45rohitS45'"
      ]
     },
     "execution_count": 42,
     "metadata": {},
     "output_type": "execute_result"
    }
   ],
   "source": [
    "s * 3 "
   ]
  },
  {
   "cell_type": "code",
   "execution_count": 43,
   "id": "98fa967e-c72c-4627-91c7-95cfa99a07ea",
   "metadata": {},
   "outputs": [
    {
     "data": {
      "text/plain": [
       "'KPKPKPKP'"
      ]
     },
     "execution_count": 43,
     "metadata": {},
     "output_type": "execute_result"
    }
   ],
   "source": [
    "'KP' *4"
   ]
  },
  {
   "cell_type": "code",
   "execution_count": 44,
   "id": "f030bb6c-514b-49dd-9707-e04a0508cfd3",
   "metadata": {},
   "outputs": [
    {
     "ename": "TypeError",
     "evalue": "unsupported operand type(s) for /: 'str' and 'int'",
     "output_type": "error",
     "traceback": [
      "\u001b[1;31m---------------------------------------------------------------------------\u001b[0m",
      "\u001b[1;31mTypeError\u001b[0m                                 Traceback (most recent call last)",
      "Cell \u001b[1;32mIn[44], line 1\u001b[0m\n\u001b[1;32m----> 1\u001b[0m \u001b[38;5;124m\"\u001b[39m\u001b[38;5;124mKp\u001b[39m\u001b[38;5;124m\"\u001b[39m \u001b[38;5;241m/\u001b[39m \u001b[38;5;241m4\u001b[39m\n",
      "\u001b[1;31mTypeError\u001b[0m: unsupported operand type(s) for /: 'str' and 'int'"
     ]
    }
   ],
   "source": [
    "\"Kp\" / 4"
   ]
  },
  {
   "cell_type": "code",
   "execution_count": 45,
   "id": "f85c758f-2af1-4684-a360-b3d43a8ff2fd",
   "metadata": {},
   "outputs": [
    {
     "data": {
      "text/plain": [
       "'i keshav purohit is learning python in detail'"
      ]
     },
     "execution_count": 45,
     "metadata": {},
     "output_type": "execute_result"
    }
   ],
   "source": [
    "\"i keshav purohit is learning python in detail\""
   ]
  },
  {
   "cell_type": "code",
   "execution_count": 46,
   "id": "c92e4cf7-f56f-4e15-a2dd-4cf997d8cf6f",
   "metadata": {},
   "outputs": [
    {
     "data": {
      "text/plain": [
       "'i keshav purohit is learning python in detail'"
      ]
     },
     "execution_count": 46,
     "metadata": {},
     "output_type": "execute_result"
    }
   ],
   "source": [
    "'i keshav purohit is learning python in detail'"
   ]
  },
  {
   "cell_type": "code",
   "execution_count": 48,
   "id": "cde3c76d-7198-48d1-8a4c-82bb606fbf28",
   "metadata": {},
   "outputs": [],
   "source": [
    "s = \"\"\"\"i keshav purohit is learning python in detail\n",
    "i keshav purohit is learning python in detail\n",
    "i keshav purohit is learning python in detail\n",
    "i keshav purohit is learning python in detail\"\"\""
   ]
  },
  {
   "cell_type": "code",
   "execution_count": 49,
   "id": "25d0a009-a60c-4f35-bf1f-86fae78f25a2",
   "metadata": {},
   "outputs": [
    {
     "data": {
      "text/plain": [
       "'\"i keshav purohit is learning python in detail\\ni keshav purohit is learning python in detail\\ni keshav purohit is learning python in detail\\ni keshav purohit is learning python in detail'"
      ]
     },
     "execution_count": 49,
     "metadata": {},
     "output_type": "execute_result"
    }
   ],
   "source": [
    "s"
   ]
  },
  {
   "cell_type": "code",
   "execution_count": 50,
   "id": "18ce29b4-6fe7-407e-8e6a-30c2d5b711bd",
   "metadata": {},
   "outputs": [],
   "source": [
    "s = \"rohitS45\""
   ]
  },
  {
   "cell_type": "code",
   "execution_count": 51,
   "id": "c54f66b2-0bab-4a12-b925-955b43812fb5",
   "metadata": {},
   "outputs": [
    {
     "data": {
      "text/plain": [
       "'54Stihor'"
      ]
     },
     "execution_count": 51,
     "metadata": {},
     "output_type": "execute_result"
    }
   ],
   "source": [
    "s[::-1]\n"
   ]
  },
  {
   "cell_type": "code",
   "execution_count": 52,
   "id": "098cc4f2-80d3-4e87-8db4-87ec6235d151",
   "metadata": {},
   "outputs": [
    {
     "data": {
      "text/plain": [
       "'R'"
      ]
     },
     "execution_count": 52,
     "metadata": {},
     "output_type": "execute_result"
    }
   ],
   "source": [
    "s[-8::-1].upper()"
   ]
  },
  {
   "cell_type": "code",
   "execution_count": 54,
   "id": "d23a87f3-7d4d-415e-9fa4-5605121df146",
   "metadata": {},
   "outputs": [
    {
     "data": {
      "text/plain": [
       "'ROHITS45'"
      ]
     },
     "execution_count": 54,
     "metadata": {},
     "output_type": "execute_result"
    }
   ],
   "source": [
    "s[-8:8:1].upper()"
   ]
  },
  {
   "cell_type": "code",
   "execution_count": 55,
   "id": "6ebb5b3f-ae34-48c8-876b-8ee02c282a60",
   "metadata": {},
   "outputs": [
    {
     "name": "stdout",
     "output_type": "stream",
     "text": [
      "keshav\n"
     ]
    }
   ],
   "source": [
    "s = \"keshav\"\n",
    "print(s)"
   ]
  },
  {
   "cell_type": "code",
   "execution_count": 56,
   "id": "3b0d02f2-3297-43c2-8b9e-329e8d49268f",
   "metadata": {},
   "outputs": [
    {
     "data": {
      "text/plain": [
       "'ahsek'"
      ]
     },
     "execution_count": 56,
     "metadata": {},
     "output_type": "execute_result"
    }
   ],
   "source": [
    "s[-2::-1]"
   ]
  },
  {
   "cell_type": "code",
   "execution_count": 57,
   "id": "090c52ae-e09d-44ae-8489-0386683d34a8",
   "metadata": {},
   "outputs": [
    {
     "data": {
      "text/plain": [
       "'ahsek'"
      ]
     },
     "execution_count": 57,
     "metadata": {},
     "output_type": "execute_result"
    }
   ],
   "source": [
    "s[-2::-1]"
   ]
  },
  {
   "cell_type": "code",
   "execution_count": 58,
   "id": "844d8c94-6735-4edf-808d-3e1d51810511",
   "metadata": {},
   "outputs": [],
   "source": [
    "s4= \"\"\"Iam keshav\n",
    "im in second year\n",
    "i want to learn python\"\"\""
   ]
  },
  {
   "cell_type": "code",
   "execution_count": 59,
   "id": "c7ed8068-a13f-4296-903b-e0c29b77ae77",
   "metadata": {},
   "outputs": [
    {
     "data": {
      "text/plain": [
       "'Iam keshav\\nim in second year\\ni want to learn python'"
      ]
     },
     "execution_count": 59,
     "metadata": {},
     "output_type": "execute_result"
    }
   ],
   "source": [
    "s4\n"
   ]
  },
  {
   "cell_type": "code",
   "execution_count": 60,
   "id": "c51f4cb9-c135-4e7e-8605-b0bb55367b25",
   "metadata": {},
   "outputs": [
    {
     "data": {
      "text/plain": [
       "'vahsek'"
      ]
     },
     "execution_count": 60,
     "metadata": {},
     "output_type": "execute_result"
    }
   ],
   "source": [
    "s[:-8:-1]"
   ]
  },
  {
   "cell_type": "code",
   "execution_count": 61,
   "id": "e3c66d5f-b5ec-4868-acab-075dcca3cd30",
   "metadata": {},
   "outputs": [
    {
     "data": {
      "text/plain": [
       "'keshavkeshavkeshav'"
      ]
     },
     "execution_count": 61,
     "metadata": {},
     "output_type": "execute_result"
    }
   ],
   "source": [
    "s * 3\n"
   ]
  },
  {
   "cell_type": "code",
   "execution_count": 62,
   "id": "c1fc08d7-ed55-4aa3-aebe-1f3304ab49b3",
   "metadata": {},
   "outputs": [
    {
     "data": {
      "text/plain": [
       "'s'"
      ]
     },
     "execution_count": 62,
     "metadata": {},
     "output_type": "execute_result"
    }
   ],
   "source": [
    "s[2:3:1]"
   ]
  },
  {
   "cell_type": "code",
   "execution_count": null,
   "id": "3bb13e3f-7348-4dc8-8e97-06ba8724b087",
   "metadata": {},
   "outputs": [],
   "source": []
  }
 ],
 "metadata": {
  "kernelspec": {
   "display_name": "Python 3 (ipykernel)",
   "language": "python",
   "name": "python3"
  },
  "language_info": {
   "codemirror_mode": {
    "name": "ipython",
    "version": 3
   },
   "file_extension": ".py",
   "mimetype": "text/x-python",
   "name": "python",
   "nbconvert_exporter": "python",
   "pygments_lexer": "ipython3",
   "version": "3.12.7"
  }
 },
 "nbformat": 4,
 "nbformat_minor": 5
}
