{
 "cells": [
  {
   "cell_type": "markdown",
   "id": "7f1899f7-8241-4923-8ad9-6d4802a929d0",
   "metadata": {},
   "source": [
    "## STRING"
   ]
  },
  {
   "cell_type": "code",
   "execution_count": 1,
   "id": "7553479f-56de-4fca-93e0-a7727b413c0e",
   "metadata": {},
   "outputs": [],
   "source": [
    "#string is a sequence of character>represent and manipulate textual data\n",
    "#characters are represented using numerical values>> each character is assigned a unique no\n",
    "#ASCII (7 bits) and UNICODE (16 bits)>>ascii>>2to power8>>128 character has been encoded whereas utf is 2 to power 16, almost covered every character of every langauage\n",
    "#UTF-8, UTF 16 >> popular encoding schemes for unicode>>widely accepeted in industry\n",
    "#ASCII>>American Standard Code for Information Interchange\n",
    "#UTF(unicode transformation format)"
   ]
  },
  {
   "cell_type": "code",
   "execution_count": 2,
   "id": "aac1043d-6f7c-4a06-83a4-3217be35a7de",
   "metadata": {},
   "outputs": [
    {
     "data": {
      "text/plain": [
       "65"
      ]
     },
     "execution_count": 2,
     "metadata": {},
     "output_type": "execute_result"
    }
   ],
   "source": [
    "#ASCII representation\n",
    "char = \"A\"\n",
    "ord(char) #ord>>ordinal, means what is numerical order of character"
   ]
  },
  {
   "cell_type": "code",
   "execution_count": 3,
   "id": "2b6ce4c3-4d1a-451f-ba47-af18b5fce415",
   "metadata": {},
   "outputs": [
    {
     "data": {
      "text/plain": [
       "'A'"
      ]
     },
     "execution_count": 3,
     "metadata": {},
     "output_type": "execute_result"
    }
   ],
   "source": [
    "chr(65) #character>> give the character corresponding to that no"
   ]
  },
  {
   "cell_type": "code",
   "execution_count": 4,
   "id": "c3b184d1-1e8c-4839-9e52-c1da0f107a02",
   "metadata": {},
   "outputs": [
    {
     "data": {
      "text/plain": [
       "97"
      ]
     },
     "execution_count": 4,
     "metadata": {},
     "output_type": "execute_result"
    }
   ],
   "source": [
    "ord(\"a\")"
   ]
  },
  {
   "cell_type": "code",
   "execution_count": 5,
   "id": "c50241a8-29f0-44fc-85b4-37bed15b1188",
   "metadata": {},
   "outputs": [
    {
     "data": {
      "text/plain": [
       "'a'"
      ]
     },
     "execution_count": 5,
     "metadata": {},
     "output_type": "execute_result"
    }
   ],
   "source": [
    "chr(97)"
   ]
  },
  {
   "cell_type": "code",
   "execution_count": 6,
   "id": "33b60a8a-1f39-4f26-ab01-703fe5ae656d",
   "metadata": {},
   "outputs": [
    {
     "data": {
      "text/plain": [
       "'B'"
      ]
     },
     "execution_count": 6,
     "metadata": {},
     "output_type": "execute_result"
    }
   ],
   "source": [
    "chr(66)"
   ]
  },
  {
   "cell_type": "code",
   "execution_count": 7,
   "id": "c2d78a09-b069-439c-92b5-b6fbc1c247ce",
   "metadata": {},
   "outputs": [
    {
     "data": {
      "text/plain": [
       "66"
      ]
     },
     "execution_count": 7,
     "metadata": {},
     "output_type": "execute_result"
    }
   ],
   "source": [
    "ord(\"B\")"
   ]
  },
  {
   "cell_type": "code",
   "execution_count": 8,
   "id": "efa7f3e4-03e7-4d94-91b1-e3c0c6de795f",
   "metadata": {},
   "outputs": [],
   "source": [
    "#UNICODE REPRESENTATION\n",
    "#Omega"
   ]
  },
  {
   "cell_type": "code",
   "execution_count": 9,
   "id": "6bbfa1e5-2048-47d8-bbdf-50b886e5eb04",
   "metadata": {},
   "outputs": [
    {
     "data": {
      "text/plain": [
       "'Ω'"
      ]
     },
     "execution_count": 9,
     "metadata": {},
     "output_type": "execute_result"
    }
   ],
   "source": [
    "'\\u03A9'"
   ]
  },
  {
   "cell_type": "code",
   "execution_count": 10,
   "id": "559e3f25-ed8d-491b-a626-6de3b1fa365a",
   "metadata": {},
   "outputs": [
    {
     "data": {
      "text/plain": [
       "'Σ'"
      ]
     },
     "execution_count": 10,
     "metadata": {},
     "output_type": "execute_result"
    }
   ],
   "source": [
    "'\\u03A3'"
   ]
  },
  {
   "cell_type": "code",
   "execution_count": 11,
   "id": "b2de6424-ec49-4986-b19a-22f4fd4a86a2",
   "metadata": {},
   "outputs": [
    {
     "data": {
      "text/plain": [
       "'ॳ'"
      ]
     },
     "execution_count": 11,
     "metadata": {},
     "output_type": "execute_result"
    }
   ],
   "source": [
    "'\\u0973'"
   ]
  },
  {
   "cell_type": "code",
   "execution_count": 12,
   "id": "6a438c63-5e4c-475e-9b50-4fad2be3b706",
   "metadata": {},
   "outputs": [
    {
     "data": {
      "text/plain": [
       "'ॴ'"
      ]
     },
     "execution_count": 12,
     "metadata": {},
     "output_type": "execute_result"
    }
   ],
   "source": [
    "'\\u0974'"
   ]
  },
  {
   "cell_type": "code",
   "execution_count": 13,
   "id": "080c7c25-7796-4d1f-83a0-06d6de90620f",
   "metadata": {},
   "outputs": [
    {
     "data": {
      "text/plain": [
       "'ॵ'"
      ]
     },
     "execution_count": 13,
     "metadata": {},
     "output_type": "execute_result"
    }
   ],
   "source": [
    "'\\u0975'"
   ]
  },
  {
   "cell_type": "code",
   "execution_count": 14,
   "id": "4749db9d-fae6-4235-9bb7-cfc274f279ea",
   "metadata": {},
   "outputs": [
    {
     "data": {
      "text/plain": [
       "'Τ'"
      ]
     },
     "execution_count": 14,
     "metadata": {},
     "output_type": "execute_result"
    }
   ],
   "source": [
    "'\\u03A4'"
   ]
  },
  {
   "cell_type": "code",
   "execution_count": 15,
   "id": "60f10f28-3c89-4d2b-9468-9def1afbe2b0",
   "metadata": {},
   "outputs": [],
   "source": [
    "#strings\n",
    "string1 = \"KESHAV\""
   ]
  },
  {
   "cell_type": "code",
   "execution_count": 16,
   "id": "dec75751-df1a-43a3-89e5-adfd473187eb",
   "metadata": {},
   "outputs": [
    {
     "data": {
      "text/plain": [
       "'KESHAV'"
      ]
     },
     "execution_count": 16,
     "metadata": {},
     "output_type": "execute_result"
    }
   ],
   "source": [
    "string1"
   ]
  },
  {
   "cell_type": "code",
   "execution_count": 17,
   "id": "b37635a8-d5e0-4775-98e3-7ab6d4860eb9",
   "metadata": {},
   "outputs": [
    {
     "data": {
      "text/plain": [
       "str"
      ]
     },
     "execution_count": 17,
     "metadata": {},
     "output_type": "execute_result"
    }
   ],
   "source": [
    "type(string1)"
   ]
  },
  {
   "cell_type": "code",
   "execution_count": 18,
   "id": "d4196026-da87-43c2-9e33-237813ebe917",
   "metadata": {},
   "outputs": [
    {
     "data": {
      "text/plain": [
       "\"I'm a student\""
      ]
     },
     "execution_count": 18,
     "metadata": {},
     "output_type": "execute_result"
    }
   ],
   "source": [
    "\"I'm a student\""
   ]
  },
  {
   "cell_type": "code",
   "execution_count": 19,
   "id": "98246a0a-aaeb-4217-8533-bb2356c92626",
   "metadata": {},
   "outputs": [
    {
     "ename": "SyntaxError",
     "evalue": "unterminated string literal (detected at line 2) (530670299.py, line 2)",
     "output_type": "error",
     "traceback": [
      "\u001b[1;36m  Cell \u001b[1;32mIn[19], line 2\u001b[1;36m\u001b[0m\n\u001b[1;33m    \"I'm a student\u001b[0m\n\u001b[1;37m    ^\u001b[0m\n\u001b[1;31mSyntaxError\u001b[0m\u001b[1;31m:\u001b[0m unterminated string literal (detected at line 2)\n"
     ]
    }
   ],
   "source": [
    "#it will give you error\n",
    "\"I'm a student "
   ]
  },
  {
   "cell_type": "code",
   "execution_count": 20,
   "id": "4f164b77-9893-4d91-87d4-0ac5b3d2d8e4",
   "metadata": {},
   "outputs": [
    {
     "data": {
      "text/plain": [
       "'I\"m a student'"
      ]
     },
     "execution_count": 20,
     "metadata": {},
     "output_type": "execute_result"
    }
   ],
   "source": [
    "\"\"\"I\"m a student\"\"\""
   ]
  },
  {
   "cell_type": "code",
   "execution_count": 21,
   "id": "2dfc90c7-cb4f-403e-acb6-f60030f65a45",
   "metadata": {},
   "outputs": [
    {
     "data": {
      "text/plain": [
       "'I\"m a student'"
      ]
     },
     "execution_count": 21,
     "metadata": {},
     "output_type": "execute_result"
    }
   ],
   "source": [
    "'''I\"m a student'''"
   ]
  },
  {
   "cell_type": "code",
   "execution_count": 22,
   "id": "463d2477-0476-4af4-b4f9-f39c858f29ad",
   "metadata": {},
   "outputs": [
    {
     "data": {
      "text/plain": [
       "'I\"m a student\\nI study in RCOEM\\nI am a data scientist'"
      ]
     },
     "execution_count": 22,
     "metadata": {},
     "output_type": "execute_result"
    }
   ],
   "source": [
    "'''I\"m a student\n",
    "I study in RCOEM\n",
    "I am a data scientist'''"
   ]
  },
  {
   "cell_type": "code",
   "execution_count": 23,
   "id": "7c791086-6285-4188-8ccb-90cc9b7902fb",
   "metadata": {},
   "outputs": [],
   "source": [
    "#concatenation of string>> combination of two string"
   ]
  },
  {
   "cell_type": "code",
   "execution_count": 24,
   "id": "d08acfa1-5ae2-4515-a604-b5dada717332",
   "metadata": {},
   "outputs": [
    {
     "data": {
      "text/plain": [
       "'Hello world'"
      ]
     },
     "execution_count": 24,
     "metadata": {},
     "output_type": "execute_result"
    }
   ],
   "source": [
    "\"Hello\" + \" world\""
   ]
  },
  {
   "cell_type": "code",
   "execution_count": 25,
   "id": "9e92c390-368c-4b85-9a7c-b3d9a4515a75",
   "metadata": {},
   "outputs": [
    {
     "ename": "TypeError",
     "evalue": "unsupported operand type(s) for -: 'str' and 'str'",
     "output_type": "error",
     "traceback": [
      "\u001b[1;31m---------------------------------------------------------------------------\u001b[0m",
      "\u001b[1;31mTypeError\u001b[0m                                 Traceback (most recent call last)",
      "Cell \u001b[1;32mIn[25], line 1\u001b[0m\n\u001b[1;32m----> 1\u001b[0m \u001b[38;5;124m\"\u001b[39m\u001b[38;5;124mHello\u001b[39m\u001b[38;5;124m\"\u001b[39m \u001b[38;5;241m-\u001b[39m \u001b[38;5;124m\"\u001b[39m\u001b[38;5;124m world\u001b[39m\u001b[38;5;124m\"\u001b[39m\n",
      "\u001b[1;31mTypeError\u001b[0m: unsupported operand type(s) for -: 'str' and 'str'"
     ]
    }
   ],
   "source": [
    "\"Hello\" - \" world\" #it will give you error"
   ]
  },
  {
   "cell_type": "code",
   "execution_count": null,
   "id": "c0090e5f-7642-4d2a-a5d1-55beb81530f9",
   "metadata": {},
   "outputs": [],
   "source": []
  },
  {
   "cell_type": "code",
   "execution_count": 26,
   "id": "bf25d401-20d1-4211-b783-cd2272674420",
   "metadata": {},
   "outputs": [
    {
     "data": {
      "text/plain": [
       "'hello, world!'"
      ]
     },
     "execution_count": 26,
     "metadata": {},
     "output_type": "execute_result"
    }
   ],
   "source": [
    "string1 = \"hello\"\n",
    "string2 = \"world!\"\n",
    "string1 + \", \"+string2"
   ]
  },
  {
   "cell_type": "code",
   "execution_count": 27,
   "id": "0172316d-573f-4905-8882-ba31988ae530",
   "metadata": {},
   "outputs": [
    {
     "data": {
      "text/plain": [
       "'string>>concatenation'"
      ]
     },
     "execution_count": 27,
     "metadata": {},
     "output_type": "execute_result"
    }
   ],
   "source": [
    "\"string\" + \">>\" +\"concatenation\""
   ]
  },
  {
   "cell_type": "code",
   "execution_count": 28,
   "id": "b8b4f71f-f382-4451-804a-d555da3fdbe6",
   "metadata": {},
   "outputs": [
    {
     "data": {
      "text/plain": [
       "'string >> concatenation'"
      ]
     },
     "execution_count": 28,
     "metadata": {},
     "output_type": "execute_result"
    }
   ],
   "source": [
    "\"string\" + \" >> \" +\"concatenation\""
   ]
  },
  {
   "cell_type": "code",
   "execution_count": 29,
   "id": "5f7047a4-c3eb-49e6-ba20-4c0c07bf2e86",
   "metadata": {},
   "outputs": [
    {
     "data": {
      "text/plain": [
       "'string >$ concatenation'"
      ]
     },
     "execution_count": 29,
     "metadata": {},
     "output_type": "execute_result"
    }
   ],
   "source": [
    "\"string\" + \" >$ \" +\"concatenation\""
   ]
  },
  {
   "cell_type": "code",
   "execution_count": 30,
   "id": "1cbbfc46-b0e8-472c-a694-099ebd1c9efd",
   "metadata": {},
   "outputs": [
    {
     "data": {
      "text/plain": [
       "'A'"
      ]
     },
     "execution_count": 30,
     "metadata": {},
     "output_type": "execute_result"
    }
   ],
   "source": [
    "#Extract/slicing of string\n",
    "a = \"Ajay\"\n",
    "a[0]"
   ]
  },
  {
   "cell_type": "code",
   "execution_count": 31,
   "id": "2b5023a7-4929-446b-ab07-502f16a76bdb",
   "metadata": {},
   "outputs": [
    {
     "data": {
      "text/plain": [
       "'j'"
      ]
     },
     "execution_count": 31,
     "metadata": {},
     "output_type": "execute_result"
    }
   ],
   "source": [
    "a[1]"
   ]
  },
  {
   "cell_type": "code",
   "execution_count": 32,
   "id": "674371e9-6173-4c11-b305-ddd3b74f3b9c",
   "metadata": {},
   "outputs": [
    {
     "data": {
      "text/plain": [
       "'y'"
      ]
     },
     "execution_count": 32,
     "metadata": {},
     "output_type": "execute_result"
    }
   ],
   "source": [
    "a[-1]"
   ]
  },
  {
   "cell_type": "code",
   "execution_count": 33,
   "id": "2b51e9ed-5bad-4ed8-9889-5c3ed6a3f87b",
   "metadata": {},
   "outputs": [
    {
     "data": {
      "text/plain": [
       "'y'"
      ]
     },
     "execution_count": 33,
     "metadata": {},
     "output_type": "execute_result"
    }
   ],
   "source": [
    "a[3]"
   ]
  },
  {
   "cell_type": "code",
   "execution_count": 34,
   "id": "02d79a10-66ed-4a29-ba8c-9ad8f2775a4a",
   "metadata": {},
   "outputs": [
    {
     "ename": "IndexError",
     "evalue": "string index out of range",
     "output_type": "error",
     "traceback": [
      "\u001b[1;31m---------------------------------------------------------------------------\u001b[0m",
      "\u001b[1;31mIndexError\u001b[0m                                Traceback (most recent call last)",
      "Cell \u001b[1;32mIn[34], line 1\u001b[0m\n\u001b[1;32m----> 1\u001b[0m a[\u001b[38;5;241m4\u001b[39m]\n",
      "\u001b[1;31mIndexError\u001b[0m: string index out of range"
     ]
    }
   ],
   "source": [
    "a[4] #it will throw an error as 4th index doesnt exist"
   ]
  },
  {
   "cell_type": "code",
   "execution_count": 39,
   "id": "696422b1-3d08-4d6a-8423-6b4f5562e5e8",
   "metadata": {},
   "outputs": [
    {
     "data": {
      "text/plain": [
       "'Id  '"
      ]
     },
     "execution_count": 39,
     "metadata": {},
     "output_type": "execute_result"
    }
   ],
   "source": [
    "string1 = \"Id  am a goodstudent\"\n",
    "string1[0:4] #4 is exclusive [a, b]>>it will give result till b-1 index"
   ]
  },
  {
   "cell_type": "code",
   "execution_count": 40,
   "id": "1489c166-da46-40cb-a845-2d70f0796a83",
   "metadata": {},
   "outputs": [
    {
     "data": {
      "text/plain": [
       "'Id  am'"
      ]
     },
     "execution_count": 40,
     "metadata": {},
     "output_type": "execute_result"
    }
   ],
   "source": [
    "string1 = \"Id  am a goodstudent\"\n",
    "string1[0:6] "
   ]
  },
  {
   "cell_type": "code",
   "execution_count": 41,
   "id": "17e96fa7-9c08-4a69-9149-46c22c63011f",
   "metadata": {},
   "outputs": [
    {
     "data": {
      "text/plain": [
       "'m a goo'"
      ]
     },
     "execution_count": 41,
     "metadata": {},
     "output_type": "execute_result"
    }
   ],
   "source": [
    "string1[5:12]"
   ]
  },
  {
   "cell_type": "code",
   "execution_count": 42,
   "id": "0a367c41-13d9-463f-9970-aa592bf7d0f2",
   "metadata": {},
   "outputs": [
    {
     "data": {
      "text/plain": [
       "'Id  am a goodstudent'"
      ]
     },
     "execution_count": 42,
     "metadata": {},
     "output_type": "execute_result"
    }
   ],
   "source": [
    "string1[0:]#start_index:end_index>> if you not provide end idex, it will be default give substring till the last index"
   ]
  },
  {
   "cell_type": "code",
   "execution_count": 43,
   "id": "3ca2c520-d463-44c6-b2dd-d8f78aa6a8f4",
   "metadata": {},
   "outputs": [
    {
     "data": {
      "text/plain": [
       "' am a goodstudent'"
      ]
     },
     "execution_count": 43,
     "metadata": {},
     "output_type": "execute_result"
    }
   ],
   "source": [
    "string1[3:]"
   ]
  },
  {
   "cell_type": "code",
   "execution_count": 44,
   "id": "68e2a0f4-1835-40cf-8f94-7f91db1c8ca9",
   "metadata": {},
   "outputs": [],
   "source": [
    "strings2 = \"rcoem-rbu\""
   ]
  },
  {
   "cell_type": "code",
   "execution_count": 45,
   "id": "cb0dacb2-f7bd-4f27-a17c-cf9882853506",
   "metadata": {},
   "outputs": [
    {
     "data": {
      "text/plain": [
       "'c'"
      ]
     },
     "execution_count": 45,
     "metadata": {},
     "output_type": "execute_result"
    }
   ],
   "source": [
    "strings2[1]"
   ]
  },
  {
   "cell_type": "code",
   "execution_count": 46,
   "id": "2b5abf18-cfed-4526-85e7-0dfff887d263",
   "metadata": {},
   "outputs": [
    {
     "data": {
      "text/plain": [
       "'u'"
      ]
     },
     "execution_count": 46,
     "metadata": {},
     "output_type": "execute_result"
    }
   ],
   "source": [
    "strings2[-1]"
   ]
  },
  {
   "cell_type": "code",
   "execution_count": 47,
   "id": "aa7071a7-6ffb-419d-9b64-e4587a7db8be",
   "metadata": {},
   "outputs": [
    {
     "data": {
      "text/plain": [
       "'b'"
      ]
     },
     "execution_count": 47,
     "metadata": {},
     "output_type": "execute_result"
    }
   ],
   "source": [
    "strings2[-2]"
   ]
  },
  {
   "cell_type": "code",
   "execution_count": 48,
   "id": "aeadf684-ac00-45a0-8a33-4e8424622e22",
   "metadata": {},
   "outputs": [
    {
     "data": {
      "text/plain": [
       "'rcoem-rbu'"
      ]
     },
     "execution_count": 48,
     "metadata": {},
     "output_type": "execute_result"
    }
   ],
   "source": [
    "strings2"
   ]
  },
  {
   "cell_type": "code",
   "execution_count": 49,
   "id": "5c92b2c7-bcdd-4e92-8c0a-4e087b18c3f6",
   "metadata": {},
   "outputs": [
    {
     "data": {
      "text/plain": [
       "'rcoem-'"
      ]
     },
     "execution_count": 49,
     "metadata": {},
     "output_type": "execute_result"
    }
   ],
   "source": [
    "#except the last three character\n",
    "strings2[:-3]"
   ]
  },
  {
   "cell_type": "code",
   "execution_count": 50,
   "id": "10e53713-2086-4449-afb4-10b52b152d02",
   "metadata": {},
   "outputs": [
    {
     "data": {
      "text/plain": [
       "'rbu'"
      ]
     },
     "execution_count": 50,
     "metadata": {},
     "output_type": "execute_result"
    }
   ],
   "source": [
    "#you want only last characters\n",
    "strings2[-3:]"
   ]
  },
  {
   "cell_type": "code",
   "execution_count": 51,
   "id": "5aec00ec-224c-4bc4-be80-5c826a600150",
   "metadata": {},
   "outputs": [],
   "source": [
    "string2 = \"hello world!\""
   ]
  },
  {
   "cell_type": "code",
   "execution_count": 52,
   "id": "bedb6c79-f607-4cd5-9b45-82c17235d447",
   "metadata": {},
   "outputs": [
    {
     "data": {
      "text/plain": [
       "'hello'"
      ]
     },
     "execution_count": 52,
     "metadata": {},
     "output_type": "execute_result"
    }
   ],
   "source": [
    "string2[0:5:1] #by default step is 1 "
   ]
  },
  {
   "cell_type": "code",
   "execution_count": 53,
   "id": "425b48fd-345d-46c3-b1e1-dcc9d7f22243",
   "metadata": {},
   "outputs": [
    {
     "data": {
      "text/plain": [
       "'hlo'"
      ]
     },
     "execution_count": 53,
     "metadata": {},
     "output_type": "execute_result"
    }
   ],
   "source": [
    "string2[0:5:2]#syntax>> [start:end:step]"
   ]
  },
  {
   "cell_type": "code",
   "execution_count": 54,
   "id": "f72ba532-893a-4c64-b15c-ecd5418b8ef5",
   "metadata": {},
   "outputs": [
    {
     "data": {
      "text/plain": [
       "'hello world!'"
      ]
     },
     "execution_count": 54,
     "metadata": {},
     "output_type": "execute_result"
    }
   ],
   "source": [
    "string2[::1]"
   ]
  },
  {
   "cell_type": "code",
   "execution_count": 55,
   "id": "2f34e529-d5cc-4595-8ce9-02cf189f89fb",
   "metadata": {},
   "outputs": [
    {
     "data": {
      "text/plain": [
       "'hlowrd'"
      ]
     },
     "execution_count": 55,
     "metadata": {},
     "output_type": "execute_result"
    }
   ],
   "source": [
    "string2[::2]"
   ]
  },
  {
   "cell_type": "code",
   "execution_count": 56,
   "id": "88032dee-544d-4ef2-9460-459ffade1e92",
   "metadata": {},
   "outputs": [
    {
     "data": {
      "text/plain": [
       "'hello world!'"
      ]
     },
     "execution_count": 56,
     "metadata": {},
     "output_type": "execute_result"
    }
   ],
   "source": [
    "string2"
   ]
  },
  {
   "cell_type": "code",
   "execution_count": 57,
   "id": "a7c4fca8-c599-42cd-b131-f737e42ee61a",
   "metadata": {},
   "outputs": [
    {
     "data": {
      "text/plain": [
       "'!dlrow olleh'"
      ]
     },
     "execution_count": 57,
     "metadata": {},
     "output_type": "execute_result"
    }
   ],
   "source": [
    " #iterate over the sequence in reverse order\n",
    "#it means start from the end, move to beginning an dstep backwards by one character\n",
    "string2[::-1]"
   ]
  },
  {
   "cell_type": "code",
   "execution_count": 58,
   "id": "874b20a0-e037-40ab-a597-ba6a0d64832f",
   "metadata": {},
   "outputs": [],
   "source": [
    "#strings are immuatble"
   ]
  },
  {
   "cell_type": "code",
   "execution_count": 59,
   "id": "71449780-7804-4e73-9f5c-852e1c75c8ba",
   "metadata": {},
   "outputs": [
    {
     "data": {
      "text/plain": [
       "'d'"
      ]
     },
     "execution_count": 59,
     "metadata": {},
     "output_type": "execute_result"
    }
   ],
   "source": [
    "s = \"data_analyst\"\n",
    "s[0]"
   ]
  },
  {
   "cell_type": "code",
   "execution_count": 60,
   "id": "2010f036-140f-4313-bb08-e8fb6189b56f",
   "metadata": {},
   "outputs": [
    {
     "ename": "TypeError",
     "evalue": "'str' object does not support item assignment",
     "output_type": "error",
     "traceback": [
      "\u001b[1;31m---------------------------------------------------------------------------\u001b[0m",
      "\u001b[1;31mTypeError\u001b[0m                                 Traceback (most recent call last)",
      "Cell \u001b[1;32mIn[60], line 1\u001b[0m\n\u001b[1;32m----> 1\u001b[0m s[\u001b[38;5;241m0\u001b[39m] \u001b[38;5;241m=\u001b[39m \u001b[38;5;124m\"\u001b[39m\u001b[38;5;124ma\u001b[39m\u001b[38;5;124m\"\u001b[39m\n",
      "\u001b[1;31mTypeError\u001b[0m: 'str' object does not support item assignment"
     ]
    }
   ],
   "source": [
    "s[0] = \"a\""
   ]
  },
  {
   "cell_type": "code",
   "execution_count": 61,
   "id": "062799f3-e5a4-4a08-9c25-33d4f3873a40",
   "metadata": {},
   "outputs": [
    {
     "data": {
      "text/plain": [
       "'data_analyst'"
      ]
     },
     "execution_count": 61,
     "metadata": {},
     "output_type": "execute_result"
    }
   ],
   "source": [
    "s"
   ]
  },
  {
   "cell_type": "code",
   "execution_count": 62,
   "id": "8b3a77ae-00ca-4180-9fb3-27d400e84b8a",
   "metadata": {},
   "outputs": [
    {
     "data": {
      "text/plain": [
       "12"
      ]
     },
     "execution_count": 62,
     "metadata": {},
     "output_type": "execute_result"
    }
   ],
   "source": [
    "#no of characters\n",
    "len(s)"
   ]
  },
  {
   "cell_type": "code",
   "execution_count": 63,
   "id": "1c8cf387-e576-4ec3-8abc-2f36f0d3c391",
   "metadata": {},
   "outputs": [
    {
     "data": {
      "text/plain": [
       "14"
      ]
     },
     "execution_count": 63,
     "metadata": {},
     "output_type": "execute_result"
    }
   ],
   "source": [
    "s = \"I am a student\"\n",
    "len(s)"
   ]
  },
  {
   "cell_type": "code",
   "execution_count": 64,
   "id": "7e56a6c1-fe33-4822-b240-0b296a887061",
   "metadata": {},
   "outputs": [
    {
     "data": {
      "text/plain": [
       "'I am a teacher'"
      ]
     },
     "execution_count": 64,
     "metadata": {},
     "output_type": "execute_result"
    }
   ],
   "source": [
    "#modification of string\n",
    "s = \"I am a student\"\n",
    "s.replace(\"student\", \"teacher\")"
   ]
  },
  {
   "cell_type": "code",
   "execution_count": 65,
   "id": "74e0c411-2619-49ef-9cd6-49984e15ffc8",
   "metadata": {},
   "outputs": [
    {
     "data": {
      "text/plain": [
       "'123 sneh nagar ,jaiprakash nagar , nagpur'"
      ]
     },
     "execution_count": 65,
     "metadata": {},
     "output_type": "execute_result"
    }
   ],
   "source": [
    "#use case\n",
    "address = \"123 sneh nagar ,jaiprakash nagar , nagpur\"\n",
    "address"
   ]
  },
  {
   "cell_type": "code",
   "execution_count": 66,
   "id": "dec6cae2-0fde-45f9-910f-07a7ae2fbc17",
   "metadata": {},
   "outputs": [
    {
     "data": {
      "text/plain": [
       "'123 sneh nagar ,jaiprakash nagar , nagpur'"
      ]
     },
     "execution_count": 66,
     "metadata": {},
     "output_type": "execute_result"
    }
   ],
   "source": [
    "address.replace(\"apt\", \"apartment\")"
   ]
  },
  {
   "cell_type": "code",
   "execution_count": 67,
   "id": "9c7592b0-8501-4f83-a9b8-9942d93a3ee4",
   "metadata": {},
   "outputs": [
    {
     "data": {
      "text/plain": [
       "'Be right back, talk to you later, Laughing out loud'"
      ]
     },
     "execution_count": 67,
     "metadata": {},
     "output_type": "execute_result"
    }
   ],
   "source": [
    "text = \"BRB, TTYL, LOL\"\n",
    "text.replace(\"BRB\", \"Be right back\").replace(\"TTYL\",\"talk to you later\").replace(\"LOL\", \"Laughing out loud\")"
   ]
  },
  {
   "cell_type": "code",
   "execution_count": 68,
   "id": "273f29ba-538a-4742-a6af-1bbb9b5222b5",
   "metadata": {},
   "outputs": [
    {
     "data": {
      "text/plain": [
       "'hello world'"
      ]
     },
     "execution_count": 68,
     "metadata": {},
     "output_type": "execute_result"
    }
   ],
   "source": [
    "text = \"Hello World\"\n",
    "text.lower()"
   ]
  },
  {
   "cell_type": "code",
   "execution_count": 69,
   "id": "d1adebbc-2eae-46af-ba51-c49228c07ce3",
   "metadata": {},
   "outputs": [
    {
     "data": {
      "text/plain": [
       "'HELLO WORLD'"
      ]
     },
     "execution_count": 69,
     "metadata": {},
     "output_type": "execute_result"
    }
   ],
   "source": [
    "text.upper()"
   ]
  },
  {
   "cell_type": "code",
   "execution_count": 70,
   "id": "52521299-d2f2-41d2-8b4e-63220b7596d5",
   "metadata": {},
   "outputs": [
    {
     "data": {
      "text/plain": [
       "'Hello World'"
      ]
     },
     "execution_count": 70,
     "metadata": {},
     "output_type": "execute_result"
    }
   ],
   "source": [
    "text.title()"
   ]
  },
  {
   "cell_type": "code",
   "execution_count": 71,
   "id": "1582de0b-2fba-495d-8d5a-a182d57d92de",
   "metadata": {},
   "outputs": [
    {
     "data": {
      "text/plain": [
       "' iAM A sTUDENT'"
      ]
     },
     "execution_count": 71,
     "metadata": {},
     "output_type": "execute_result"
    }
   ],
   "source": [
    "text = \" Iam a Student\"\n",
    "text.swapcase()"
   ]
  },
  {
   "cell_type": "code",
   "execution_count": 72,
   "id": "e60d16f1-b332-44f9-b8a0-c7f0333876f6",
   "metadata": {},
   "outputs": [
    {
     "data": {
      "text/plain": [
       "' iam a student'"
      ]
     },
     "execution_count": 72,
     "metadata": {},
     "output_type": "execute_result"
    }
   ],
   "source": [
    "text.capitalize()"
   ]
  },
  {
   "cell_type": "code",
   "execution_count": 74,
   "id": "833515ce-08a7-4d1a-916f-1e5f9291e167",
   "metadata": {},
   "outputs": [
    {
     "data": {
      "text/plain": [
       "True"
      ]
     },
     "execution_count": 74,
     "metadata": {},
     "output_type": "execute_result"
    }
   ],
   "source": [
    "#string searching\n",
    "sentence = \"I am a student at pwskills\"\n",
    "\"am\" in sentence"
   ]
  },
  {
   "cell_type": "code",
   "execution_count": 75,
   "id": "303877f8-5f21-4ac8-b80b-f94c6c56616d",
   "metadata": {},
   "outputs": [
    {
     "name": "stdout",
     "output_type": "stream",
     "text": [
      "Not present\n"
     ]
    }
   ],
   "source": [
    "sentence = \"I am a student at pwskills\"\n",
    "search_word = \"mat\"\n",
    "if search_word in sentence:\n",
    "    print(\"The search word is present\")\n",
    "else:\n",
    "    print(\"Not present\")"
   ]
  },
  {
   "cell_type": "code",
   "execution_count": 76,
   "id": "f5ba2e17-3c4a-4c90-bbc4-9934c9dd161e",
   "metadata": {},
   "outputs": [
    {
     "name": "stdout",
     "output_type": "stream",
     "text": [
      "valid email\n"
     ]
    }
   ],
   "source": [
    "email = \"ajay123@gmail.com\"\n",
    "if \"@\" in email:\n",
    "    print(\"valid email\")\n",
    "else:\n",
    "    print(\"Invalid email\")"
   ]
  },
  {
   "cell_type": "code",
   "execution_count": 77,
   "id": "2f581018-bb78-4b2c-8c43-e699e7a6bcc3",
   "metadata": {},
   "outputs": [
    {
     "name": "stdout",
     "output_type": "stream",
     "text": [
      "Its a pdf file\n"
     ]
    }
   ],
   "source": [
    "document = \"some_file.pdf\"\n",
    "if \".pdf\" in document:\n",
    "    print(\"Its a pdf file\")\n",
    "else:\n",
    "    print(\"Not a pdf file\")"
   ]
  },
  {
   "cell_type": "code",
   "execution_count": 78,
   "id": "26596bb8-7dd9-4cf2-b2e6-8e36b9860df8",
   "metadata": {},
   "outputs": [
    {
     "data": {
      "text/plain": [
       "True"
      ]
     },
     "execution_count": 78,
     "metadata": {},
     "output_type": "execute_result"
    }
   ],
   "source": [
    "#string comparison\n",
    "str1 = \"hello\"\n",
    "str2 = \"hello\"\n",
    "str1 == str2"
   ]
  },
  {
   "cell_type": "code",
   "execution_count": 79,
   "id": "829883a0-af25-4c2a-b769-9dd22223d2a3",
   "metadata": {},
   "outputs": [
    {
     "data": {
      "text/plain": [
       "False"
      ]
     },
     "execution_count": 79,
     "metadata": {},
     "output_type": "execute_result"
    }
   ],
   "source": [
    "str1 = \"Hello\"\n",
    "str2 = \"hello\"\n",
    "str1 == str2"
   ]
  },
  {
   "cell_type": "code",
   "execution_count": 80,
   "id": "d3739b6d-d783-4583-af88-dd39c395c9c3",
   "metadata": {},
   "outputs": [
    {
     "data": {
      "text/plain": [
       "True"
      ]
     },
     "execution_count": 80,
     "metadata": {},
     "output_type": "execute_result"
    }
   ],
   "source": [
    "str1 = \"Hello\"\n",
    "str2 = \"hello\"\n",
    "str1.lower() == str2.lower()"
   ]
  },
  {
   "cell_type": "code",
   "execution_count": 81,
   "id": "04aea477-e819-4727-823e-7d44218a2879",
   "metadata": {},
   "outputs": [
    {
     "name": "stdout",
     "output_type": "stream",
     "text": [
      "username is available\n"
     ]
    }
   ],
   "source": [
    "reg_username = [\"pw\", \"PW\", \"pW\"]\n",
    "new_user = \"PW1\"\n",
    "if new_user in reg_username:\n",
    "    print(\"already in use\")\n",
    "else:\n",
    "    print(\"username is available\")"
   ]
  },
  {
   "cell_type": "code",
   "execution_count": 82,
   "id": "43670df3-2422-45dd-9ba1-238b1bbc618b",
   "metadata": {},
   "outputs": [
    {
     "name": "stdin",
     "output_type": "stream",
     "text": [
      "scan the product code p123\n"
     ]
    },
    {
     "name": "stdout",
     "output_type": "stream",
     "text": [
      "Talk to receptionist\n"
     ]
    }
   ],
   "source": [
    "product_code = \"P123\"\n",
    "scanned_code = input(\"scan the product code\")\n",
    "if product_code == scanned_code:\n",
    "    print(\"The price is 100\")\n",
    "else:\n",
    "    print(\"Talk to receptionist\")"
   ]
  },
  {
   "cell_type": "code",
   "execution_count": 83,
   "id": "2b888473-8acc-4170-b963-9bada1dc2922",
   "metadata": {},
   "outputs": [
    {
     "name": "stdin",
     "output_type": "stream",
     "text": [
      "scan the product code P123\n"
     ]
    },
    {
     "name": "stdout",
     "output_type": "stream",
     "text": [
      "The price is 100\n"
     ]
    }
   ],
   "source": [
    "product_code = \"P123\"\n",
    "scanned_code = input(\"scan the product code\")\n",
    "if product_code == scanned_code:\n",
    "    print(\"The price is 100\")\n",
    "else:\n",
    "    print(\"Talk to receptionist\")"
   ]
  },
  {
   "cell_type": "code",
   "execution_count": 84,
   "id": "4a7cf9a5-c5de-4111-9537-8b2359e55137",
   "metadata": {},
   "outputs": [
    {
     "data": {
      "text/plain": [
       "['Ajay', 'Bijay', 'Sanjay']"
      ]
     },
     "execution_count": 84,
     "metadata": {},
     "output_type": "execute_result"
    }
   ],
   "source": [
    "#STRING ORDERING\n",
    "name = [\"Ajay\", \"Sanjay\", \"Bijay\"]\n",
    "sorted(name)"
   ]
  },
  {
   "cell_type": "code",
   "execution_count": 85,
   "id": "5ab238c2-3736-4900-b9d9-fe8fa926d741",
   "metadata": {},
   "outputs": [
    {
     "data": {
      "text/plain": [
       "['Aalishan', 'KKKH', 'Magic', 'Singham']"
      ]
     },
     "execution_count": 85,
     "metadata": {},
     "output_type": "execute_result"
    }
   ],
   "source": [
    "playlist = [\"KKKH\", \"Magic\", \"Singham\", \"Aalishan\"]\n",
    "sorted(playlist)"
   ]
  },
  {
   "cell_type": "code",
   "execution_count": 86,
   "id": "89226768-54f0-4167-ac86-677077f04a4d",
   "metadata": {},
   "outputs": [
    {
     "data": {
      "text/plain": [
       "'            thane       '"
      ]
     },
     "execution_count": 86,
     "metadata": {},
     "output_type": "execute_result"
    }
   ],
   "source": [
    "#common string operations\n",
    "input_str = \"            thane       \"\n",
    "input_str"
   ]
  },
  {
   "cell_type": "code",
   "execution_count": 87,
   "id": "0e2fd823-f90d-4d0d-baf2-a0f33848fa7b",
   "metadata": {},
   "outputs": [
    {
     "data": {
      "text/plain": [
       "'thane'"
      ]
     },
     "execution_count": 87,
     "metadata": {},
     "output_type": "execute_result"
    }
   ],
   "source": [
    "input_str.strip()"
   ]
  },
  {
   "cell_type": "code",
   "execution_count": 88,
   "id": "9a357fb3-8371-4af8-9449-e3bf51f408fe",
   "metadata": {},
   "outputs": [
    {
     "data": {
      "text/plain": [
       "'Apple'"
      ]
     },
     "execution_count": 88,
     "metadata": {},
     "output_type": "execute_result"
    }
   ],
   "source": [
    "row = \"Apple      \"\n",
    "row.strip()"
   ]
  },
  {
   "cell_type": "code",
   "execution_count": 89,
   "id": "3b9803ea-7e64-4098-8e70-d3ff33ddacad",
   "metadata": {},
   "outputs": [
    {
     "data": {
      "text/plain": [
       "'Ajay, data science, teacher'"
      ]
     },
     "execution_count": 89,
     "metadata": {},
     "output_type": "execute_result"
    }
   ],
   "source": [
    "#string splitting\n",
    "data = \"Ajay, data science, teacher\"\n",
    "data"
   ]
  },
  {
   "cell_type": "code",
   "execution_count": 90,
   "id": "81b20a40-20f7-4522-8372-7d7bb2d8d84c",
   "metadata": {},
   "outputs": [],
   "source": [
    "teacher_info = data.split(',')"
   ]
  },
  {
   "cell_type": "code",
   "execution_count": 91,
   "id": "7459ffc3-1537-4d95-b053-a82073546118",
   "metadata": {},
   "outputs": [
    {
     "data": {
      "text/plain": [
       "['Ajay', ' data science', ' teacher']"
      ]
     },
     "execution_count": 91,
     "metadata": {},
     "output_type": "execute_result"
    }
   ],
   "source": [
    "teacher_info"
   ]
  },
  {
   "cell_type": "code",
   "execution_count": 92,
   "id": "b40b644f-a675-4bbb-bd25-bd1840e597b8",
   "metadata": {},
   "outputs": [],
   "source": [
    "name = teacher_info[0]\n",
    "sub = teacher_info[1]\n",
    "des = teacher_info[2]"
   ]
  },
  {
   "cell_type": "code",
   "execution_count": 93,
   "id": "31015b25-3ae8-4f10-8f7b-90d1f4d2f182",
   "metadata": {},
   "outputs": [
    {
     "data": {
      "text/plain": [
       "'Ajay'"
      ]
     },
     "execution_count": 93,
     "metadata": {},
     "output_type": "execute_result"
    }
   ],
   "source": [
    "name"
   ]
  },
  {
   "cell_type": "code",
   "execution_count": 94,
   "id": "74962f5e-f2fd-4d17-87e7-f1779c3e5c2c",
   "metadata": {},
   "outputs": [
    {
     "data": {
      "text/plain": [
       "' data science'"
      ]
     },
     "execution_count": 94,
     "metadata": {},
     "output_type": "execute_result"
    }
   ],
   "source": [
    "sub"
   ]
  },
  {
   "cell_type": "code",
   "execution_count": 95,
   "id": "0a949c90-ee2b-49b7-a393-7fe660e294d9",
   "metadata": {},
   "outputs": [
    {
     "data": {
      "text/plain": [
       "' teacher'"
      ]
     },
     "execution_count": 95,
     "metadata": {},
     "output_type": "execute_result"
    }
   ],
   "source": [
    "des"
   ]
  },
  {
   "cell_type": "code",
   "execution_count": 96,
   "id": "0f2d1e64-da4c-4f23-934c-65e52473a054",
   "metadata": {},
   "outputs": [
    {
     "data": {
      "text/plain": [
       "'teacher'"
      ]
     },
     "execution_count": 96,
     "metadata": {},
     "output_type": "execute_result"
    }
   ],
   "source": [
    "des.strip()"
   ]
  },
  {
   "cell_type": "code",
   "execution_count": 97,
   "id": "353f2a86-061d-4722-a0f3-be6f8f6ccfc2",
   "metadata": {},
   "outputs": [],
   "source": [
    "#Escape sequences >> special combination of characters used within a string"
   ]
  },
  {
   "cell_type": "code",
   "execution_count": 98,
   "id": "60375023-f996-4999-a7b0-f15ae24c26d1",
   "metadata": {},
   "outputs": [],
   "source": [
    "address = \"\"\"123, sneh nagar,\n",
    "jaiprakash nagar,\n",
    "nagpur\"\"\""
   ]
  },
  {
   "cell_type": "code",
   "execution_count": 99,
   "id": "74edd8d0-1276-4bf5-bbd8-6c4529ed3d3b",
   "metadata": {},
   "outputs": [
    {
     "data": {
      "text/plain": [
       "'123, sneh nagar,\\njaiprakash nagar,\\nnagpur'"
      ]
     },
     "execution_count": 99,
     "metadata": {},
     "output_type": "execute_result"
    }
   ],
   "source": [
    "address"
   ]
  },
  {
   "cell_type": "code",
   "execution_count": 100,
   "id": "a2973dcb-4f37-4d03-9cf0-e19faea707cf",
   "metadata": {},
   "outputs": [
    {
     "name": "stdout",
     "output_type": "stream",
     "text": [
      "123, sneh nagar,\n",
      "jaiprakash nagar,\n",
      "nagpur\n"
     ]
    }
   ],
   "source": [
    "print(address)"
   ]
  },
  {
   "cell_type": "code",
   "execution_count": 102,
   "id": "71c4459b-81f2-4694-83d8-d07d07b12a2a",
   "metadata": {},
   "outputs": [],
   "source": [
    "address = \"\"\"123, sneh nagar ,\\njaiprakash nagar , \\nNagpur\"\"\""
   ]
  },
  {
   "cell_type": "code",
   "execution_count": 103,
   "id": "d79dfb38-cd2a-4e17-8455-cdf9e4e15f88",
   "metadata": {},
   "outputs": [
    {
     "name": "stdout",
     "output_type": "stream",
     "text": [
      "123, sneh nagar ,\n",
      "jaiprakash nagar , \n",
      "Nagpur\n"
     ]
    }
   ],
   "source": [
    "print(address) #\\n >> to insert a new line character"
   ]
  },
  {
   "cell_type": "code",
   "execution_count": 104,
   "id": "a1fe52cb-a28b-4613-bf1c-e4962a2d3360",
   "metadata": {},
   "outputs": [
    {
     "name": "stdout",
     "output_type": "stream",
     "text": [
      "Name\tAge\tGrade\n",
      "Ajay\t21\tA\n",
      "Bijay\t22\tA+\n"
     ]
    }
   ],
   "source": [
    "#\\t escape character \\t>> tab\n",
    "table = \"Name\\tAge\\tGrade\\nAjay\\t21\\tA\\nBijay\\t22\\tA+\"\n",
    "print(table)"
   ]
  },
  {
   "cell_type": "code",
   "execution_count": 105,
   "id": "1af8652d-b5de-491c-aa7c-b232f6b772a5",
   "metadata": {},
   "outputs": [
    {
     "name": "stdout",
     "output_type": "stream",
     "text": [
      "C:\\USERS\\DOWNLOADS\\FILES.txt\n"
     ]
    }
   ],
   "source": [
    "file_path = \"C:\\\\USERS\\\\DOWNLOADS\\\\FILES.txt\"\n",
    "print(file_path)"
   ]
  },
  {
   "cell_type": "code",
   "execution_count": 108,
   "id": "77dee483-33b7-4e68-ade2-43395f38177c",
   "metadata": {},
   "outputs": [
    {
     "name": "stdout",
     "output_type": "stream",
     "text": [
      "I can't believe its friday\n"
     ]
    }
   ],
   "source": [
    "#\\' single quote escape\n",
    "str1 = 'I can\\'t believe its friday'\n",
    "print(str1)"
   ]
  },
  {
   "cell_type": "code",
   "execution_count": 109,
   "id": "c44fc997-265b-424b-bc18-480b38174a4d",
   "metadata": {},
   "outputs": [
    {
     "name": "stdout",
     "output_type": "stream",
     "text": [
      "Ajay, I am going to delhi\n"
     ]
    }
   ],
   "source": [
    "#carriage return \\r >> moves the cursor to the beginning of line\n",
    "print(\"Hello, I am \\rAjay, I am going to delhi\")"
   ]
  },
  {
   "cell_type": "code",
   "execution_count": 110,
   "id": "4d34adb2-8010-4a44-bfba-a721cb86ebe6",
   "metadata": {},
   "outputs": [
    {
     "name": "stdout",
     "output_type": "stream",
     "text": [
      "My name is Ajay\n",
      "My name is Bijay\n",
      "My name is Sanjay\n"
     ]
    }
   ],
   "source": [
    "#string formatting>> creating string with placeholder for variables\n",
    "print(\"My name is Ajay\")\n",
    "print(\"My name is Bijay\")\n",
    "print(\"My name is Sanjay\")"
   ]
  },
  {
   "cell_type": "code",
   "execution_count": 111,
   "id": "15e6d36b-5823-4aee-9208-b48e90f7d78f",
   "metadata": {},
   "outputs": [
    {
     "name": "stdout",
     "output_type": "stream",
     "text": [
      "hello Bijay, how are you?\n"
     ]
    }
   ],
   "source": [
    "name = \"Bijay\"\n",
    "greetings = f\"hello {name}, how are you?\"\n",
    "print(greetings)"
   ]
  },
  {
   "cell_type": "code",
   "execution_count": 112,
   "id": "7b100986-0213-42b8-b737-983394635cd5",
   "metadata": {},
   "outputs": [
    {
     "name": "stdout",
     "output_type": "stream",
     "text": [
      "hello Ajay, how are you?\n"
     ]
    }
   ],
   "source": [
    "print(\"hello Ajay, how are you?\")"
   ]
  },
  {
   "cell_type": "code",
   "execution_count": 114,
   "id": "2b7f03f2-161b-4543-93ea-c75f381ba549",
   "metadata": {},
   "outputs": [
    {
     "name": "stdout",
     "output_type": "stream",
     "text": [
      "Hello Dhruv, wish you a wonderful day\n"
     ]
    }
   ],
   "source": [
    "#string formatting\n",
    "name = \"Dhruv\"\n",
    "greeting = \"Hello %s, wish you a wonderful day\"%name\n",
    "print(greeting)"
   ]
  },
  {
   "cell_type": "code",
   "execution_count": 115,
   "id": "74f402e2-d2fe-4478-b23b-b1c16f098639",
   "metadata": {},
   "outputs": [
    {
     "name": "stdout",
     "output_type": "stream",
     "text": [
      "Hello, Ajay welcome to Data Science\n"
     ]
    }
   ],
   "source": [
    "#.format\n",
    "template = \"Hello, {} welcome to {}\"\n",
    "message = template.format(\"Ajay\", \"Data Science\")\n",
    "print(message)"
   ]
  },
  {
   "cell_type": "code",
   "execution_count": 117,
   "id": "c9211f8e-8567-4e85-808c-f6fd4a9ac425",
   "metadata": {},
   "outputs": [
    {
     "data": {
      "text/plain": [
       "'My course is CSE and its duration is 4 years.'"
      ]
     },
     "execution_count": 117,
     "metadata": {},
     "output_type": "execute_result"
    }
   ],
   "source": [
    "#f string (formatted string literals)\n",
    "course = \"CSE\"\n",
    "duration = 4 \n",
    "f\"My course is {course} and its duration is {duration} years.\""
   ]
  },
  {
   "cell_type": "code",
   "execution_count": 118,
   "id": "5dff5d5c-6c0b-4a1e-981c-1cc30a03e5e6",
   "metadata": {},
   "outputs": [
    {
     "name": "stdout",
     "output_type": "stream",
     "text": [
      "Hello user, Keshav, Today is 2025-06-01 post.\n"
     ]
    }
   ],
   "source": [
    "user_name = \"Keshav\"\n",
    "post_date = \"2025-06-01\"\n",
    "\n",
    "print(f\"Hello user, {user_name}, Today is {post_date} post.\")"
   ]
  },
  {
   "cell_type": "code",
   "execution_count": 119,
   "id": "e71248e0-0c50-47ac-a5ff-281930b2b1c2",
   "metadata": {},
   "outputs": [
    {
     "data": {
      "text/plain": [
       "'30 is equals to 86.0F'"
      ]
     },
     "execution_count": 119,
     "metadata": {},
     "output_type": "execute_result"
    }
   ],
   "source": [
    "celsius = 30\n",
    "f\"{celsius} is equals to {(celsius * 9/5)+32}F\""
   ]
  },
  {
   "cell_type": "code",
   "execution_count": 121,
   "id": "929591cd-3405-45be-a995-d83d21bcd405",
   "metadata": {},
   "outputs": [
    {
     "data": {
      "text/plain": [
       "False"
      ]
     },
     "execution_count": 121,
     "metadata": {},
     "output_type": "execute_result"
    }
   ],
   "source": [
    "str1 = \"keshav\"\n",
    "str1.startswith(\"p\")"
   ]
  },
  {
   "cell_type": "code",
   "execution_count": 122,
   "id": "c212155d-2f3d-40e8-8313-c4797030a7f9",
   "metadata": {},
   "outputs": [
    {
     "data": {
      "text/plain": [
       "True"
      ]
     },
     "execution_count": 122,
     "metadata": {},
     "output_type": "execute_result"
    }
   ],
   "source": [
    "str1 = \"keshav\"\n",
    "str1.startswith(\"kes\")"
   ]
  },
  {
   "cell_type": "code",
   "execution_count": 123,
   "id": "3f14c414-7046-4423-90dd-e47b63b3e05f",
   "metadata": {},
   "outputs": [
    {
     "data": {
      "text/plain": [
       "False"
      ]
     },
     "execution_count": 123,
     "metadata": {},
     "output_type": "execute_result"
    }
   ],
   "source": [
    "str1 = \"rohit_sharma\"\n",
    "str1.startswith(\"aws\")"
   ]
  },
  {
   "cell_type": "code",
   "execution_count": 124,
   "id": "6b5e4a32-45b0-4466-a8ce-c22479fcf4f5",
   "metadata": {},
   "outputs": [
    {
     "data": {
      "text/plain": [
       "True"
      ]
     },
     "execution_count": 124,
     "metadata": {},
     "output_type": "execute_result"
    }
   ],
   "source": [
    "str1.endswith(\"ma\")"
   ]
  },
  {
   "cell_type": "code",
   "execution_count": 125,
   "id": "1d9a385f-9084-445a-b45b-675eef556487",
   "metadata": {},
   "outputs": [
    {
     "data": {
      "text/plain": [
       "False"
      ]
     },
     "execution_count": 125,
     "metadata": {},
     "output_type": "execute_result"
    }
   ],
   "source": [
    "str1.endswith(\"lly\")"
   ]
  },
  {
   "cell_type": "code",
   "execution_count": 126,
   "id": "66b17ffa-2b53-4ebc-bb08-4b89fb5a905d",
   "metadata": {},
   "outputs": [
    {
     "data": {
      "text/plain": [
       "True"
      ]
     },
     "execution_count": 126,
     "metadata": {},
     "output_type": "execute_result"
    }
   ],
   "source": [
    "a = \"123abc\"\n",
    "a.isalnum()"
   ]
  },
  {
   "cell_type": "code",
   "execution_count": 127,
   "id": "305525d3-a879-4889-bfb6-28fce39e1cf7",
   "metadata": {},
   "outputs": [
    {
     "data": {
      "text/plain": [
       "True"
      ]
     },
     "execution_count": 127,
     "metadata": {},
     "output_type": "execute_result"
    }
   ],
   "source": [
    "a = \"Abs\"\n",
    "a.isalnum()"
   ]
  },
  {
   "cell_type": "code",
   "execution_count": 128,
   "id": "d183d835-6ec9-4e2f-a692-a0c6738bf7c3",
   "metadata": {},
   "outputs": [
    {
     "data": {
      "text/plain": [
       "True"
      ]
     },
     "execution_count": 128,
     "metadata": {},
     "output_type": "execute_result"
    }
   ],
   "source": [
    "a = \"123\"\n",
    "a.isalnum()"
   ]
  },
  {
   "cell_type": "code",
   "execution_count": null,
   "id": "3c85d89e-bbbd-4547-8454-52ee57e6fd93",
   "metadata": {},
   "outputs": [],
   "source": [
    "s = \"pwskills\"\n",
    "len(s)"
   ]
  }
 ],
 "metadata": {
  "kernelspec": {
   "display_name": "Python 3 (ipykernel)",
   "language": "python",
   "name": "python3"
  },
  "language_info": {
   "codemirror_mode": {
    "name": "ipython",
    "version": 3
   },
   "file_extension": ".py",
   "mimetype": "text/x-python",
   "name": "python",
   "nbconvert_exporter": "python",
   "pygments_lexer": "ipython3",
   "version": "3.12.7"
  }
 },
 "nbformat": 4,
 "nbformat_minor": 5
}
