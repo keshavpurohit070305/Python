{
 "cells": [
  {
   "cell_type": "markdown",
   "id": "fc29f20f-f9e5-4292-9b4a-12b7f209dae9",
   "metadata": {},
   "source": [
    "PYTHON - VARIABLES"
   ]
  },
  {
   "cell_type": "code",
   "execution_count": 4,
   "id": "c26f13d9-2839-4628-ae70-98abe1444466",
   "metadata": {},
   "outputs": [],
   "source": [
    "a =1"
   ]
  },
  {
   "cell_type": "code",
   "execution_count": 5,
   "id": "e363bf4c-bc29-400a-88d8-158b99cb0142",
   "metadata": {},
   "outputs": [
    {
     "data": {
      "text/plain": [
       "1"
      ]
     },
     "execution_count": 5,
     "metadata": {},
     "output_type": "execute_result"
    }
   ],
   "source": [
    "a"
   ]
  },
  {
   "cell_type": "code",
   "execution_count": 6,
   "id": "3fd42266-9b87-49a1-86eb-14976b6a0156",
   "metadata": {},
   "outputs": [
    {
     "data": {
      "text/plain": [
       "int"
      ]
     },
     "execution_count": 6,
     "metadata": {},
     "output_type": "execute_result"
    }
   ],
   "source": [
    "type(a)"
   ]
  },
  {
   "cell_type": "code",
   "execution_count": 9,
   "id": "a028213b-49c2-494d-8b56-3151a70523b1",
   "metadata": {},
   "outputs": [
    {
     "data": {
      "text/plain": [
       "str"
      ]
     },
     "execution_count": 9,
     "metadata": {},
     "output_type": "execute_result"
    }
   ],
   "source": [
    "b = \"keshav\"\n",
    "b\n",
    "type(b)"
   ]
  },
  {
   "cell_type": "code",
   "execution_count": 10,
   "id": "6eb953f4-6702-49af-969c-7d91fef211cb",
   "metadata": {},
   "outputs": [],
   "source": [
    "c = 45.5"
   ]
  },
  {
   "cell_type": "code",
   "execution_count": 11,
   "id": "eb4b7a2d-eccc-4e5c-8d28-956a8177bc87",
   "metadata": {},
   "outputs": [
    {
     "data": {
      "text/plain": [
       "float"
      ]
     },
     "execution_count": 11,
     "metadata": {},
     "output_type": "execute_result"
    }
   ],
   "source": [
    "type(c)"
   ]
  },
  {
   "cell_type": "code",
   "execution_count": 12,
   "id": "a24b58b8-df2e-4055-a006-239abf600345",
   "metadata": {},
   "outputs": [],
   "source": [
    "keshav = 9226255648"
   ]
  },
  {
   "cell_type": "code",
   "execution_count": 13,
   "id": "c4f7512b-d3d1-43b8-acf1-e9bf3e5a110a",
   "metadata": {},
   "outputs": [
    {
     "data": {
      "text/plain": [
       "int"
      ]
     },
     "execution_count": 13,
     "metadata": {},
     "output_type": "execute_result"
    }
   ],
   "source": [
    "type(keshav)"
   ]
  },
  {
   "cell_type": "code",
   "execution_count": 14,
   "id": "0a629112-d0cf-4923-9496-7f0cccdbc744",
   "metadata": {},
   "outputs": [
    {
     "data": {
      "text/plain": [
       "bool"
      ]
     },
     "execution_count": 14,
     "metadata": {},
     "output_type": "execute_result"
    }
   ],
   "source": [
    "d = True\n",
    "type(d)"
   ]
  },
  {
   "cell_type": "code",
   "execution_count": 16,
   "id": "7ad34a7e-b5ee-4aee-aec2-835ffc6e732b",
   "metadata": {},
   "outputs": [
    {
     "data": {
      "text/plain": [
       "bool"
      ]
     },
     "execution_count": 16,
     "metadata": {},
     "output_type": "execute_result"
    }
   ],
   "source": [
    "e = False\n",
    "type(e)"
   ]
  },
  {
   "cell_type": "code",
   "execution_count": 17,
   "id": "16ddf439-b28d-42e1-bda5-659e720afc0b",
   "metadata": {},
   "outputs": [
    {
     "data": {
      "text/plain": [
       "1"
      ]
     },
     "execution_count": 17,
     "metadata": {},
     "output_type": "execute_result"
    }
   ],
   "source": [
    "True - False"
   ]
  },
  {
   "cell_type": "code",
   "execution_count": 18,
   "id": "34b389e8-c2e5-4bf9-8b08-6305c6c5f595",
   "metadata": {},
   "outputs": [
    {
     "data": {
      "text/plain": [
       "0"
      ]
     },
     "execution_count": 18,
     "metadata": {},
     "output_type": "execute_result"
    }
   ],
   "source": [
    "True * False"
   ]
  },
  {
   "cell_type": "code",
   "execution_count": 19,
   "id": "679f25bb-33a8-4775-9c98-0860cba0d4ea",
   "metadata": {},
   "outputs": [
    {
     "ename": "ZeroDivisionError",
     "evalue": "division by zero",
     "output_type": "error",
     "traceback": [
      "\u001b[1;31m---------------------------------------------------------------------------\u001b[0m",
      "\u001b[1;31mZeroDivisionError\u001b[0m                         Traceback (most recent call last)",
      "Cell \u001b[1;32mIn[19], line 1\u001b[0m\n\u001b[1;32m----> 1\u001b[0m \u001b[38;5;28;01mTrue\u001b[39;00m \u001b[38;5;241m/\u001b[39m \u001b[38;5;28;01mFalse\u001b[39;00m\n",
      "\u001b[1;31mZeroDivisionError\u001b[0m: division by zero"
     ]
    }
   ],
   "source": [
    "True / False"
   ]
  },
  {
   "cell_type": "code",
   "execution_count": 20,
   "id": "5fdcdf67-1c9c-4718-a371-6d888c39ce24",
   "metadata": {},
   "outputs": [],
   "source": [
    "f = 5+ 4j"
   ]
  },
  {
   "cell_type": "code",
   "execution_count": 21,
   "id": "a2d15172-4944-4343-af95-0999018766e5",
   "metadata": {},
   "outputs": [
    {
     "data": {
      "text/plain": [
       "complex"
      ]
     },
     "execution_count": 21,
     "metadata": {},
     "output_type": "execute_result"
    }
   ],
   "source": [
    "type(f)"
   ]
  },
  {
   "cell_type": "code",
   "execution_count": 22,
   "id": "2a074dc3-5709-4886-ab67-61783a35fb11",
   "metadata": {},
   "outputs": [],
   "source": [
    "e = 6+7j"
   ]
  },
  {
   "cell_type": "code",
   "execution_count": 23,
   "id": "1b76d83d-4609-4c65-8673-d29a30a2fa8e",
   "metadata": {},
   "outputs": [],
   "source": [
    "g = 7j"
   ]
  },
  {
   "cell_type": "code",
   "execution_count": 24,
   "id": "259a5470-9033-4a13-9bc7-f188015622ac",
   "metadata": {},
   "outputs": [
    {
     "data": {
      "text/plain": [
       "complex"
      ]
     },
     "execution_count": 24,
     "metadata": {},
     "output_type": "execute_result"
    }
   ],
   "source": [
    "type(g)"
   ]
  },
  {
   "cell_type": "code",
   "execution_count": 25,
   "id": "bfe60c83-1663-4fa1-a218-86c497fa9002",
   "metadata": {},
   "outputs": [
    {
     "ename": "SyntaxError",
     "evalue": "cannot assign to literal here. Maybe you meant '==' instead of '='? (217617900.py, line 1)",
     "output_type": "error",
     "traceback": [
      "\u001b[1;36m  Cell \u001b[1;32mIn[25], line 1\u001b[1;36m\u001b[0m\n\u001b[1;33m    345 = 5\u001b[0m\n\u001b[1;37m    ^\u001b[0m\n\u001b[1;31mSyntaxError\u001b[0m\u001b[1;31m:\u001b[0m cannot assign to literal here. Maybe you meant '==' instead of '='?\n"
     ]
    }
   ],
   "source": [
    "345 = 5"
   ]
  },
  {
   "cell_type": "code",
   "execution_count": 26,
   "id": "bdf0576b-b063-4c24-8fe1-1c7f499b3099",
   "metadata": {},
   "outputs": [
    {
     "ename": "SyntaxError",
     "evalue": "invalid decimal literal (3445766998.py, line 1)",
     "output_type": "error",
     "traceback": [
      "\u001b[1;36m  Cell \u001b[1;32mIn[26], line 1\u001b[1;36m\u001b[0m\n\u001b[1;33m    45gh = 234\u001b[0m\n\u001b[1;37m     ^\u001b[0m\n\u001b[1;31mSyntaxError\u001b[0m\u001b[1;31m:\u001b[0m invalid decimal literal\n"
     ]
    }
   ],
   "source": [
    "45gh = 234"
   ]
  },
  {
   "cell_type": "code",
   "execution_count": 27,
   "id": "b78e3e32-e08d-4161-bc93-fde7f7db66e1",
   "metadata": {},
   "outputs": [],
   "source": [
    "#45 = 56"
   ]
  },
  {
   "cell_type": "code",
   "execution_count": 28,
   "id": "fab5a1f5-4c99-4878-a397-bba7dd3e6937",
   "metadata": {},
   "outputs": [
    {
     "ename": "SyntaxError",
     "evalue": "invalid syntax (3665463452.py, line 1)",
     "output_type": "error",
     "traceback": [
      "\u001b[1;36m  Cell \u001b[1;32mIn[28], line 1\u001b[1;36m\u001b[0m\n\u001b[1;33m    $45 = 23\u001b[0m\n\u001b[1;37m    ^\u001b[0m\n\u001b[1;31mSyntaxError\u001b[0m\u001b[1;31m:\u001b[0m invalid syntax\n"
     ]
    }
   ],
   "source": [
    "$45 = 23"
   ]
  },
  {
   "cell_type": "code",
   "execution_count": 29,
   "id": "532627f1-aa0a-40c9-b7eb-ffd5d779b5ff",
   "metadata": {},
   "outputs": [],
   "source": [
    "#fdlflasjdflasl fasdlkfalk faldfll kafkja "
   ]
  },
  {
   "cell_type": "code",
   "execution_count": 30,
   "id": "11281a9c-82a4-41f2-913f-be106b0608a4",
   "metadata": {},
   "outputs": [],
   "source": [
    "_a = 67"
   ]
  },
  {
   "cell_type": "code",
   "execution_count": 31,
   "id": "d44e6ec4-72bc-4f7d-8c35-55740e92ecb6",
   "metadata": {},
   "outputs": [
    {
     "name": "stderr",
     "output_type": "stream",
     "text": [
      "UsageError: Line magic function `%a` not found.\n"
     ]
    }
   ],
   "source": [
    "%a = 45"
   ]
  },
  {
   "cell_type": "code",
   "execution_count": 32,
   "id": "a6422471-2b5e-4981-acc6-8126de31f02d",
   "metadata": {},
   "outputs": [
    {
     "data": {
      "text/plain": [
       "67"
      ]
     },
     "execution_count": 32,
     "metadata": {},
     "output_type": "execute_result"
    }
   ],
   "source": [
    "_a"
   ]
  },
  {
   "cell_type": "code",
   "execution_count": 33,
   "id": "69732d8e-1885-4c50-bf3c-c2d6a6d108a8",
   "metadata": {},
   "outputs": [
    {
     "data": {
      "text/plain": [
       "(6+7j)"
      ]
     },
     "execution_count": 33,
     "metadata": {},
     "output_type": "execute_result"
    }
   ],
   "source": [
    "e"
   ]
  },
  {
   "cell_type": "code",
   "execution_count": 34,
   "id": "160961d5-aab7-4d26-882c-b81a6c881fe9",
   "metadata": {},
   "outputs": [
    {
     "data": {
      "text/plain": [
       "6.0"
      ]
     },
     "execution_count": 34,
     "metadata": {},
     "output_type": "execute_result"
    }
   ],
   "source": [
    "e.real"
   ]
  },
  {
   "cell_type": "code",
   "execution_count": 35,
   "id": "13b3a1a3-eb26-43e1-9f16-cba6e5fc26b2",
   "metadata": {},
   "outputs": [
    {
     "data": {
      "text/plain": [
       "7.0"
      ]
     },
     "execution_count": 35,
     "metadata": {},
     "output_type": "execute_result"
    }
   ],
   "source": [
    "e.imag"
   ]
  },
  {
   "cell_type": "markdown",
   "id": "c3f10ab7-9b00-4973-824a-11eddbbca9be",
   "metadata": {},
   "source": [
    "PYTHON OPERATORS"
   ]
  },
  {
   "cell_type": "code",
   "execution_count": 36,
   "id": "3e82cdd0-d4f2-415d-981f-6107e9750f82",
   "metadata": {},
   "outputs": [
    {
     "data": {
      "text/plain": [
       "3"
      ]
     },
     "execution_count": 36,
     "metadata": {},
     "output_type": "execute_result"
    }
   ],
   "source": [
    "1+2"
   ]
  },
  {
   "cell_type": "code",
   "execution_count": 37,
   "id": "7f61eee7-c9a8-483d-a1ea-fa0b905128ad",
   "metadata": {},
   "outputs": [
    {
     "data": {
      "text/plain": [
       "-1"
      ]
     },
     "execution_count": 37,
     "metadata": {},
     "output_type": "execute_result"
    }
   ],
   "source": [
    "1-2"
   ]
  },
  {
   "cell_type": "code",
   "execution_count": 38,
   "id": "879b3c6c-91b6-4f69-bfcd-937aebabb8e0",
   "metadata": {},
   "outputs": [
    {
     "data": {
      "text/plain": [
       "2"
      ]
     },
     "execution_count": 38,
     "metadata": {},
     "output_type": "execute_result"
    }
   ],
   "source": [
    "1*2"
   ]
  },
  {
   "cell_type": "code",
   "execution_count": 40,
   "id": "419900b4-3454-4c9a-bcdc-75bd15874f2b",
   "metadata": {},
   "outputs": [
    {
     "data": {
      "text/plain": [
       "1"
      ]
     },
     "execution_count": 40,
     "metadata": {},
     "output_type": "execute_result"
    }
   ],
   "source": [
    "\n",
    "\n",
    "1%4"
   ]
  },
  {
   "cell_type": "code",
   "execution_count": 41,
   "id": "8929bc4f-27d0-4d5e-972d-24fb5234e3cf",
   "metadata": {},
   "outputs": [
    {
     "data": {
      "text/plain": [
       "1"
      ]
     },
     "execution_count": 41,
     "metadata": {},
     "output_type": "execute_result"
    }
   ],
   "source": [
    "5%4"
   ]
  },
  {
   "cell_type": "code",
   "execution_count": 42,
   "id": "d8e29eb4-d768-42b5-950f-ab25ec717002",
   "metadata": {},
   "outputs": [
    {
     "data": {
      "text/plain": [
       "1"
      ]
     },
     "execution_count": 42,
     "metadata": {},
     "output_type": "execute_result"
    }
   ],
   "source": [
    "5//4"
   ]
  },
  {
   "cell_type": "code",
   "execution_count": 43,
   "id": "55b1e7ee-fda8-49e8-8393-ff5cce20287c",
   "metadata": {},
   "outputs": [
    {
     "data": {
      "text/plain": [
       "1"
      ]
     },
     "execution_count": 43,
     "metadata": {},
     "output_type": "execute_result"
    }
   ],
   "source": [
    "1**3"
   ]
  },
  {
   "cell_type": "code",
   "execution_count": 44,
   "id": "c2ab90e2-8283-4025-953a-8bfd27781334",
   "metadata": {},
   "outputs": [
    {
     "data": {
      "text/plain": [
       "8"
      ]
     },
     "execution_count": 44,
     "metadata": {},
     "output_type": "execute_result"
    }
   ],
   "source": [
    "2**3"
   ]
  },
  {
   "cell_type": "code",
   "execution_count": 45,
   "id": "794f4833-e24b-40bd-ae9f-36787ce45ce4",
   "metadata": {},
   "outputs": [
    {
     "data": {
      "text/plain": [
       "False"
      ]
     },
     "execution_count": 45,
     "metadata": {},
     "output_type": "execute_result"
    }
   ],
   "source": [
    "1>2"
   ]
  },
  {
   "cell_type": "code",
   "execution_count": 46,
   "id": "1b6630e4-06bc-47b9-b284-94e396e7a2ed",
   "metadata": {},
   "outputs": [
    {
     "data": {
      "text/plain": [
       "True"
      ]
     },
     "execution_count": 46,
     "metadata": {},
     "output_type": "execute_result"
    }
   ],
   "source": [
    "1<2"
   ]
  },
  {
   "cell_type": "code",
   "execution_count": 47,
   "id": "f5193cb6-4528-4962-8c8b-fdf9e4ebcf0a",
   "metadata": {},
   "outputs": [
    {
     "data": {
      "text/plain": [
       "False"
      ]
     },
     "execution_count": 47,
     "metadata": {},
     "output_type": "execute_result"
    }
   ],
   "source": [
    "1==2"
   ]
  },
  {
   "cell_type": "code",
   "execution_count": 48,
   "id": "70e8b39f-839a-4c8e-a49a-addb44066c04",
   "metadata": {},
   "outputs": [
    {
     "data": {
      "text/plain": [
       "True"
      ]
     },
     "execution_count": 48,
     "metadata": {},
     "output_type": "execute_result"
    }
   ],
   "source": [
    "1==1"
   ]
  },
  {
   "cell_type": "code",
   "execution_count": 49,
   "id": "e078f37e-3a5a-42d7-ad74-47aa2bc68f21",
   "metadata": {},
   "outputs": [
    {
     "data": {
      "text/plain": [
       "True"
      ]
     },
     "execution_count": 49,
     "metadata": {},
     "output_type": "execute_result"
    }
   ],
   "source": [
    "1 != 2"
   ]
  },
  {
   "cell_type": "code",
   "execution_count": 50,
   "id": "48da6d28-068d-4686-8176-ffbbded43e04",
   "metadata": {},
   "outputs": [
    {
     "data": {
      "text/plain": [
       "False"
      ]
     },
     "execution_count": 50,
     "metadata": {},
     "output_type": "execute_result"
    }
   ],
   "source": [
    "1 != 1"
   ]
  },
  {
   "cell_type": "code",
   "execution_count": 51,
   "id": "6e9f71bf-9d69-4fba-a482-b2e530f1ca1e",
   "metadata": {},
   "outputs": [
    {
     "data": {
      "text/plain": [
       "True"
      ]
     },
     "execution_count": 51,
     "metadata": {},
     "output_type": "execute_result"
    }
   ],
   "source": [
    "2 >=1"
   ]
  },
  {
   "cell_type": "code",
   "execution_count": 52,
   "id": "2b8dcf8c-5e32-4c30-ba9b-1463cb579c3d",
   "metadata": {},
   "outputs": [
    {
     "data": {
      "text/plain": [
       "False"
      ]
     },
     "execution_count": 52,
     "metadata": {},
     "output_type": "execute_result"
    }
   ],
   "source": [
    "2>2"
   ]
  },
  {
   "cell_type": "code",
   "execution_count": 53,
   "id": "4f878de8-85f0-4d32-aa76-3feba3601e60",
   "metadata": {},
   "outputs": [
    {
     "data": {
      "text/plain": [
       "True"
      ]
     },
     "execution_count": 53,
     "metadata": {},
     "output_type": "execute_result"
    }
   ],
   "source": [
    "2>=2"
   ]
  },
  {
   "cell_type": "code",
   "execution_count": 54,
   "id": "0bade860-1e7e-4e3e-8188-8c83756abe48",
   "metadata": {},
   "outputs": [
    {
     "data": {
      "text/plain": [
       "False"
      ]
     },
     "execution_count": 54,
     "metadata": {},
     "output_type": "execute_result"
    }
   ],
   "source": [
    "2<2"
   ]
  },
  {
   "cell_type": "code",
   "execution_count": 55,
   "id": "102bb190-3fb1-47bd-b0cf-99a7d8bef9de",
   "metadata": {},
   "outputs": [
    {
     "data": {
      "text/plain": [
       "True"
      ]
     },
     "execution_count": 55,
     "metadata": {},
     "output_type": "execute_result"
    }
   ],
   "source": [
    "2 <= 2"
   ]
  },
  {
   "cell_type": "code",
   "execution_count": 56,
   "id": "2cd12205-dcdf-4a5a-bd02-635cbec5e7e3",
   "metadata": {},
   "outputs": [
    {
     "data": {
      "text/plain": [
       "True"
      ]
     },
     "execution_count": 56,
     "metadata": {},
     "output_type": "execute_result"
    }
   ],
   "source": [
    "True and True"
   ]
  },
  {
   "cell_type": "code",
   "execution_count": 57,
   "id": "bdec2a0b-2d99-472b-804a-64627297fc07",
   "metadata": {},
   "outputs": [
    {
     "data": {
      "text/plain": [
       "False"
      ]
     },
     "execution_count": 57,
     "metadata": {},
     "output_type": "execute_result"
    }
   ],
   "source": [
    "True and False"
   ]
  },
  {
   "cell_type": "code",
   "execution_count": 58,
   "id": "4b766900-2225-4f99-a27d-346c309a778a",
   "metadata": {},
   "outputs": [
    {
     "data": {
      "text/plain": [
       "0"
      ]
     },
     "execution_count": 58,
     "metadata": {},
     "output_type": "execute_result"
    }
   ],
   "source": [
    "1 and 0 "
   ]
  },
  {
   "cell_type": "code",
   "execution_count": 59,
   "id": "d8958c32-d856-4220-9977-fb9f0225997d",
   "metadata": {},
   "outputs": [
    {
     "data": {
      "text/plain": [
       "False"
      ]
     },
     "execution_count": 59,
     "metadata": {},
     "output_type": "execute_result"
    }
   ],
   "source": [
    "not True"
   ]
  },
  {
   "cell_type": "code",
   "execution_count": 60,
   "id": "81a51705-94da-4962-8926-8f517fb70e59",
   "metadata": {},
   "outputs": [
    {
     "data": {
      "text/plain": [
       "False"
      ]
     },
     "execution_count": 60,
     "metadata": {},
     "output_type": "execute_result"
    }
   ],
   "source": [
    "not 1"
   ]
  },
  {
   "cell_type": "code",
   "execution_count": 61,
   "id": "2343e4cc-98aa-4426-a4af-a0d6bbfcdbc3",
   "metadata": {},
   "outputs": [
    {
     "data": {
      "text/plain": [
       "1"
      ]
     },
     "execution_count": 61,
     "metadata": {},
     "output_type": "execute_result"
    }
   ],
   "source": [
    "1 or 0"
   ]
  },
  {
   "cell_type": "code",
   "execution_count": 62,
   "id": "cbf35b4c-3358-4aec-878b-013e651cea61",
   "metadata": {},
   "outputs": [
    {
     "data": {
      "text/plain": [
       "True"
      ]
     },
     "execution_count": 62,
     "metadata": {},
     "output_type": "execute_result"
    }
   ],
   "source": [
    "True or False"
   ]
  },
  {
   "cell_type": "code",
   "execution_count": 63,
   "id": "76b4efd0-e94a-4f22-bf9b-5a02e53d23f3",
   "metadata": {},
   "outputs": [
    {
     "data": {
      "text/plain": [
       "False"
      ]
     },
     "execution_count": 63,
     "metadata": {},
     "output_type": "execute_result"
    }
   ],
   "source": [
    "False or False"
   ]
  },
  {
   "cell_type": "code",
   "execution_count": 64,
   "id": "d215f577-2385-4730-9e85-59b1a8ba4480",
   "metadata": {},
   "outputs": [
    {
     "data": {
      "text/plain": [
       "0"
      ]
     },
     "execution_count": 64,
     "metadata": {},
     "output_type": "execute_result"
    }
   ],
   "source": [
    "10 & 4"
   ]
  },
  {
   "cell_type": "code",
   "execution_count": 65,
   "id": "1185182a-a3c6-4e8c-a667-45d681cb217a",
   "metadata": {},
   "outputs": [
    {
     "data": {
      "text/plain": [
       "'0b1010'"
      ]
     },
     "execution_count": 65,
     "metadata": {},
     "output_type": "execute_result"
    }
   ],
   "source": [
    "bin(10)"
   ]
  },
  {
   "cell_type": "code",
   "execution_count": 66,
   "id": "580e1d50-079e-44be-b83a-fd8c800b4de3",
   "metadata": {},
   "outputs": [
    {
     "data": {
      "text/plain": [
       "'0b100'"
      ]
     },
     "execution_count": 66,
     "metadata": {},
     "output_type": "execute_result"
    }
   ],
   "source": [
    "bin(4)"
   ]
  },
  {
   "cell_type": "code",
   "execution_count": 67,
   "id": "354b2601-9f0c-4384-b7b7-e7c3185cf32b",
   "metadata": {},
   "outputs": [
    {
     "data": {
      "text/plain": [
       "20"
      ]
     },
     "execution_count": 67,
     "metadata": {},
     "output_type": "execute_result"
    }
   ],
   "source": [
    "23 & 20"
   ]
  },
  {
   "cell_type": "code",
   "execution_count": 68,
   "id": "36a2453f-a38c-4f77-9cf1-33ecc49135fc",
   "metadata": {},
   "outputs": [
    {
     "data": {
      "text/plain": [
       "'0b10111'"
      ]
     },
     "execution_count": 68,
     "metadata": {},
     "output_type": "execute_result"
    }
   ],
   "source": [
    "bin(23)"
   ]
  },
  {
   "cell_type": "code",
   "execution_count": 69,
   "id": "b95034fb-acda-42e1-9bfd-eeb8e6c694a5",
   "metadata": {},
   "outputs": [
    {
     "data": {
      "text/plain": [
       "'0b10100'"
      ]
     },
     "execution_count": 69,
     "metadata": {},
     "output_type": "execute_result"
    }
   ],
   "source": [
    "bin(20)"
   ]
  },
  {
   "cell_type": "markdown",
   "id": "ebca772c-5fc1-42c9-b0d4-664139f4483e",
   "metadata": {},
   "source": [
    "bin() shows binary representation"
   ]
  },
  {
   "cell_type": "code",
   "execution_count": 70,
   "id": "d48eb8ad-1b9c-4eb1-9c0c-3f1339072922",
   "metadata": {},
   "outputs": [
    {
     "data": {
      "text/plain": [
       "15"
      ]
     },
     "execution_count": 70,
     "metadata": {},
     "output_type": "execute_result"
    }
   ],
   "source": [
    "11 | 6"
   ]
  },
  {
   "cell_type": "code",
   "execution_count": 71,
   "id": "aeaebbed-38b9-4833-bfc0-80f18a611b54",
   "metadata": {},
   "outputs": [
    {
     "data": {
      "text/plain": [
       "'0b1011'"
      ]
     },
     "execution_count": 71,
     "metadata": {},
     "output_type": "execute_result"
    }
   ],
   "source": [
    "bin(11)"
   ]
  },
  {
   "cell_type": "code",
   "execution_count": 72,
   "id": "6214bd78-2175-4495-8235-22873618688d",
   "metadata": {},
   "outputs": [
    {
     "data": {
      "text/plain": [
       "'0b110'"
      ]
     },
     "execution_count": 72,
     "metadata": {},
     "output_type": "execute_result"
    }
   ],
   "source": [
    "bin(6)"
   ]
  },
  {
   "cell_type": "code",
   "execution_count": 73,
   "id": "cb225a0c-6e4d-4e1e-b743-aa447d4de580",
   "metadata": {},
   "outputs": [
    {
     "data": {
      "text/plain": [
       "'0b1111'"
      ]
     },
     "execution_count": 73,
     "metadata": {},
     "output_type": "execute_result"
    }
   ],
   "source": [
    "bin(15)"
   ]
  },
  {
   "cell_type": "markdown",
   "id": "afc09aaa-89b9-464d-b79b-ee909002a93f",
   "metadata": {},
   "source": [
    " bitwise OR (|) "
   ]
  },
  {
   "cell_type": "code",
   "execution_count": 74,
   "id": "a987fe6c-eb86-4506-8019-ac1c3316c9c3",
   "metadata": {},
   "outputs": [
    {
     "data": {
      "text/plain": [
       "-13"
      ]
     },
     "execution_count": 74,
     "metadata": {},
     "output_type": "execute_result"
    }
   ],
   "source": [
    "~12"
   ]
  },
  {
   "cell_type": "markdown",
   "id": "599d077c-a6fb-4a52-be6b-d6330b2a2c8c",
   "metadata": {},
   "source": [
    "~ is the bitwise NOT"
   ]
  },
  {
   "cell_type": "code",
   "execution_count": 75,
   "id": "77922db5-acc6-4f08-a39c-6fb64cd6b711",
   "metadata": {},
   "outputs": [
    {
     "data": {
      "text/plain": [
       "-21"
      ]
     },
     "execution_count": 75,
     "metadata": {},
     "output_type": "execute_result"
    }
   ],
   "source": [
    "~20"
   ]
  },
  {
   "cell_type": "code",
   "execution_count": 76,
   "id": "885c970e-fd02-4748-a4f0-fa5937d841ca",
   "metadata": {},
   "outputs": [
    {
     "data": {
      "text/plain": [
       "'0b1100'"
      ]
     },
     "execution_count": 76,
     "metadata": {},
     "output_type": "execute_result"
    }
   ],
   "source": [
    "bin(12)"
   ]
  },
  {
   "cell_type": "code",
   "execution_count": 77,
   "id": "b190f7a3-e4f6-4db9-af15-3d63c24e877b",
   "metadata": {},
   "outputs": [
    {
     "data": {
      "text/plain": [
       "'0b1101'"
      ]
     },
     "execution_count": 77,
     "metadata": {},
     "output_type": "execute_result"
    }
   ],
   "source": [
    "bin(13)"
   ]
  },
  {
   "cell_type": "code",
   "execution_count": 78,
   "id": "f5128546-d5ed-4363-8df6-6424409dc126",
   "metadata": {},
   "outputs": [
    {
     "data": {
      "text/plain": [
       "-21"
      ]
     },
     "execution_count": 78,
     "metadata": {},
     "output_type": "execute_result"
    }
   ],
   "source": [
    " ~20"
   ]
  },
  {
   "cell_type": "code",
   "execution_count": 79,
   "id": "f520a637-1724-418e-83f5-53c32f08655e",
   "metadata": {},
   "outputs": [
    {
     "data": {
      "text/plain": [
       "'0b10100'"
      ]
     },
     "execution_count": 79,
     "metadata": {},
     "output_type": "execute_result"
    }
   ],
   "source": [
    "bin(20)"
   ]
  },
  {
   "cell_type": "code",
   "execution_count": 80,
   "id": "1b8b1d9a-d35b-4176-9aa8-98d9a702a57d",
   "metadata": {},
   "outputs": [
    {
     "data": {
      "text/plain": [
       "'-0b10101'"
      ]
     },
     "execution_count": 80,
     "metadata": {},
     "output_type": "execute_result"
    }
   ],
   "source": [
    "bin(-21)"
   ]
  },
  {
   "cell_type": "code",
   "execution_count": 81,
   "id": "41f26c69-9c66-44d2-976f-69de27e88d68",
   "metadata": {},
   "outputs": [],
   "source": [
    "a = 8"
   ]
  },
  {
   "cell_type": "code",
   "execution_count": 82,
   "id": "9f4d76dd-7e05-4a6d-810b-b4ebbbaa0c69",
   "metadata": {},
   "outputs": [
    {
     "data": {
      "text/plain": [
       "2"
      ]
     },
     "execution_count": 82,
     "metadata": {},
     "output_type": "execute_result"
    }
   ],
   "source": [
    "a >> 2"
   ]
  },
  {
   "cell_type": "code",
   "execution_count": 83,
   "id": "2f9febc7-aee4-4128-8ec7-1decd0eb5ad8",
   "metadata": {},
   "outputs": [
    {
     "data": {
      "text/plain": [
       "'0b1000'"
      ]
     },
     "execution_count": 83,
     "metadata": {},
     "output_type": "execute_result"
    }
   ],
   "source": [
    "bin(a)"
   ]
  },
  {
   "cell_type": "code",
   "execution_count": 84,
   "id": "6662a2b2-a413-4093-bd1e-eca275e370e9",
   "metadata": {},
   "outputs": [
    {
     "data": {
      "text/plain": [
       "1"
      ]
     },
     "execution_count": 84,
     "metadata": {},
     "output_type": "execute_result"
    }
   ],
   "source": [
    "a >> 3"
   ]
  },
  {
   "cell_type": "markdown",
   "id": "ea984752-dd25-471d-a9a5-301e9db8c022",
   "metadata": {},
   "source": [
    ">> n means divide by 2^n  and floor the result.( 8 / 4 -> 2)"
   ]
  },
  {
   "cell_type": "code",
   "execution_count": 86,
   "id": "ff4cc427-6712-4ba2-9184-2b75eb0bddc0",
   "metadata": {},
   "outputs": [
    {
     "data": {
      "text/plain": [
       "0"
      ]
     },
     "execution_count": 86,
     "metadata": {},
     "output_type": "execute_result"
    }
   ],
   "source": [
    "a >>4"
   ]
  },
  {
   "cell_type": "code",
   "execution_count": 87,
   "id": "1c9d61f1-a832-47d2-8ce6-b3383bbff3d3",
   "metadata": {},
   "outputs": [
    {
     "data": {
      "text/plain": [
       "'0b10'"
      ]
     },
     "execution_count": 87,
     "metadata": {},
     "output_type": "execute_result"
    }
   ],
   "source": [
    "  bin(2)"
   ]
  },
  {
   "cell_type": "code",
   "execution_count": 88,
   "id": "8da9e1c1-4392-4b94-9745-47a362439882",
   "metadata": {},
   "outputs": [
    {
     "data": {
      "text/plain": [
       "80"
      ]
     },
     "execution_count": 88,
     "metadata": {},
     "output_type": "execute_result"
    }
   ],
   "source": [
    "20 << 2"
   ]
  },
  {
   "cell_type": "code",
   "execution_count": 90,
   "id": "a38282ad-9d84-4b06-bf8f-1ad16b8bc58b",
   "metadata": {},
   "outputs": [
    {
     "data": {
      "text/plain": [
       "160"
      ]
     },
     "execution_count": 90,
     "metadata": {},
     "output_type": "execute_result"
    }
   ],
   "source": [
    "20 << 3"
   ]
  },
  {
   "cell_type": "code",
   "execution_count": 91,
   "id": "3cc7eab2-6190-45ba-8764-fd1f3c7fb7d4",
   "metadata": {},
   "outputs": [
    {
     "data": {
      "text/plain": [
       "320"
      ]
     },
     "execution_count": 91,
     "metadata": {},
     "output_type": "execute_result"
    }
   ],
   "source": [
    "20 << 4"
   ]
  },
  {
   "cell_type": "code",
   "execution_count": 92,
   "id": "cdcfbc76-8980-4400-bb85-91cdf34db5c1",
   "metadata": {},
   "outputs": [
    {
     "data": {
      "text/plain": [
       "'0b10100'"
      ]
     },
     "execution_count": 92,
     "metadata": {},
     "output_type": "execute_result"
    }
   ],
   "source": [
    "bin(20)"
   ]
  },
  {
   "cell_type": "code",
   "execution_count": 93,
   "id": "1b3ce524-32a5-421e-8010-f1aa2e773592",
   "metadata": {},
   "outputs": [
    {
     "data": {
      "text/plain": [
       "'0b1010000'"
      ]
     },
     "execution_count": 93,
     "metadata": {},
     "output_type": "execute_result"
    }
   ],
   "source": [
    "bin(80)"
   ]
  },
  {
   "cell_type": "code",
   "execution_count": 94,
   "id": "66103058-a545-4139-ba3c-9db683002cd3",
   "metadata": {},
   "outputs": [
    {
     "data": {
      "text/plain": [
       "'0b10100000'"
      ]
     },
     "execution_count": 94,
     "metadata": {},
     "output_type": "execute_result"
    }
   ],
   "source": [
    "bin(160)"
   ]
  },
  {
   "cell_type": "code",
   "execution_count": 95,
   "id": "4c45aea2-24ec-4df6-a5dc-c28d7df01fab",
   "metadata": {},
   "outputs": [
    {
     "data": {
      "text/plain": [
       "'0b101000000'"
      ]
     },
     "execution_count": 95,
     "metadata": {},
     "output_type": "execute_result"
    }
   ],
   "source": [
    "bin(320)"
   ]
  },
  {
   "cell_type": "code",
   "execution_count": 96,
   "id": "6d7d9cb5-0c54-4c68-96f7-689ad8c5c5ba",
   "metadata": {},
   "outputs": [],
   "source": [
    "a = 10 "
   ]
  },
  {
   "cell_type": "code",
   "execution_count": 97,
   "id": "dcdf3735-00c8-405f-927c-ccf460beaea7",
   "metadata": {},
   "outputs": [],
   "source": [
    "a += 1"
   ]
  },
  {
   "cell_type": "code",
   "execution_count": 98,
   "id": "c733d2d5-e467-4e57-a0c8-5370072366bf",
   "metadata": {},
   "outputs": [
    {
     "data": {
      "text/plain": [
       "11"
      ]
     },
     "execution_count": 98,
     "metadata": {},
     "output_type": "execute_result"
    }
   ],
   "source": [
    "a"
   ]
  },
  {
   "cell_type": "code",
   "execution_count": 99,
   "id": "9f817328-9f62-45a6-8c08-70f7c469e4f2",
   "metadata": {},
   "outputs": [],
   "source": [
    "a = a + 1 "
   ]
  },
  {
   "cell_type": "code",
   "execution_count": 100,
   "id": "240fc613-d320-4124-bf9b-6f5b03171c82",
   "metadata": {},
   "outputs": [],
   "source": [
    "b = 10 "
   ]
  },
  {
   "cell_type": "code",
   "execution_count": 101,
   "id": "a2b13deb-8284-4e16-a8ea-fc49c32d79f9",
   "metadata": {},
   "outputs": [],
   "source": [
    "b  = b + 1 "
   ]
  },
  {
   "cell_type": "code",
   "execution_count": 102,
   "id": "6a270fc4-072b-4528-aca6-780de8957812",
   "metadata": {},
   "outputs": [
    {
     "data": {
      "text/plain": [
       "11"
      ]
     },
     "execution_count": 102,
     "metadata": {},
     "output_type": "execute_result"
    }
   ],
   "source": [
    "b"
   ]
  },
  {
   "cell_type": "code",
   "execution_count": 103,
   "id": "99762c0e-9688-4a1c-ac97-244e96a089cf",
   "metadata": {},
   "outputs": [],
   "source": [
    "b += 1"
   ]
  },
  {
   "cell_type": "code",
   "execution_count": 104,
   "id": "434b9bff-a78c-47dd-bb43-9a78372d2479",
   "metadata": {},
   "outputs": [
    {
     "data": {
      "text/plain": [
       "12"
      ]
     },
     "execution_count": 104,
     "metadata": {},
     "output_type": "execute_result"
    }
   ],
   "source": [
    "b"
   ]
  },
  {
   "cell_type": "code",
   "execution_count": 105,
   "id": "ffbb685b-b928-4ed0-8a17-e262cfb85914",
   "metadata": {},
   "outputs": [],
   "source": [
    "c = 20 "
   ]
  },
  {
   "cell_type": "code",
   "execution_count": 106,
   "id": "665fdd08-65eb-40fb-90ce-bc3f92a695dd",
   "metadata": {},
   "outputs": [],
   "source": [
    "\n",
    "c = c -1"
   ]
  },
  {
   "cell_type": "code",
   "execution_count": 107,
   "id": "9a255375-f20a-45c0-a011-d9273042b0ab",
   "metadata": {},
   "outputs": [
    {
     "data": {
      "text/plain": [
       "19"
      ]
     },
     "execution_count": 107,
     "metadata": {},
     "output_type": "execute_result"
    }
   ],
   "source": [
    "c"
   ]
  },
  {
   "cell_type": "code",
   "execution_count": 108,
   "id": "e5e34f31-82d4-44df-8a14-6271815035c4",
   "metadata": {},
   "outputs": [],
   "source": [
    "c -= 1"
   ]
  },
  {
   "cell_type": "code",
   "execution_count": 109,
   "id": "3424eaa0-2798-48f3-a835-ad939384fdd9",
   "metadata": {},
   "outputs": [
    {
     "data": {
      "text/plain": [
       "18"
      ]
     },
     "execution_count": 109,
     "metadata": {},
     "output_type": "execute_result"
    }
   ],
   "source": [
    "c"
   ]
  },
  {
   "cell_type": "markdown",
   "id": "06e386dc-c60a-4523-9c23-1c00a89d6758",
   "metadata": {},
   "source": [
    "MUTABLE AND IMUTABLE"
   ]
  },
  {
   "cell_type": "code",
   "execution_count": 114,
   "id": "fe620669-6c1d-4740-99f7-2cdcdd988be5",
   "metadata": {},
   "outputs": [],
   "source": [
    "s1 = \"KESHAV\""
   ]
  },
  {
   "cell_type": "code",
   "execution_count": 115,
   "id": "0f9604c2-6764-49f5-9c5f-6385319447a5",
   "metadata": {},
   "outputs": [],
   "source": [
    "s2 = \"KESHAV_PUROHIT\""
   ]
  },
  {
   "cell_type": "code",
   "execution_count": 116,
   "id": "eeeb656e-1acb-41c1-893c-d4aad651a72f",
   "metadata": {},
   "outputs": [
    {
     "data": {
      "text/plain": [
       "str"
      ]
     },
     "execution_count": 116,
     "metadata": {},
     "output_type": "execute_result"
    }
   ],
   "source": [
    "type(s1)"
   ]
  },
  {
   "cell_type": "code",
   "execution_count": 117,
   "id": "2880ee1e-82f8-45ba-ac94-0044f2716137",
   "metadata": {},
   "outputs": [],
   "source": [
    "l = [2,3,4,5,6,\"KESHAV\" , 3+7j , True , 34.56]"
   ]
  },
  {
   "cell_type": "code",
   "execution_count": 118,
   "id": "6513e508-9cd4-4586-bf94-c3e266c0f9aa",
   "metadata": {},
   "outputs": [
    {
     "data": {
      "text/plain": [
       "list"
      ]
     },
     "execution_count": 118,
     "metadata": {},
     "output_type": "execute_result"
    }
   ],
   "source": [
    "type(l)"
   ]
  },
  {
   "cell_type": "code",
   "execution_count": 119,
   "id": "5ff5a95a-91d8-437d-a42f-4dc5924dd3b7",
   "metadata": {},
   "outputs": [
    {
     "data": {
      "text/plain": [
       "'KESHAV'"
      ]
     },
     "execution_count": 119,
     "metadata": {},
     "output_type": "execute_result"
    }
   ],
   "source": [
    "s"
   ]
  },
  {
   "cell_type": "code",
   "execution_count": 120,
   "id": "9b2b9649-650e-41a4-8106-9be158a2e181",
   "metadata": {},
   "outputs": [
    {
     "data": {
      "text/plain": [
       "'K'"
      ]
     },
     "execution_count": 120,
     "metadata": {},
     "output_type": "execute_result"
    }
   ],
   "source": [
    "s[0]"
   ]
  },
  {
   "cell_type": "code",
   "execution_count": 121,
   "id": "a4068fbf-4412-45d6-b2de-1792c67b9685",
   "metadata": {},
   "outputs": [
    {
     "data": {
      "text/plain": [
       "'S'"
      ]
     },
     "execution_count": 121,
     "metadata": {},
     "output_type": "execute_result"
    }
   ],
   "source": [
    "s[2]"
   ]
  },
  {
   "cell_type": "code",
   "execution_count": 122,
   "id": "4c5ea885-a4e9-41d3-be58-30f53b4e8174",
   "metadata": {},
   "outputs": [
    {
     "data": {
      "text/plain": [
       "[2, 3, 4, 5, 6, 'KESHAV', (3+7j), True, 34.56]"
      ]
     },
     "execution_count": 122,
     "metadata": {},
     "output_type": "execute_result"
    }
   ],
   "source": [
    "l"
   ]
  },
  {
   "cell_type": "code",
   "execution_count": 123,
   "id": "6d85c0bf-9bde-4b22-95cd-236c17072c42",
   "metadata": {},
   "outputs": [
    {
     "data": {
      "text/plain": [
       "34.56"
      ]
     },
     "execution_count": 123,
     "metadata": {},
     "output_type": "execute_result"
    }
   ],
   "source": [
    "l[8]"
   ]
  },
  {
   "cell_type": "code",
   "execution_count": 124,
   "id": "0cb87431-0b78-48a3-ba5c-d31bd36b585a",
   "metadata": {},
   "outputs": [
    {
     "data": {
      "text/plain": [
       "'KESHAV'"
      ]
     },
     "execution_count": 124,
     "metadata": {},
     "output_type": "execute_result"
    }
   ],
   "source": [
    "l[-4]"
   ]
  },
  {
   "cell_type": "code",
   "execution_count": 125,
   "id": "d7076d02-fe37-4308-8f1d-7d3b29a4ea3b",
   "metadata": {},
   "outputs": [
    {
     "data": {
      "text/plain": [
       "[2, 3, 4, 5, 6, 'KESHAV', (3+7j), True, 34.56]"
      ]
     },
     "execution_count": 125,
     "metadata": {},
     "output_type": "execute_result"
    }
   ],
   "source": [
    "l"
   ]
  },
  {
   "cell_type": "code",
   "execution_count": 126,
   "id": "d04df676-b23b-4486-aee0-a8743737040e",
   "metadata": {},
   "outputs": [],
   "source": [
    "l[1] = 300"
   ]
  },
  {
   "cell_type": "code",
   "execution_count": 127,
   "id": "094eaa97-10da-4ade-9bdc-f66b2c7d3017",
   "metadata": {},
   "outputs": [
    {
     "data": {
      "text/plain": [
       "[2, 300, 4, 5, 6, 'KESHAV', (3+7j), True, 34.56]"
      ]
     },
     "execution_count": 127,
     "metadata": {},
     "output_type": "execute_result"
    }
   ],
   "source": [
    "l"
   ]
  },
  {
   "cell_type": "code",
   "execution_count": 128,
   "id": "a9affcdc-c2d5-4541-a476-30784b15825d",
   "metadata": {},
   "outputs": [],
   "source": [
    "l[4] = \"rohitS45\""
   ]
  },
  {
   "cell_type": "code",
   "execution_count": 129,
   "id": "b9863f39-00a9-4357-a023-9a41625472d7",
   "metadata": {},
   "outputs": [
    {
     "data": {
      "text/plain": [
       "[2, 300, 4, 5, 'rohitS45', 'KESHAV', (3+7j), True, 34.56]"
      ]
     },
     "execution_count": 129,
     "metadata": {},
     "output_type": "execute_result"
    }
   ],
   "source": [
    "l"
   ]
  },
  {
   "cell_type": "code",
   "execution_count": 130,
   "id": "ad94393c-d60a-4721-bfb5-be12ab8a3b0d",
   "metadata": {},
   "outputs": [
    {
     "data": {
      "text/plain": [
       "'KESHAV'"
      ]
     },
     "execution_count": 130,
     "metadata": {},
     "output_type": "execute_result"
    }
   ],
   "source": [
    "s"
   ]
  },
  {
   "cell_type": "code",
   "execution_count": 132,
   "id": "06c21213-854d-4dc2-9fb8-0c5af4e115af",
   "metadata": {},
   "outputs": [
    {
     "ename": "TypeError",
     "evalue": "'str' object does not support item assignment",
     "output_type": "error",
     "traceback": [
      "\u001b[1;31m---------------------------------------------------------------------------\u001b[0m",
      "\u001b[1;31mTypeError\u001b[0m                                 Traceback (most recent call last)",
      "Cell \u001b[1;32mIn[132], line 1\u001b[0m\n\u001b[1;32m----> 1\u001b[0m s[\u001b[38;5;241m1\u001b[39m] \u001b[38;5;241m=\u001b[39m \u001b[38;5;124m'\u001b[39m\u001b[38;5;124mA\u001b[39m\u001b[38;5;124m'\u001b[39m\n",
      "\u001b[1;31mTypeError\u001b[0m: 'str' object does not support item assignment"
     ]
    }
   ],
   "source": [
    "s[1] = 'A'"
   ]
  },
  {
   "cell_type": "markdown",
   "id": "96aa635e-07ff-49c5-b907-f19f65bc3b56",
   "metadata": {},
   "source": [
    "1. Mutable Objects\n",
    "Meaning: Can be modified after creation.\n",
    "\n",
    "Examples: Lists, dictionaries, sets."
   ]
  },
  {
   "cell_type": "code",
   "execution_count": 133,
   "id": "f4c6fb92-6547-48ce-947c-2d3fa91f5912",
   "metadata": {},
   "outputs": [
    {
     "name": "stdout",
     "output_type": "stream",
     "text": [
      "['apple', 'banana', 'mango']\n"
     ]
    }
   ],
   "source": [
    "fruits = [\"apple\", \"banana\"]\n",
    "fruits.append(\"mango\")  # Same list is updated\n",
    "print(fruits)  # Output: [\"apple\", \"banana\", \"mango\"]"
   ]
  },
  {
   "cell_type": "markdown",
   "id": "759e50b0-30b8-4d93-8b1a-39cd0a8bf04f",
   "metadata": {},
   "source": [
    "→ The original fruits list is changed."
   ]
  },
  {
   "cell_type": "markdown",
   "id": "6c03aacc-d91b-40cd-9b80-671441f89647",
   "metadata": {},
   "source": [
    "2. Immutable Objects\n",
    "Meaning: Cannot be modified after creation.\n",
    "\n",
    "Examples: Integers, strings, tuples."
   ]
  },
  {
   "cell_type": "code",
   "execution_count": 134,
   "id": "be2c2fd4-591e-420e-b89d-9e537732de18",
   "metadata": {},
   "outputs": [
    {
     "name": "stdout",
     "output_type": "stream",
     "text": [
      "Bob\n"
     ]
    }
   ],
   "source": [
    "name = \"Alice\"\n",
    "name = \"Bob\"  # Creates a new string, doesn’t modify \"Alice\"\n",
    "print(name)  # Output: \"Bob\""
   ]
  },
  {
   "cell_type": "markdown",
   "id": "b5ad0126-6b66-48b9-a81b-3c79a34368da",
   "metadata": {},
   "source": [
    "IF , ELSE, WHILE , FOR"
   ]
  },
  {
   "cell_type": "code",
   "execution_count": 135,
   "id": "3a45eee6-56f8-4bfc-94c5-46787e59e2c2",
   "metadata": {},
   "outputs": [],
   "source": [
    "a = 10 \n",
    "if a > 10 :\n",
    "    print(\"yes a is greater than 10 \")"
   ]
  },
  {
   "cell_type": "code",
   "execution_count": 136,
   "id": "18d9cc1c-bd29-426d-90ad-00e8936d08e9",
   "metadata": {},
   "outputs": [
    {
     "data": {
      "text/plain": [
       "False"
      ]
     },
     "execution_count": 136,
     "metadata": {},
     "output_type": "execute_result"
    }
   ],
   "source": [
    "a > 10"
   ]
  },
  {
   "cell_type": "code",
   "execution_count": 137,
   "id": "fa199f96-458a-47da-ac39-6d1015cf9004",
   "metadata": {},
   "outputs": [
    {
     "name": "stdout",
     "output_type": "stream",
     "text": [
      "yes a is greater than 10 \n"
     ]
    }
   ],
   "source": [
    "a = 10 \n",
    "if a >= 10 :\n",
    "    print(\"yes a is greater than 10 \")"
   ]
  },
  {
   "cell_type": "code",
   "execution_count": 138,
   "id": "a4340050-8fe8-45ef-b90c-7803d5d6b90d",
   "metadata": {},
   "outputs": [
    {
     "data": {
      "text/plain": [
       "True"
      ]
     },
     "execution_count": 138,
     "metadata": {},
     "output_type": "execute_result"
    }
   ],
   "source": [
    "a >= 10 "
   ]
  },
  {
   "cell_type": "code",
   "execution_count": 139,
   "id": "be7c6deb-5dec-487c-8d67-c52bd2ea4672",
   "metadata": {},
   "outputs": [
    {
     "name": "stdout",
     "output_type": "stream",
     "text": [
      "this is my defalut\n"
     ]
    }
   ],
   "source": [
    "b = 20 \n",
    "if b > 30 :\n",
    "    print(\"yes b is greater than 30\")\n",
    "elif b  > 40 : \n",
    "    print(\"yes b is leser than 40 \")\n",
    "elif b > 100 : \n",
    "    print(\"yes b is greater than 100\")\n",
    "else :\n",
    "    print(\"this is my defalut\")\n"
   ]
  },
  {
   "cell_type": "code",
   "execution_count": 140,
   "id": "409e33e2-dc5f-44e4-a54a-ccce448734b1",
   "metadata": {},
   "outputs": [
    {
     "data": {
      "text/plain": [
       "False"
      ]
     },
     "execution_count": 140,
     "metadata": {},
     "output_type": "execute_result"
    }
   ],
   "source": [
    "b > 30"
   ]
  },
  {
   "cell_type": "code",
   "execution_count": 141,
   "id": "07920bab-81fc-4ed0-8900-db974612ad48",
   "metadata": {},
   "outputs": [
    {
     "data": {
      "text/plain": [
       "True"
      ]
     },
     "execution_count": 141,
     "metadata": {},
     "output_type": "execute_result"
    }
   ],
   "source": [
    "b < 40"
   ]
  },
  {
   "cell_type": "code",
   "execution_count": 142,
   "id": "e6aaf236-8e11-4961-b51a-4bb62c423deb",
   "metadata": {},
   "outputs": [
    {
     "data": {
      "text/plain": [
       "False"
      ]
     },
     "execution_count": 142,
     "metadata": {},
     "output_type": "execute_result"
    }
   ],
   "source": [
    "b  > 40"
   ]
  },
  {
   "cell_type": "code",
   "execution_count": 143,
   "id": "da7aba0f-1934-4d01-aed4-f533fed4a1af",
   "metadata": {},
   "outputs": [
    {
     "name": "stdin",
     "output_type": "stream",
     "text": [
      " 345\n"
     ]
    },
    {
     "name": "stdout",
     "output_type": "stream",
     "text": [
      "yes b is greater than 30\n"
     ]
    }
   ],
   "source": [
    "b = int(input())\n",
    "if b > 30 :\n",
    "    print(\"yes b is greater than 30\")\n",
    "elif b  > 40 : \n",
    "    print(\"yes b is leser than 40 \")\n",
    "elif b > 100 : \n",
    "    print(\"yes b is greater than 100\")\n",
    "else :\n",
    "    print(\"this is my defalut\")"
   ]
  },
  {
   "cell_type": "code",
   "execution_count": 144,
   "id": "26670e4b-70e6-4567-a196-30f4b7610006",
   "metadata": {},
   "outputs": [
    {
     "name": "stdin",
     "output_type": "stream",
     "text": [
      " 1\n"
     ]
    },
    {
     "name": "stdout",
     "output_type": "stream",
     "text": [
      "this is my defalut\n"
     ]
    }
   ],
   "source": [
    "b = int(input())\n",
    "if b > 30 :\n",
    "    print(\"yes b is greater than 30\")\n",
    "elif b  > 40 : \n",
    "    print(\"yes b is leser than 40 \")\n",
    "elif b > 100 : \n",
    "    print(\"yes b is greater than 100\")\n",
    "else :\n",
    "    print(\"this is my defalut\")"
   ]
  },
  {
   "cell_type": "code",
   "execution_count": 145,
   "id": "9e0fbc60-a6d0-46c1-8f8b-cfbdcd294458",
   "metadata": {},
   "outputs": [
    {
     "data": {
      "text/plain": [
       "34"
      ]
     },
     "execution_count": 145,
     "metadata": {},
     "output_type": "execute_result"
    }
   ],
   "source": [
    "int('34')"
   ]
  },
  {
   "cell_type": "code",
   "execution_count": 146,
   "id": "9d8187c1-00b7-40a1-b053-9b12d3bea913",
   "metadata": {},
   "outputs": [
    {
     "data": {
      "text/plain": [
       "1"
      ]
     },
     "execution_count": 146,
     "metadata": {},
     "output_type": "execute_result"
    }
   ],
   "source": [
    "b"
   ]
  },
  {
   "cell_type": "code",
   "execution_count": 147,
   "id": "f0dac5bf-f465-4d45-97cd-c82ec2688089",
   "metadata": {},
   "outputs": [
    {
     "data": {
      "text/plain": [
       "int"
      ]
     },
     "execution_count": 147,
     "metadata": {},
     "output_type": "execute_result"
    }
   ],
   "source": [
    "type(b)"
   ]
  },
  {
   "cell_type": "code",
   "execution_count": 148,
   "id": "889047ad-61ae-4d40-bfac-57223eb0d742",
   "metadata": {},
   "outputs": [
    {
     "name": "stdout",
     "output_type": "stream",
     "text": [
      "1\n",
      "2\n",
      "3\n"
     ]
    }
   ],
   "source": [
    "n = 4\n",
    "i = 1\n",
    "while i < n :\n",
    "    print(i)\n",
    "    i = i+1\n"
   ]
  },
  {
   "cell_type": "code",
   "execution_count": 149,
   "id": "0d6b7122-6108-40bb-b448-18195f568a8f",
   "metadata": {},
   "outputs": [
    {
     "name": "stdout",
     "output_type": "stream",
     "text": [
      "1\n",
      "2\n",
      "3\n",
      "this is my else\n"
     ]
    }
   ],
   "source": [
    "n = 4\n",
    "i = 1\n",
    "while i < n :\n",
    "    print(i)\n",
    "    i = i+1\n",
    "else :\n",
    "    print(\"this is my else\")"
   ]
  },
  {
   "cell_type": "code",
   "execution_count": 150,
   "id": "588d8bb6-795f-4848-939a-ae75212198fe",
   "metadata": {},
   "outputs": [
    {
     "name": "stdout",
     "output_type": "stream",
     "text": [
      "1\n",
      "2\n"
     ]
    }
   ],
   "source": [
    "n = 4\n",
    "i = 1\n",
    "while i < n :\n",
    "    print(i)\n",
    "    i = i+1\n",
    "    if i == 3 :\n",
    "        break \n",
    "else :\n",
    "    print(\"this is my else\")"
   ]
  },
  {
   "cell_type": "code",
   "execution_count": 152,
   "id": "46c91931-2a1c-48c4-ae2e-2e413a593572",
   "metadata": {},
   "outputs": [
    {
     "name": "stdout",
     "output_type": "stream",
     "text": [
      "K\n",
      "E\n",
      "S\n",
      "H\n",
      "A\n",
      "V\n"
     ]
    }
   ],
   "source": [
    "s = \"KESHAV\"\n",
    "for i in s :\n",
    "    print(i)\n"
   ]
  },
  {
   "cell_type": "code",
   "execution_count": null,
   "id": "e2eea12a-5423-47b2-819e-7626ab44a135",
   "metadata": {},
   "outputs": [],
   "source": [
    " l = [2,3,4,5,6,\"keshav\" , \"pwskills\" , 23.45, True]"
   ]
  }
 ],
 "metadata": {
  "kernelspec": {
   "display_name": "Python 3 (ipykernel)",
   "language": "python",
   "name": "python3"
  },
  "language_info": {
   "codemirror_mode": {
    "name": "ipython",
    "version": 3
   },
   "file_extension": ".py",
   "mimetype": "text/x-python",
   "name": "python",
   "nbconvert_exporter": "python",
   "pygments_lexer": "ipython3",
   "version": "3.12.7"
  }
 },
 "nbformat": 4,
 "nbformat_minor": 5
}
