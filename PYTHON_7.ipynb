{
 "cells": [
  {
   "cell_type": "markdown",
   "id": "cb2b103d-c545-4086-b257-e6d40810b5aa",
   "metadata": {},
   "source": [
    "## DICTIONARY"
   ]
  },
  {
   "cell_type": "code",
   "execution_count": 1,
   "id": "0e68f985-db09-4c37-bd37-64943a961d1a",
   "metadata": {},
   "outputs": [],
   "source": [
    "#dictionary is a data structure that stores data as key value pair\n",
    "#Keys are unique and immutable\n",
    "\n",
    "#Note:dictionaries are unordered. but from Python 3.7 version, dictionaries retain the order of insertion. \n",
    "#This means that if you iterate over a dictionary, the items will be returned in the order they were added."
   ]
  },
  {
   "cell_type": "code",
   "execution_count": 2,
   "id": "7638689f-9d80-4ec0-89b4-b57ce149266a",
   "metadata": {},
   "outputs": [
    {
     "data": {
      "text/plain": [
       "dict"
      ]
     },
     "execution_count": 2,
     "metadata": {},
     "output_type": "execute_result"
    }
   ],
   "source": [
    "d = {}\n",
    "type(d)"
   ]
  },
  {
   "cell_type": "code",
   "execution_count": 6,
   "id": "6433b76c-2f0e-4435-b4ca-298e98b5e3d3",
   "metadata": {},
   "outputs": [],
   "source": [
    "d = {\"name\":\"keshav\", \"email\":\"keshav@gmail.com\", \"contact\": 1234}"
   ]
  },
  {
   "cell_type": "code",
   "execution_count": 4,
   "id": "2ec855d3-2090-4ed6-ad7d-6ddb9c69f254",
   "metadata": {},
   "outputs": [
    {
     "data": {
      "text/plain": [
       "{'name': 'keshav', 'email': 'keshav@gmail.com', 'contact': 1234}"
      ]
     },
     "execution_count": 4,
     "metadata": {},
     "output_type": "execute_result"
    }
   ],
   "source": [
    "d"
   ]
  },
  {
   "cell_type": "code",
   "execution_count": 5,
   "id": "b6d29990-4d4b-4863-a047-92a406a8adf5",
   "metadata": {},
   "outputs": [
    {
     "data": {
      "text/plain": [
       "dict"
      ]
     },
     "execution_count": 5,
     "metadata": {},
     "output_type": "execute_result"
    }
   ],
   "source": [
    "type(d)"
   ]
  },
  {
   "cell_type": "code",
   "execution_count": 7,
   "id": "0a44d1ed-7077-4b6c-a0ec-0a0d8596679b",
   "metadata": {},
   "outputs": [
    {
     "data": {
      "text/plain": [
       "1"
      ]
     },
     "execution_count": 7,
     "metadata": {},
     "output_type": "execute_result"
    }
   ],
   "source": [
    "l = [1, 2, 3, 4]\n",
    "l[0]"
   ]
  },
  {
   "cell_type": "code",
   "execution_count": 8,
   "id": "7c580686-3723-46e2-8adf-7a61bb4f2d15",
   "metadata": {},
   "outputs": [
    {
     "data": {
      "text/plain": [
       "'keshav'"
      ]
     },
     "execution_count": 8,
     "metadata": {},
     "output_type": "execute_result"
    }
   ],
   "source": [
    "d['name']"
   ]
  },
  {
   "cell_type": "code",
   "execution_count": 9,
   "id": "cacfe001-e05c-4f60-886e-89a44c924dd8",
   "metadata": {},
   "outputs": [
    {
     "data": {
      "text/plain": [
       "'keshav@gmail.com'"
      ]
     },
     "execution_count": 9,
     "metadata": {},
     "output_type": "execute_result"
    }
   ],
   "source": [
    "d[\"email\"]"
   ]
  },
  {
   "cell_type": "code",
   "execution_count": 10,
   "id": "f04b7732-06b9-499d-8f07-fb9c622260c5",
   "metadata": {},
   "outputs": [
    {
     "data": {
      "text/plain": [
       "{'name': 'keshav', 'email': 'keshav@gmail.com', 'contact': 1234}"
      ]
     },
     "execution_count": 10,
     "metadata": {},
     "output_type": "execute_result"
    }
   ],
   "source": [
    "d"
   ]
  },
  {
   "cell_type": "code",
   "execution_count": 11,
   "id": "3575e161-2200-4c65-89db-8da9d5c84b86",
   "metadata": {},
   "outputs": [],
   "source": [
    "d['name'] = \"dhruv\""
   ]
  },
  {
   "cell_type": "code",
   "execution_count": 14,
   "id": "ebe35461-b2bc-4c50-b2f6-e3cbd766ce2c",
   "metadata": {},
   "outputs": [
    {
     "data": {
      "text/plain": [
       "{'address': 'mihan, nagpur'}"
      ]
     },
     "execution_count": 14,
     "metadata": {},
     "output_type": "execute_result"
    }
   ],
   "source": [
    "d"
   ]
  },
  {
   "cell_type": "code",
   "execution_count": 13,
   "id": "3f398638-4953-48ef-9ac6-9da37105f09d",
   "metadata": {},
   "outputs": [],
   "source": [
    "d = {\"address\": \"mihan, nagpur\"}"
   ]
  },
  {
   "cell_type": "code",
   "execution_count": 15,
   "id": "6439543a-056f-493d-87c5-57fe6f1388f6",
   "metadata": {},
   "outputs": [
    {
     "data": {
      "text/plain": [
       "'mihan, nagpur'"
      ]
     },
     "execution_count": 15,
     "metadata": {},
     "output_type": "execute_result"
    }
   ],
   "source": [
    "d[\"address\"]"
   ]
  },
  {
   "cell_type": "code",
   "execution_count": 16,
   "id": "7dcbf8aa-3f72-4cdf-b226-da7b5b42bd33",
   "metadata": {},
   "outputs": [],
   "source": [
    "d = {\"key\": 1}"
   ]
  },
  {
   "cell_type": "code",
   "execution_count": 17,
   "id": "ddd930ef-6722-408e-b524-b91eb008880b",
   "metadata": {},
   "outputs": [
    {
     "data": {
      "text/plain": [
       "{'key': 1}"
      ]
     },
     "execution_count": 17,
     "metadata": {},
     "output_type": "execute_result"
    }
   ],
   "source": [
    "d"
   ]
  },
  {
   "cell_type": "code",
   "execution_count": 18,
   "id": "64943399-bdb2-4d73-b347-214b62fd1ddf",
   "metadata": {},
   "outputs": [
    {
     "data": {
      "text/plain": [
       "1"
      ]
     },
     "execution_count": 18,
     "metadata": {},
     "output_type": "execute_result"
    }
   ],
   "source": [
    "d[\"key\"]"
   ]
  },
  {
   "cell_type": "code",
   "execution_count": 19,
   "id": "b245e634-27a6-424f-a1c7-9ea32873e757",
   "metadata": {},
   "outputs": [
    {
     "ename": "KeyError",
     "evalue": "1",
     "output_type": "error",
     "traceback": [
      "\u001b[1;31m---------------------------------------------------------------------------\u001b[0m",
      "\u001b[1;31mKeyError\u001b[0m                                  Traceback (most recent call last)",
      "Cell \u001b[1;32mIn[19], line 1\u001b[0m\n\u001b[1;32m----> 1\u001b[0m d[\u001b[38;5;241m1\u001b[39m]\n",
      "\u001b[1;31mKeyError\u001b[0m: 1"
     ]
    }
   ],
   "source": [
    "d[1] #you can only access value using key, vice-versa not possible"
   ]
  },
  {
   "cell_type": "code",
   "execution_count": 20,
   "id": "46439661-00b5-4d13-ad14-824295a2043a",
   "metadata": {},
   "outputs": [],
   "source": [
    " #rules of defining keys\n",
    "d = {1:\"abc\"} #integers as key"
   ]
  },
  {
   "cell_type": "code",
   "execution_count": 21,
   "id": "4c794cf8-a766-41be-aa71-25f24ae5c293",
   "metadata": {},
   "outputs": [
    {
     "data": {
      "text/plain": [
       "{1: 'abc'}"
      ]
     },
     "execution_count": 21,
     "metadata": {},
     "output_type": "execute_result"
    }
   ],
   "source": [
    "d"
   ]
  },
  {
   "cell_type": "code",
   "execution_count": 22,
   "id": "fb90652f-431b-4aa4-8bba-12ce5d5d4b82",
   "metadata": {},
   "outputs": [
    {
     "data": {
      "text/plain": [
       "'abc'"
      ]
     },
     "execution_count": 22,
     "metadata": {},
     "output_type": "execute_result"
    }
   ],
   "source": [
    "d[1]"
   ]
  },
  {
   "cell_type": "code",
   "execution_count": 23,
   "id": "b2efc7c6-6d5f-4c9d-b273-0116779b4670",
   "metadata": {},
   "outputs": [],
   "source": [
    "d = {1.2: \"abc\"} #float as key"
   ]
  },
  {
   "cell_type": "code",
   "execution_count": 24,
   "id": "89693a6a-f09c-418e-9af8-51e3155b7c4f",
   "metadata": {},
   "outputs": [
    {
     "data": {
      "text/plain": [
       "{1.2: 'abc'}"
      ]
     },
     "execution_count": 24,
     "metadata": {},
     "output_type": "execute_result"
    }
   ],
   "source": [
    "d"
   ]
  },
  {
   "cell_type": "code",
   "execution_count": 25,
   "id": "2669be44-6f07-4305-b054-b253e004fb30",
   "metadata": {},
   "outputs": [
    {
     "data": {
      "text/plain": [
       "'abc'"
      ]
     },
     "execution_count": 25,
     "metadata": {},
     "output_type": "execute_result"
    }
   ],
   "source": [
    "d[1.2]"
   ]
  },
  {
   "cell_type": "code",
   "execution_count": 26,
   "id": "4979cf1d-1e84-4e53-9d0d-27d582028eae",
   "metadata": {},
   "outputs": [],
   "source": [
    "d = {True: \"any value\"} #boolean value also can be key of dictionary"
   ]
  },
  {
   "cell_type": "code",
   "execution_count": 27,
   "id": "3af545d6-214f-4ba6-b135-aaa5e27ffc24",
   "metadata": {},
   "outputs": [
    {
     "data": {
      "text/plain": [
       "{True: 'any value'}"
      ]
     },
     "execution_count": 27,
     "metadata": {},
     "output_type": "execute_result"
    }
   ],
   "source": [
    "d"
   ]
  },
  {
   "cell_type": "code",
   "execution_count": 28,
   "id": "49aff012-c967-4f9e-b1dd-7a2f3f0cae53",
   "metadata": {},
   "outputs": [
    {
     "data": {
      "text/plain": [
       "'any value'"
      ]
     },
     "execution_count": 28,
     "metadata": {},
     "output_type": "execute_result"
    }
   ],
   "source": [
    "d[True]"
   ]
  },
  {
   "cell_type": "code",
   "execution_count": 29,
   "id": "d0cb6024-f3ac-4345-bf24-086f93f3ab6c",
   "metadata": {},
   "outputs": [
    {
     "ename": "SyntaxError",
     "evalue": "incomplete input (556043331.py, line 1)",
     "output_type": "error",
     "traceback": [
      "\u001b[1;36m  Cell \u001b[1;32mIn[29], line 1\u001b[1;36m\u001b[0m\n\u001b[1;33m    d = {#: 123} #you can not hav e# as a key\u001b[0m\n\u001b[1;37m                                             ^\u001b[0m\n\u001b[1;31mSyntaxError\u001b[0m\u001b[1;31m:\u001b[0m incomplete input\n"
     ]
    }
   ],
   "source": [
    "d = {#: 123} #you can not hav e# as a key"
   ]
  },
  {
   "cell_type": "code",
   "execution_count": 30,
   "id": "94b2e75d-fe49-4407-a59e-baeca963a76c",
   "metadata": {},
   "outputs": [
    {
     "ename": "SyntaxError",
     "evalue": "invalid syntax (1267037288.py, line 1)",
     "output_type": "error",
     "traceback": [
      "\u001b[1;36m  Cell \u001b[1;32mIn[30], line 1\u001b[1;36m\u001b[0m\n\u001b[1;33m    d = {@: \"ram\"}\u001b[0m\n\u001b[1;37m         ^\u001b[0m\n\u001b[1;31mSyntaxError\u001b[0m\u001b[1;31m:\u001b[0m invalid syntax\n"
     ]
    }
   ],
   "source": [
    "d = {@: \"ram\"}"
   ]
  },
  {
   "cell_type": "code",
   "execution_count": 31,
   "id": "20a15d68-c53a-43b2-8509-fec17f1a6ae8",
   "metadata": {},
   "outputs": [
    {
     "ename": "TypeError",
     "evalue": "unhashable type: 'list'",
     "output_type": "error",
     "traceback": [
      "\u001b[1;31m---------------------------------------------------------------------------\u001b[0m",
      "\u001b[1;31mTypeError\u001b[0m                                 Traceback (most recent call last)",
      "Cell \u001b[1;32mIn[31], line 1\u001b[0m\n\u001b[1;32m----> 1\u001b[0m d \u001b[38;5;241m=\u001b[39m {[\u001b[38;5;241m1\u001b[39m, \u001b[38;5;241m2\u001b[39m,\u001b[38;5;241m3\u001b[39m]: \u001b[38;5;124m\"\u001b[39m\u001b[38;5;124mshyam\u001b[39m\u001b[38;5;124m\"\u001b[39m}\n",
      "\u001b[1;31mTypeError\u001b[0m: unhashable type: 'list'"
     ]
    }
   ],
   "source": [
    "d = {[1, 2,3]: \"shyam\"}"
   ]
  },
  {
   "cell_type": "code",
   "execution_count": 32,
   "id": "cdf33467-75dc-4733-9c3c-a2397bbb73a1",
   "metadata": {},
   "outputs": [],
   "source": [
    "d = {(1, 2, 3): \"abc\"}"
   ]
  },
  {
   "cell_type": "code",
   "execution_count": 33,
   "id": "2be9b0d1-578f-426c-afd6-8fcf2823a429",
   "metadata": {},
   "outputs": [
    {
     "data": {
      "text/plain": [
       "{(1, 2, 3): 'abc'}"
      ]
     },
     "execution_count": 33,
     "metadata": {},
     "output_type": "execute_result"
    }
   ],
   "source": [
    "d"
   ]
  },
  {
   "cell_type": "code",
   "execution_count": 34,
   "id": "be529799-6afd-44be-afe2-f0ac4b224535",
   "metadata": {},
   "outputs": [
    {
     "ename": "KeyError",
     "evalue": "2",
     "output_type": "error",
     "traceback": [
      "\u001b[1;31m---------------------------------------------------------------------------\u001b[0m",
      "\u001b[1;31mKeyError\u001b[0m                                  Traceback (most recent call last)",
      "Cell \u001b[1;32mIn[34], line 1\u001b[0m\n\u001b[1;32m----> 1\u001b[0m d[\u001b[38;5;241m2\u001b[39m]\n",
      "\u001b[1;31mKeyError\u001b[0m: 2"
     ]
    }
   ],
   "source": [
    "d[2]"
   ]
  },
  {
   "cell_type": "code",
   "execution_count": 35,
   "id": "1146b095-2cc3-4977-a2df-4625cfea8da1",
   "metadata": {},
   "outputs": [
    {
     "data": {
      "text/plain": [
       "'abc'"
      ]
     },
     "execution_count": 35,
     "metadata": {},
     "output_type": "execute_result"
    }
   ],
   "source": [
    "d[(1,2,3)]"
   ]
  },
  {
   "cell_type": "code",
   "execution_count": 36,
   "id": "56717f82-638e-459c-8596-4389ab808d74",
   "metadata": {},
   "outputs": [
    {
     "data": {
      "text/plain": [
       "dict"
      ]
     },
     "execution_count": 36,
     "metadata": {},
     "output_type": "execute_result"
    }
   ],
   "source": [
    "type(d)"
   ]
  },
  {
   "cell_type": "code",
   "execution_count": 37,
   "id": "e3246fd3-ca05-4aec-97bd-d1312dea1ea0",
   "metadata": {},
   "outputs": [
    {
     "ename": "TypeError",
     "evalue": "unhashable type: 'set'",
     "output_type": "error",
     "traceback": [
      "\u001b[1;31m---------------------------------------------------------------------------\u001b[0m",
      "\u001b[1;31mTypeError\u001b[0m                                 Traceback (most recent call last)",
      "Cell \u001b[1;32mIn[37], line 1\u001b[0m\n\u001b[1;32m----> 1\u001b[0m d \u001b[38;5;241m=\u001b[39m {{\u001b[38;5;241m1\u001b[39m, \u001b[38;5;241m2\u001b[39m, \u001b[38;5;241m3\u001b[39m}:\u001b[38;5;124m\"\u001b[39m\u001b[38;5;124mkeshav\u001b[39m\u001b[38;5;124m\"\u001b[39m}\n",
      "\u001b[1;31mTypeError\u001b[0m: unhashable type: 'set'"
     ]
    }
   ],
   "source": [
    "d = {{1, 2, 3}:\"keshav\"}"
   ]
  },
  {
   "cell_type": "code",
   "execution_count": 38,
   "id": "0280c2a2-6f15-40e1-98fc-547eaaaff008",
   "metadata": {},
   "outputs": [
    {
     "ename": "TypeError",
     "evalue": "unhashable type: 'dict'",
     "output_type": "error",
     "traceback": [
      "\u001b[1;31m---------------------------------------------------------------------------\u001b[0m",
      "\u001b[1;31mTypeError\u001b[0m                                 Traceback (most recent call last)",
      "Cell \u001b[1;32mIn[38], line 1\u001b[0m\n\u001b[1;32m----> 1\u001b[0m d \u001b[38;5;241m=\u001b[39m {{\u001b[38;5;124m\"\u001b[39m\u001b[38;5;124mkey\u001b[39m\u001b[38;5;124m\"\u001b[39m:\u001b[38;5;241m123\u001b[39m} : \u001b[38;5;124m\"\u001b[39m\u001b[38;5;124mkeshav\u001b[39m\u001b[38;5;124m\"\u001b[39m}\n",
      "\u001b[1;31mTypeError\u001b[0m: unhashable type: 'dict'"
     ]
    }
   ],
   "source": [
    "d = {{\"key\":123} : \"keshav\"}"
   ]
  },
  {
   "cell_type": "code",
   "execution_count": 40,
   "id": "a5e08f9d-9819-4e31-8183-6554196ccec9",
   "metadata": {},
   "outputs": [],
   "source": [
    "#only string and numbers can be used as a key of the dictionary"
   ]
  },
  {
   "cell_type": "code",
   "execution_count": 41,
   "id": "a93d2958-ed69-4490-ab4c-716b8a88a892",
   "metadata": {},
   "outputs": [
    {
     "data": {
      "text/plain": [
       "{(1, 2, 3): 'abc'}"
      ]
     },
     "execution_count": 41,
     "metadata": {},
     "output_type": "execute_result"
    }
   ],
   "source": [
    "d"
   ]
  },
  {
   "cell_type": "code",
   "execution_count": 42,
   "id": "d03c5aa2-e40b-46bd-b27d-f1d0941c83ef",
   "metadata": {},
   "outputs": [],
   "source": [
    "d = {\"name\":\"Ajay\", \"email\":\"kp@gmail.com\", \"contact\": 1234, \"name\": \"keshav\"}\n",
    "#always the last key, value will be used"
   ]
  },
  {
   "cell_type": "code",
   "execution_count": 43,
   "id": "83c59a8f-97d4-4fa4-a230-467dc8855a83",
   "metadata": {},
   "outputs": [
    {
     "data": {
      "text/plain": [
       "{'name': 'keshav', 'email': 'kp@gmail.com', 'contact': 1234}"
      ]
     },
     "execution_count": 43,
     "metadata": {},
     "output_type": "execute_result"
    }
   ],
   "source": [
    "d"
   ]
  },
  {
   "cell_type": "code",
   "execution_count": 44,
   "id": "1ee315c6-3f51-4e62-a43f-ac6d2aeba2e2",
   "metadata": {},
   "outputs": [],
   "source": [
    "d[\"name\"] = \"Sanjay\""
   ]
  },
  {
   "cell_type": "code",
   "execution_count": 45,
   "id": "d5e16827-a6f0-4b55-9792-5faf675fba74",
   "metadata": {},
   "outputs": [
    {
     "data": {
      "text/plain": [
       "{'name': 'Sanjay', 'email': 'kp@gmail.com', 'contact': 1234}"
      ]
     },
     "execution_count": 45,
     "metadata": {},
     "output_type": "execute_result"
    }
   ],
   "source": [
    "d"
   ]
  },
  {
   "cell_type": "code",
   "execution_count": 46,
   "id": "58320a10-1b67-4cb4-b9f3-67fc411bee01",
   "metadata": {},
   "outputs": [],
   "source": [
    "d = {'name': ['keshav', \"dhruv\", 1, 2], 'email': 'kp@gmail.com', 'contact': (1234, 678)}"
   ]
  },
  {
   "cell_type": "code",
   "execution_count": 47,
   "id": "da10e9c2-304a-4837-aae0-9e45ce920ef7",
   "metadata": {},
   "outputs": [
    {
     "data": {
      "text/plain": [
       "{'name': ['keshav', 'dhruv', 1, 2],\n",
       " 'email': 'kp@gmail.com',\n",
       " 'contact': (1234, 678)}"
      ]
     },
     "execution_count": 47,
     "metadata": {},
     "output_type": "execute_result"
    }
   ],
   "source": [
    "d"
   ]
  },
  {
   "cell_type": "code",
   "execution_count": 50,
   "id": "4cf71c2d-ad18-4534-b062-1fe63bc11921",
   "metadata": {},
   "outputs": [],
   "source": [
    "d = {'name': ('keshav', \"dhruv\", 1, 2), 'email': ('kp@gmail.com' ), 'contact': (1234, 678)}"
   ]
  },
  {
   "cell_type": "code",
   "execution_count": 51,
   "id": "2a40704b-8364-4a00-9cd1-746cc38c9307",
   "metadata": {},
   "outputs": [
    {
     "data": {
      "text/plain": [
       "{'name': ('keshav', 'dhruv', 1, 2),\n",
       " 'email': 'kp@gmail.com',\n",
       " 'contact': (1234, 678)}"
      ]
     },
     "execution_count": 51,
     "metadata": {},
     "output_type": "execute_result"
    }
   ],
   "source": [
    "d"
   ]
  },
  {
   "cell_type": "code",
   "execution_count": 52,
   "id": "f30c9d58-a9cc-41ab-ad04-44ecb6058023",
   "metadata": {},
   "outputs": [
    {
     "data": {
      "text/plain": [
       "'dhruv'"
      ]
     },
     "execution_count": 52,
     "metadata": {},
     "output_type": "execute_result"
    }
   ],
   "source": [
    "d['name'][1]"
   ]
  },
  {
   "cell_type": "code",
   "execution_count": 53,
   "id": "32000407-3e19-4df7-9ee8-04a1baa4fde0",
   "metadata": {},
   "outputs": [
    {
     "data": {
      "text/plain": [
       "'keshav'"
      ]
     },
     "execution_count": 53,
     "metadata": {},
     "output_type": "execute_result"
    }
   ],
   "source": [
    "d['name'][0]"
   ]
  },
  {
   "cell_type": "code",
   "execution_count": 55,
   "id": "4198974d-c690-4dc3-9c62-9396f1964c29",
   "metadata": {},
   "outputs": [
    {
     "data": {
      "text/plain": [
       "2"
      ]
     },
     "execution_count": 55,
     "metadata": {},
     "output_type": "execute_result"
    }
   ],
   "source": [
    "d['name'][3]"
   ]
  },
  {
   "cell_type": "code",
   "execution_count": 56,
   "id": "485bdf54-8273-4747-9ffd-30a6ed461be1",
   "metadata": {},
   "outputs": [],
   "source": [
    "d[\"address\"] = \"mumbai\" #to create a new key value pair"
   ]
  },
  {
   "cell_type": "code",
   "execution_count": 58,
   "id": "7aed6587-982d-4632-a549-b8f63af91593",
   "metadata": {},
   "outputs": [
    {
     "data": {
      "text/plain": [
       "{'name': ('keshav', 'dhruv', 1, 2),\n",
       " 'email': 'kp@gmail.com',\n",
       " 'contact': (1234, 678),\n",
       " 'address': 'mumbai'}"
      ]
     },
     "execution_count": 58,
     "metadata": {},
     "output_type": "execute_result"
    }
   ],
   "source": [
    "d"
   ]
  },
  {
   "cell_type": "code",
   "execution_count": 59,
   "id": "c7c81eda-8a50-4771-ae04-92e9e14bb19f",
   "metadata": {},
   "outputs": [],
   "source": [
    "d[\"address\"] = \"Bangalore\" , [\"nagpur\"] #to create a new key value pair"
   ]
  },
  {
   "cell_type": "code",
   "execution_count": 60,
   "id": "3b43b292-4650-4bb5-9cac-cce64415ee00",
   "metadata": {},
   "outputs": [
    {
     "data": {
      "text/plain": [
       "{'name': ('keshav', 'dhruv', 1, 2),\n",
       " 'email': 'kp@gmail.com',\n",
       " 'contact': (1234, 678),\n",
       " 'address': ('Bangalore', ['nagpur'])}"
      ]
     },
     "execution_count": 60,
     "metadata": {},
     "output_type": "execute_result"
    }
   ],
   "source": [
    "d"
   ]
  },
  {
   "cell_type": "code",
   "execution_count": 61,
   "id": "08b5bf09-0113-497f-af19-d65ee958465a",
   "metadata": {},
   "outputs": [
    {
     "data": {
      "text/plain": [
       "'Bangalore'"
      ]
     },
     "execution_count": 61,
     "metadata": {},
     "output_type": "execute_result"
    }
   ],
   "source": [
    "d['address'][0]"
   ]
  },
  {
   "cell_type": "code",
   "execution_count": 62,
   "id": "4efe27f5-79fc-4187-8b79-6e68bd131379",
   "metadata": {},
   "outputs": [
    {
     "data": {
      "text/plain": [
       "['nagpur']"
      ]
     },
     "execution_count": 62,
     "metadata": {},
     "output_type": "execute_result"
    }
   ],
   "source": [
    "d['address'][1]"
   ]
  },
  {
   "cell_type": "code",
   "execution_count": 63,
   "id": "5a570976-0bd4-4baf-b9f8-f9528e73be9d",
   "metadata": {},
   "outputs": [],
   "source": [
    "del d[\"address\"] #to delete a key value pair"
   ]
  },
  {
   "cell_type": "code",
   "execution_count": 64,
   "id": "03885962-aa79-4378-86a2-9f34c30aa4cc",
   "metadata": {},
   "outputs": [
    {
     "data": {
      "text/plain": [
       "{'name': ('keshav', 'dhruv', 1, 2),\n",
       " 'email': 'kp@gmail.com',\n",
       " 'contact': (1234, 678)}"
      ]
     },
     "execution_count": 64,
     "metadata": {},
     "output_type": "execute_result"
    }
   ],
   "source": [
    "d"
   ]
  },
  {
   "cell_type": "code",
   "execution_count": 65,
   "id": "27716dd0-faaa-491a-bcc8-eec08ca9b831",
   "metadata": {},
   "outputs": [],
   "source": [
    "del d #delete the whole dictionary"
   ]
  },
  {
   "cell_type": "code",
   "execution_count": 66,
   "id": "507218b1-eaef-4b11-979e-37c0bc6fc0bc",
   "metadata": {},
   "outputs": [
    {
     "ename": "NameError",
     "evalue": "name 'd' is not defined",
     "output_type": "error",
     "traceback": [
      "\u001b[1;31m---------------------------------------------------------------------------\u001b[0m",
      "\u001b[1;31mNameError\u001b[0m                                 Traceback (most recent call last)",
      "Cell \u001b[1;32mIn[66], line 1\u001b[0m\n\u001b[1;32m----> 1\u001b[0m d\n",
      "\u001b[1;31mNameError\u001b[0m: name 'd' is not defined"
     ]
    }
   ],
   "source": [
    "d"
   ]
  },
  {
   "cell_type": "code",
   "execution_count": 67,
   "id": "9cb0a933-8566-448e-845e-2dc9efc6aafe",
   "metadata": {},
   "outputs": [
    {
     "data": {
      "text/plain": [
       "{'name': ['modi', 'gadkari', 1, 2],\n",
       " 'email': 'ng@gmail.com',\n",
       " 'contact': (1234, 678)}"
      ]
     },
     "execution_count": 67,
     "metadata": {},
     "output_type": "execute_result"
    }
   ],
   "source": [
    "d = {'name': ['modi', \"gadkari\", 1, 2], 'email': 'ng@gmail.com', 'contact': (1234, 678)}\n",
    "d"
   ]
  },
  {
   "cell_type": "code",
   "execution_count": 68,
   "id": "160ba382-c90f-4e7e-8f21-2240f84a7ab7",
   "metadata": {},
   "outputs": [],
   "source": [
    "d.clear() #empty dictionary"
   ]
  },
  {
   "cell_type": "code",
   "execution_count": 69,
   "id": "87613770-12c6-4a82-8b2e-dc7dadaaa879",
   "metadata": {},
   "outputs": [
    {
     "data": {
      "text/plain": [
       "{}"
      ]
     },
     "execution_count": 69,
     "metadata": {},
     "output_type": "execute_result"
    }
   ],
   "source": [
    "d"
   ]
  },
  {
   "cell_type": "code",
   "execution_count": 70,
   "id": "9a04de9d-cddd-4e24-a8dd-88d5f8e0d68e",
   "metadata": {},
   "outputs": [
    {
     "data": {
      "text/plain": [
       "3"
      ]
     },
     "execution_count": 70,
     "metadata": {},
     "output_type": "execute_result"
    }
   ],
   "source": [
    "d = {'name': ['modi', \"gadkari\", 1, 2], 'email': 'ng@gmail.com', 'contact': (1234, 678)}\n",
    "len(d)"
   ]
  },
  {
   "cell_type": "code",
   "execution_count": 71,
   "id": "65275f6d-b44c-42b7-8d78-84553ea393c5",
   "metadata": {},
   "outputs": [
    {
     "data": {
      "text/plain": [
       "dict_keys(['name', 'email', 'contact'])"
      ]
     },
     "execution_count": 71,
     "metadata": {},
     "output_type": "execute_result"
    }
   ],
   "source": [
    "d.keys()"
   ]
  },
  {
   "cell_type": "code",
   "execution_count": 72,
   "id": "447d878a-5087-4296-b577-1c548df9884c",
   "metadata": {},
   "outputs": [
    {
     "data": {
      "text/plain": [
       "dict_values([['modi', 'gadkari', 1, 2], 'ng@gmail.com', (1234, 678)])"
      ]
     },
     "execution_count": 72,
     "metadata": {},
     "output_type": "execute_result"
    }
   ],
   "source": [
    "d.values()"
   ]
  },
  {
   "cell_type": "code",
   "execution_count": 73,
   "id": "5c71ddaf-4e3a-4802-8eb7-06ad3d9ed948",
   "metadata": {},
   "outputs": [],
   "source": [
    "d1 = d.copy()"
   ]
  },
  {
   "cell_type": "code",
   "execution_count": 74,
   "id": "6c049e0a-9ea1-4d48-a52f-7dcaa6ac84dc",
   "metadata": {},
   "outputs": [
    {
     "data": {
      "text/plain": [
       "{'name': ['modi', 'gadkari', 1, 2],\n",
       " 'email': 'ng@gmail.com',\n",
       " 'contact': (1234, 678)}"
      ]
     },
     "execution_count": 74,
     "metadata": {},
     "output_type": "execute_result"
    }
   ],
   "source": [
    "d1"
   ]
  },
  {
   "cell_type": "code",
   "execution_count": 75,
   "id": "a2aefb91-18a6-447a-8e89-6eca29e10fca",
   "metadata": {},
   "outputs": [],
   "source": [
    "del d1"
   ]
  },
  {
   "cell_type": "code",
   "execution_count": 76,
   "id": "a2ac4a89-6065-4e67-a9d9-378ccec54242",
   "metadata": {},
   "outputs": [
    {
     "ename": "NameError",
     "evalue": "name 'd1' is not defined",
     "output_type": "error",
     "traceback": [
      "\u001b[1;31m---------------------------------------------------------------------------\u001b[0m",
      "\u001b[1;31mNameError\u001b[0m                                 Traceback (most recent call last)",
      "Cell \u001b[1;32mIn[76], line 1\u001b[0m\n\u001b[1;32m----> 1\u001b[0m d1\n",
      "\u001b[1;31mNameError\u001b[0m: name 'd1' is not defined"
     ]
    }
   ],
   "source": [
    "d1"
   ]
  },
  {
   "cell_type": "code",
   "execution_count": 77,
   "id": "28b2cb2c-4e82-46bf-97a4-306895ff2a5d",
   "metadata": {},
   "outputs": [
    {
     "data": {
      "text/plain": [
       "{'name': ['modi', 'gadkari', 1, 2],\n",
       " 'email': 'ng@gmail.com',\n",
       " 'contact': (1234, 678)}"
      ]
     },
     "execution_count": 77,
     "metadata": {},
     "output_type": "execute_result"
    }
   ],
   "source": [
    "d"
   ]
  },
  {
   "cell_type": "code",
   "execution_count": 78,
   "id": "d3b6a199-d82b-4d73-b575-bf0f191b836f",
   "metadata": {},
   "outputs": [
    {
     "data": {
      "text/plain": [
       "(1234, 678)"
      ]
     },
     "execution_count": 78,
     "metadata": {},
     "output_type": "execute_result"
    }
   ],
   "source": [
    "d.pop(\"contact\")"
   ]
  },
  {
   "cell_type": "code",
   "execution_count": 79,
   "id": "89f60e15-05e8-430d-89e0-d3f7f58013f1",
   "metadata": {},
   "outputs": [
    {
     "data": {
      "text/plain": [
       "{'name': ['modi', 'gadkari', 1, 2], 'email': 'ng@gmail.com'}"
      ]
     },
     "execution_count": 79,
     "metadata": {},
     "output_type": "execute_result"
    }
   ],
   "source": [
    "d"
   ]
  },
  {
   "cell_type": "code",
   "execution_count": 80,
   "id": "354043aa-7973-4d42-99de-1c1f36a5712d",
   "metadata": {},
   "outputs": [
    {
     "data": {
      "text/plain": [
       "{'clg': 'rbu'}"
      ]
     },
     "execution_count": 80,
     "metadata": {},
     "output_type": "execute_result"
    }
   ],
   "source": [
    "d1 = {\"clg\": \"rbu\"}\n",
    "d1"
   ]
  },
  {
   "cell_type": "code",
   "execution_count": 81,
   "id": "b66b6965-843f-40e4-9d6d-756488b801a1",
   "metadata": {},
   "outputs": [],
   "source": [
    "d.update(d1)"
   ]
  },
  {
   "cell_type": "code",
   "execution_count": 82,
   "id": "aa7ca814-76f3-4060-b88d-cfbd64a49e75",
   "metadata": {},
   "outputs": [
    {
     "data": {
      "text/plain": [
       "{'name': ['modi', 'gadkari', 1, 2], 'email': 'ng@gmail.com', 'clg': 'rbu'}"
      ]
     },
     "execution_count": 82,
     "metadata": {},
     "output_type": "execute_result"
    }
   ],
   "source": [
    "d"
   ]
  },
  {
   "cell_type": "code",
   "execution_count": 83,
   "id": "4df3a15e-264d-404f-b00a-a59bf187c9d9",
   "metadata": {},
   "outputs": [
    {
     "data": {
      "text/plain": [
       "['modi', 'gadkari', 1, 2]"
      ]
     },
     "execution_count": 83,
     "metadata": {},
     "output_type": "execute_result"
    }
   ],
   "source": [
    "d[\"name\"]"
   ]
  },
  {
   "cell_type": "code",
   "execution_count": 84,
   "id": "8e342929-61b8-40e3-ba4f-d246243764f1",
   "metadata": {},
   "outputs": [
    {
     "data": {
      "text/plain": [
       "['modi', 'gadkari', 1, 2]"
      ]
     },
     "execution_count": 84,
     "metadata": {},
     "output_type": "execute_result"
    }
   ],
   "source": [
    "d.get(\"name\")"
   ]
  },
  {
   "cell_type": "code",
   "execution_count": 85,
   "id": "ef4e074f-4437-44ec-b05f-73309fa77b62",
   "metadata": {},
   "outputs": [
    {
     "data": {
      "text/plain": [
       "{'name': ['modi', 'gadkari', 1, 2], 'email': 'ng@gmail.com', 'clg': 'rbu'}"
      ]
     },
     "execution_count": 85,
     "metadata": {},
     "output_type": "execute_result"
    }
   ],
   "source": [
    "d"
   ]
  },
  {
   "cell_type": "code",
   "execution_count": 86,
   "id": "b99b5196-9e1a-499d-9d8f-59b87828b38e",
   "metadata": {},
   "outputs": [
    {
     "data": {
      "text/plain": [
       "'rbu'"
      ]
     },
     "execution_count": 86,
     "metadata": {},
     "output_type": "execute_result"
    }
   ],
   "source": [
    "d[\"clg\"]"
   ]
  },
  {
   "cell_type": "code",
   "execution_count": 87,
   "id": "6f9635d6-0b1b-4294-98ce-2f3936585a1f",
   "metadata": {},
   "outputs": [
    {
     "data": {
      "text/plain": [
       "3"
      ]
     },
     "execution_count": 87,
     "metadata": {},
     "output_type": "execute_result"
    }
   ],
   "source": [
    "len(d)"
   ]
  },
  {
   "cell_type": "code",
   "execution_count": 88,
   "id": "d5f83146-eb45-4d30-b9fb-b1ba5c4aa69c",
   "metadata": {},
   "outputs": [
    {
     "data": {
      "text/plain": [
       "{1: ('a', 'b', 'c'), 2: ('a', 'b', 'c'), 3: ('a', 'b', 'c')}"
      ]
     },
     "execution_count": 88,
     "metadata": {},
     "output_type": "execute_result"
    }
   ],
   "source": [
    "#from keys\n",
    "d.fromkeys((1, 2, 3), (\"a\", \"b\", \"c\"))"
   ]
  },
  {
   "cell_type": "code",
   "execution_count": 95,
   "id": "5b12e56e-1902-495e-9142-b04dfac4dc02",
   "metadata": {},
   "outputs": [
    {
     "name": "stdout",
     "output_type": "stream",
     "text": [
      "('Arun', 80)\n",
      "('Ajay', 95)\n",
      "('Bijay', 100)\n"
     ]
    }
   ],
   "source": [
    "#dictionary comprehension\n",
    "\n",
    "#zip function\n",
    "students = [\"Arun\", \"Ajay\", \"Bijay\"]\n",
    "marks = [80, 95, 100]\n",
    "\n",
    "for i in zip(students, marks):\n",
    "    print(i)"
   ]
  },
  {
   "cell_type": "code",
   "execution_count": 96,
   "id": "85c88bc7-5560-45b7-8714-63fd8917757f",
   "metadata": {},
   "outputs": [
    {
     "name": "stdout",
     "output_type": "stream",
     "text": [
      "('keshav', '100')\n",
      "('ishan', '70')\n",
      "('hitanshu', '99')\n"
     ]
    }
   ],
   "source": [
    "students = [ \"keshav\" , \"ishan\" , \"hitanshu\"]\n",
    "marks = [\"100\" , \"70\" , \"99\"]\n",
    "\n",
    "for i in zip(students ,marks):\n",
    "       print(i)"
   ]
  },
  {
   "cell_type": "code",
   "execution_count": 97,
   "id": "b2ef499a-2d8a-4eff-9078-f7cb9acd4ca2",
   "metadata": {},
   "outputs": [],
   "source": [
    "students = [\"keshav\", \"ankur\", \"vivek\"]\n",
    "marks = [80, 95, 100]\n",
    "students_marks = {}\n",
    "for student, mark in zip(students, marks):\n",
    "    students_marks[student] = mark"
   ]
  },
  {
   "cell_type": "code",
   "execution_count": 98,
   "id": "179f4b63-f2e8-4729-a840-d372af5d473b",
   "metadata": {},
   "outputs": [
    {
     "data": {
      "text/plain": [
       "{'keshav': 80, 'ankur': 95, 'vivek': 100}"
      ]
     },
     "execution_count": 98,
     "metadata": {},
     "output_type": "execute_result"
    }
   ],
   "source": [
    "students_marks"
   ]
  },
  {
   "cell_type": "code",
   "execution_count": 1,
   "id": "e9c782ec-e66d-4cde-8ff6-e15cd38f0598",
   "metadata": {},
   "outputs": [
    {
     "data": {
      "text/plain": [
       "{'KESHAV': 80, 'HITANSHU': 95, 'DHRUV': 100}"
      ]
     },
     "execution_count": 1,
     "metadata": {},
     "output_type": "execute_result"
    }
   ],
   "source": [
    "#using dictionary comprehension method\n",
    "students = [\"KESHAV\", \"HITANSHU\", \"DHRUV\"]\n",
    "marks = [80, 95, 100]\n",
    "{student:marks for student, marks in zip(students, marks)}"
   ]
  },
  {
   "cell_type": "code",
   "execution_count": 2,
   "id": "a1029a92-4903-4a5e-8756-42eb0a132ad7",
   "metadata": {},
   "outputs": [],
   "source": [
    "#use case\n",
    "user_id = [1, 2, 3]\n",
    "user_name = [\"a21\", \"a22\", \"a23\"]"
   ]
  },
  {
   "cell_type": "code",
   "execution_count": 3,
   "id": "57752e2c-58cf-4e5c-8f45-06611742a0a4",
   "metadata": {},
   "outputs": [
    {
     "data": {
      "text/plain": [
       "[1, 2, 3]"
      ]
     },
     "execution_count": 3,
     "metadata": {},
     "output_type": "execute_result"
    }
   ],
   "source": [
    "user_id"
   ]
  },
  {
   "cell_type": "code",
   "execution_count": 5,
   "id": "9ac9da5d-cee7-45bb-8257-8d4267851519",
   "metadata": {},
   "outputs": [
    {
     "data": {
      "text/plain": [
       "['a21', 'a22', 'a23']"
      ]
     },
     "execution_count": 5,
     "metadata": {},
     "output_type": "execute_result"
    }
   ],
   "source": [
    "user_name"
   ]
  },
  {
   "cell_type": "code",
   "execution_count": 6,
   "id": "29a5cd5e-cbcf-4b53-8f79-4ff57dd3d07e",
   "metadata": {},
   "outputs": [],
   "source": [
    "user_id : user_name"
   ]
  },
  {
   "cell_type": "code",
   "execution_count": null,
   "id": "92782d87-299d-458e-8aa2-9e6bfc82863c",
   "metadata": {},
   "outputs": [],
   "source": []
  }
 ],
 "metadata": {
  "kernelspec": {
   "display_name": "Python 3 (ipykernel)",
   "language": "python",
   "name": "python3"
  },
  "language_info": {
   "codemirror_mode": {
    "name": "ipython",
    "version": 3
   },
   "file_extension": ".py",
   "mimetype": "text/x-python",
   "name": "python",
   "nbconvert_exporter": "python",
   "pygments_lexer": "ipython3",
   "version": "3.12.7"
  }
 },
 "nbformat": 4,
 "nbformat_minor": 5
}
