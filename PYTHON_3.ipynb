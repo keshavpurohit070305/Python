{
 "cells": [
  {
   "cell_type": "markdown",
   "id": "1b395999-1334-4e08-8821-343ca13e690c",
   "metadata": {},
   "source": [
    "# OVERVIEW OF DATA STRUCTURE IN PYTHON"
   ]
  },
  {
   "cell_type": "markdown",
   "id": "a4e79a96-b25d-4208-bc17-4db82387f226",
   "metadata": {},
   "source": [
    " DATA STRUCTURE IS A WAY OF STORING DATA SO THAT IT CAN BE ACCESSED AND MANIPULATED EFFICIENTLY\n",
    " DATA STRUCTURE -> STRING , LIST , SET , TUPLE , DICTIONARY , ARRAY"
   ]
  },
  {
   "cell_type": "markdown",
   "id": "08d6cebe-2b27-459d-a159-27af28c90342",
   "metadata": {},
   "source": [
    "LIST->\n"
   ]
  },
  {
   "cell_type": "markdown",
   "id": "77285ec3-1270-417e-a638-e72a53657b2f",
   "metadata": {},
   "source": [
    "you can store anything in list\n"
   ]
  },
  {
   "cell_type": "markdown",
   "id": "90345ee9-be1a-4d84-9282-a28ac942eac9",
   "metadata": {},
   "source": [
    "we can store heterogenous data\n"
   ]
  },
  {
   "cell_type": "markdown",
   "id": "0dea395c-294e-4b04-8441-0050737f9b0d",
   "metadata": {},
   "source": [
    "list is an ordered collection of elements which can be of any data types\n"
   ]
  },
  {
   "cell_type": "markdown",
   "id": "69af6e07-bee8-449b-b07e-ccbe72a5601e",
   "metadata": {},
   "source": [
    "list are mutable"
   ]
  },
  {
   "cell_type": "code",
   "execution_count": 3,
   "id": "27fbeabb-2be6-4903-b7c2-c8d54dd127e2",
   "metadata": {},
   "outputs": [],
   "source": [
    "num = [1,2,3,4,5]"
   ]
  },
  {
   "cell_type": "code",
   "execution_count": 4,
   "id": "f2899e88-591b-4b9f-ab1c-1618d2ca5e66",
   "metadata": {},
   "outputs": [
    {
     "data": {
      "text/plain": [
       "[1, 2, 3, 4, 5]"
      ]
     },
     "execution_count": 4,
     "metadata": {},
     "output_type": "execute_result"
    }
   ],
   "source": [
    "num"
   ]
  },
  {
   "cell_type": "code",
   "execution_count": 5,
   "id": "796ef47b-b3c8-4610-8167-9934e8d5d4fb",
   "metadata": {},
   "outputs": [
    {
     "data": {
      "text/plain": [
       "list"
      ]
     },
     "execution_count": 5,
     "metadata": {},
     "output_type": "execute_result"
    }
   ],
   "source": [
    "type(num)"
   ]
  },
  {
   "cell_type": "code",
   "execution_count": 6,
   "id": "46148729-7041-41d4-972e-c9c43f9936ef",
   "metadata": {},
   "outputs": [
    {
     "data": {
      "text/plain": [
       "1"
      ]
     },
     "execution_count": 6,
     "metadata": {},
     "output_type": "execute_result"
    }
   ],
   "source": [
    "num[0]"
   ]
  },
  {
   "cell_type": "code",
   "execution_count": 7,
   "id": "87122c44-b915-400c-b963-eb339c0f96ca",
   "metadata": {},
   "outputs": [
    {
     "data": {
      "text/plain": [
       "2"
      ]
     },
     "execution_count": 7,
     "metadata": {},
     "output_type": "execute_result"
    }
   ],
   "source": [
    "num[1]"
   ]
  },
  {
   "cell_type": "code",
   "execution_count": 8,
   "id": "f1934026-8300-47f4-b2f8-aeda2257c6c0",
   "metadata": {},
   "outputs": [
    {
     "data": {
      "text/plain": [
       "5"
      ]
     },
     "execution_count": 8,
     "metadata": {},
     "output_type": "execute_result"
    }
   ],
   "source": [
    "num[-1]"
   ]
  },
  {
   "cell_type": "code",
   "execution_count": 9,
   "id": "4c313433-5b17-4406-8fef-f9d1041c4968",
   "metadata": {},
   "outputs": [
    {
     "data": {
      "text/plain": [
       "5"
      ]
     },
     "execution_count": 9,
     "metadata": {},
     "output_type": "execute_result"
    }
   ],
   "source": [
    "num[4]"
   ]
  },
  {
   "cell_type": "code",
   "execution_count": 10,
   "id": "cf4857a0-63e5-40fb-956d-78f44b6590c5",
   "metadata": {},
   "outputs": [
    {
     "ename": "IndexError",
     "evalue": "list index out of range",
     "output_type": "error",
     "traceback": [
      "\u001b[1;31m---------------------------------------------------------------------------\u001b[0m",
      "\u001b[1;31mIndexError\u001b[0m                                Traceback (most recent call last)",
      "Cell \u001b[1;32mIn[10], line 1\u001b[0m\n\u001b[1;32m----> 1\u001b[0m num[\u001b[38;5;241m5\u001b[39m]\n",
      "\u001b[1;31mIndexError\u001b[0m: list index out of range"
     ]
    }
   ],
   "source": [
    "num[5] #an error list index out of range"
   ]
  },
  {
   "cell_type": "code",
   "execution_count": 11,
   "id": "cf45418e-1364-49c1-9002-ef57b327229a",
   "metadata": {},
   "outputs": [],
   "source": [
    "a = [1, 2, 3.3, \"baingan\", \"tomato\", \"banana\", True, False, 3+7j]"
   ]
  },
  {
   "cell_type": "code",
   "execution_count": 12,
   "id": "c1c7a279-4411-4fb3-9d32-73d9d1b3bd7b",
   "metadata": {},
   "outputs": [
    {
     "data": {
      "text/plain": [
       "[1, 2, 3.3, 'baingan', 'tomato', 'banana', True, False, (3+7j)]"
      ]
     },
     "execution_count": 12,
     "metadata": {},
     "output_type": "execute_result"
    }
   ],
   "source": [
    "a #list can store any data type>> heterogenous data structure"
   ]
  },
  {
   "cell_type": "code",
   "execution_count": 13,
   "id": "f6336815-e1f7-4dbe-a401-8ed9fa2cc23c",
   "metadata": {},
   "outputs": [
    {
     "data": {
      "text/plain": [
       "list"
      ]
     },
     "execution_count": 13,
     "metadata": {},
     "output_type": "execute_result"
    }
   ],
   "source": [
    "type(a)"
   ]
  },
  {
   "cell_type": "code",
   "execution_count": 14,
   "id": "7ee122dd-2654-4c2c-a689-aad43915cb62",
   "metadata": {},
   "outputs": [],
   "source": [
    "#adding element to the list"
   ]
  },
  {
   "cell_type": "code",
   "execution_count": 15,
   "id": "a73633b7-4389-47ed-9b21-78442ffbae50",
   "metadata": {},
   "outputs": [],
   "source": [
    "a.append(\"orange\")"
   ]
  },
  {
   "cell_type": "code",
   "execution_count": 16,
   "id": "137f2424-1943-42e8-8d38-2bfa00b8f933",
   "metadata": {},
   "outputs": [
    {
     "data": {
      "text/plain": [
       "[1, 2, 3.3, 'baingan', 'tomato', 'banana', True, False, (3+7j), 'orange']"
      ]
     },
     "execution_count": 16,
     "metadata": {},
     "output_type": "execute_result"
    }
   ],
   "source": [
    "a"
   ]
  },
  {
   "cell_type": "code",
   "execution_count": 17,
   "id": "9825d4d9-de9f-461d-a627-380901cf195e",
   "metadata": {},
   "outputs": [],
   "source": [
    "a.append(\"Nagpur\")"
   ]
  },
  {
   "cell_type": "code",
   "execution_count": 18,
   "id": "aa74f4ad-8e71-44ce-83ab-b8c6bd753280",
   "metadata": {},
   "outputs": [
    {
     "data": {
      "text/plain": [
       "[1,\n",
       " 2,\n",
       " 3.3,\n",
       " 'baingan',\n",
       " 'tomato',\n",
       " 'banana',\n",
       " True,\n",
       " False,\n",
       " (3+7j),\n",
       " 'orange',\n",
       " 'Nagpur']"
      ]
     },
     "execution_count": 18,
     "metadata": {},
     "output_type": "execute_result"
    }
   ],
   "source": [
    "a"
   ]
  },
  {
   "cell_type": "code",
   "execution_count": 19,
   "id": "cf3d9312-dc12-4b74-b458-6e72a069bbf6",
   "metadata": {},
   "outputs": [],
   "source": [
    "a.remove(\"Nagpur\")"
   ]
  },
  {
   "cell_type": "code",
   "execution_count": 20,
   "id": "d8349cdb-f637-4169-91ce-73b7ea5b9bfd",
   "metadata": {},
   "outputs": [
    {
     "data": {
      "text/plain": [
       "[1, 2, 3.3, 'baingan', 'tomato', 'banana', True, False, (3+7j), 'orange']"
      ]
     },
     "execution_count": 20,
     "metadata": {},
     "output_type": "execute_result"
    }
   ],
   "source": [
    "a"
   ]
  },
  {
   "cell_type": "code",
   "execution_count": 21,
   "id": "7fa50f61-ad7a-4c3e-98a6-307d7d630891",
   "metadata": {},
   "outputs": [],
   "source": [
    "a.remove('baingan')"
   ]
  },
  {
   "cell_type": "code",
   "execution_count": 22,
   "id": "5dabe5f4-d87a-4142-a8d7-c51f02aa3708",
   "metadata": {},
   "outputs": [
    {
     "data": {
      "text/plain": [
       "[1, 2, 3.3, 'tomato', 'banana', True, False, (3+7j), 'orange']"
      ]
     },
     "execution_count": 22,
     "metadata": {},
     "output_type": "execute_result"
    }
   ],
   "source": [
    "a"
   ]
  },
  {
   "cell_type": "code",
   "execution_count": 23,
   "id": "aca74b30-6b18-4907-be28-297a6b6691b0",
   "metadata": {},
   "outputs": [],
   "source": [
    "lis = [[1, 2, 3], [4, 5, 6], [7, 8, 9]]"
   ]
  },
  {
   "cell_type": "code",
   "execution_count": 24,
   "id": "52f250c2-61ab-4e17-a8e4-bf5a87a1e140",
   "metadata": {},
   "outputs": [
    {
     "data": {
      "text/plain": [
       "[[1, 2, 3], [4, 5, 6], [7, 8, 9]]"
      ]
     },
     "execution_count": 24,
     "metadata": {},
     "output_type": "execute_result"
    }
   ],
   "source": [
    "lis"
   ]
  },
  {
   "cell_type": "code",
   "execution_count": 25,
   "id": "2d300120-bc31-48c1-a958-d6d28b725eda",
   "metadata": {},
   "outputs": [
    {
     "data": {
      "text/plain": [
       "list"
      ]
     },
     "execution_count": 25,
     "metadata": {},
     "output_type": "execute_result"
    }
   ],
   "source": [
    "type(lis)"
   ]
  },
  {
   "cell_type": "code",
   "execution_count": 26,
   "id": "12481608-d7c1-48b7-83e6-9188fcdcc154",
   "metadata": {},
   "outputs": [
    {
     "data": {
      "text/plain": [
       "2"
      ]
     },
     "execution_count": 26,
     "metadata": {},
     "output_type": "execute_result"
    }
   ],
   "source": [
    "lis[0][1]"
   ]
  },
  {
   "cell_type": "code",
   "execution_count": 27,
   "id": "24505e72-ff88-495f-834f-1b800c169283",
   "metadata": {},
   "outputs": [
    {
     "data": {
      "text/plain": [
       "5"
      ]
     },
     "execution_count": 27,
     "metadata": {},
     "output_type": "execute_result"
    }
   ],
   "source": [
    "lis[1][1]"
   ]
  },
  {
   "cell_type": "code",
   "execution_count": 28,
   "id": "e243815a-fe84-4f83-9b24-b990ee7e091d",
   "metadata": {},
   "outputs": [
    {
     "data": {
      "text/plain": [
       "9"
      ]
     },
     "execution_count": 28,
     "metadata": {},
     "output_type": "execute_result"
    }
   ],
   "source": [
    "lis[2][2]"
   ]
  },
  {
   "cell_type": "code",
   "execution_count": 29,
   "id": "f5696ad3-3a68-4a3b-9930-a3c57f4c1829",
   "metadata": {},
   "outputs": [],
   "source": [
    "#list is mutable\n",
    "shopping_list = [\"Baingan\", \"Apple\", 2, 3.4, True]\n",
    "shopping_list[0] = \"Potato\""
   ]
  },
  {
   "cell_type": "code",
   "execution_count": 30,
   "id": "92f5d51f-2ea4-4a74-9dc1-d1298a823d6c",
   "metadata": {},
   "outputs": [
    {
     "data": {
      "text/plain": [
       "['Potato', 'Apple', 2, 3.4, True]"
      ]
     },
     "execution_count": 30,
     "metadata": {},
     "output_type": "execute_result"
    }
   ],
   "source": [
    "shopping_list"
   ]
  },
  {
   "cell_type": "code",
   "execution_count": 31,
   "id": "5e85ada8-8a70-4c55-9158-68669d2ca701",
   "metadata": {},
   "outputs": [
    {
     "name": "stdout",
     "output_type": "stream",
     "text": [
      "Potato Apple 2 3.4 True "
     ]
    }
   ],
   "source": [
    "for item in shopping_list:\n",
    "    print(item, end = \" \")\n",
    "    \n",
    "#use of list >> can store any data and it is mutable"
   ]
  },
  {
   "cell_type": "code",
   "execution_count": 32,
   "id": "c1469b62-8cab-4622-a3b0-ae610b985b18",
   "metadata": {},
   "outputs": [],
   "source": [
    "##Tuples >> Immutable\n",
    "point = (2, 3)"
   ]
  },
  {
   "cell_type": "code",
   "execution_count": 33,
   "id": "a5adc141-5f4f-4a4b-b568-050c069636aa",
   "metadata": {},
   "outputs": [
    {
     "data": {
      "text/plain": [
       "(2, 3)"
      ]
     },
     "execution_count": 33,
     "metadata": {},
     "output_type": "execute_result"
    }
   ],
   "source": [
    "point"
   ]
  },
  {
   "cell_type": "code",
   "execution_count": 34,
   "id": "105f529d-4ace-4d90-83cb-aecafcd6653c",
   "metadata": {},
   "outputs": [
    {
     "data": {
      "text/plain": [
       "tuple"
      ]
     },
     "execution_count": 34,
     "metadata": {},
     "output_type": "execute_result"
    }
   ],
   "source": [
    "type(point)"
   ]
  },
  {
   "cell_type": "code",
   "execution_count": 35,
   "id": "4c21c6d8-385b-4bea-8773-ae121b0c2008",
   "metadata": {},
   "outputs": [],
   "source": [
    "#use case>>adhar card, atm, empid>> you dont want to change, you will use tuple to store the data"
   ]
  },
  {
   "cell_type": "code",
   "execution_count": 36,
   "id": "623116d8-db19-4324-9601-0df642593d18",
   "metadata": {},
   "outputs": [],
   "source": [
    "\n",
    "\n",
    "t = (1, 2, 2.3, True, 3+5j, \"Ajay\") #tuple can store heterogenous data"
   ]
  },
  {
   "cell_type": "code",
   "execution_count": 37,
   "id": "c49bb00d-0dff-4839-8478-3e52ba1a229f",
   "metadata": {},
   "outputs": [
    {
     "data": {
      "text/plain": [
       "tuple"
      ]
     },
     "execution_count": 37,
     "metadata": {},
     "output_type": "execute_result"
    }
   ],
   "source": [
    "type(t)"
   ]
  },
  {
   "cell_type": "code",
   "execution_count": 38,
   "id": "529c1bc5-ad22-45fb-8eb0-69f516a65bf5",
   "metadata": {},
   "outputs": [
    {
     "data": {
      "text/plain": [
       "(1, 2, 2.3, True, (3+5j), 'Ajay')"
      ]
     },
     "execution_count": 38,
     "metadata": {},
     "output_type": "execute_result"
    }
   ],
   "source": [
    "t"
   ]
  },
  {
   "cell_type": "code",
   "execution_count": 39,
   "id": "5e9dca3b-3101-4b60-8446-bb3fe6aedd43",
   "metadata": {},
   "outputs": [],
   "source": [
    "emp_name = (\"Ajay\", \"Ajay1\", \"Bijay\", \"Sanjay\")"
   ]
  },
  {
   "cell_type": "code",
   "execution_count": 40,
   "id": "a591f0d0-71aa-4962-9e8e-d7584292fcad",
   "metadata": {},
   "outputs": [
    {
     "data": {
      "text/plain": [
       "tuple"
      ]
     },
     "execution_count": 40,
     "metadata": {},
     "output_type": "execute_result"
    }
   ],
   "source": [
    "type(emp_name)"
   ]
  },
  {
   "cell_type": "code",
   "execution_count": 41,
   "id": "af0ef805-9581-4a28-bed1-77a71107f091",
   "metadata": {},
   "outputs": [
    {
     "data": {
      "text/plain": [
       "'Ajay'"
      ]
     },
     "execution_count": 41,
     "metadata": {},
     "output_type": "execute_result"
    }
   ],
   "source": [
    "emp_name[0]"
   ]
  },
  {
   "cell_type": "code",
   "execution_count": 42,
   "id": "fc45b7b9-032d-4920-90e6-fd8dee910818",
   "metadata": {},
   "outputs": [
    {
     "data": {
      "text/plain": [
       "'Ajay1'"
      ]
     },
     "execution_count": 42,
     "metadata": {},
     "output_type": "execute_result"
    }
   ],
   "source": [
    "emp_name[1]"
   ]
  },
  {
   "cell_type": "code",
   "execution_count": 43,
   "id": "4a5a389f-4539-4f0f-b91f-b91ec911c3c7",
   "metadata": {},
   "outputs": [
    {
     "data": {
      "text/plain": [
       "'Sanjay'"
      ]
     },
     "execution_count": 43,
     "metadata": {},
     "output_type": "execute_result"
    }
   ],
   "source": [
    "emp_name[-1]"
   ]
  },
  {
   "cell_type": "code",
   "execution_count": 44,
   "id": "1cc083e8-1496-43fb-ba82-794523ee9cb0",
   "metadata": {},
   "outputs": [
    {
     "ename": "TypeError",
     "evalue": "'tuple' object does not support item assignment",
     "output_type": "error",
     "traceback": [
      "\u001b[1;31m---------------------------------------------------------------------------\u001b[0m",
      "\u001b[1;31mTypeError\u001b[0m                                 Traceback (most recent call last)",
      "Cell \u001b[1;32mIn[44], line 1\u001b[0m\n\u001b[1;32m----> 1\u001b[0m emp_name[\u001b[38;5;241m2\u001b[39m]  \u001b[38;5;241m=\u001b[39m \u001b[38;5;124m\"\u001b[39m\u001b[38;5;124mRahul\u001b[39m\u001b[38;5;124m\"\u001b[39m\n",
      "\u001b[1;31mTypeError\u001b[0m: 'tuple' object does not support item assignment"
     ]
    }
   ],
   "source": [
    "emp_name[2]  = \"Rahul\" #tuples are immutable"
   ]
  },
  {
   "cell_type": "code",
   "execution_count": 45,
   "id": "148e1a81-6fed-446e-9410-7e75a5b3a79d",
   "metadata": {},
   "outputs": [],
   "source": [
    "box1 = (\"a\", \"b\")\n",
    "box2 = (\"c\", \"d\")\n",
    "choc_bag = (box1, box2)"
   ]
  },
  {
   "cell_type": "code",
   "execution_count": 46,
   "id": "beda23c0-332c-4a4d-b807-2e947bb1a745",
   "metadata": {},
   "outputs": [
    {
     "data": {
      "text/plain": [
       "tuple"
      ]
     },
     "execution_count": 46,
     "metadata": {},
     "output_type": "execute_result"
    }
   ],
   "source": [
    "type(choc_bag)"
   ]
  },
  {
   "cell_type": "code",
   "execution_count": 47,
   "id": "7ab62288-7fc4-49f7-a1f6-b3f93a6da302",
   "metadata": {},
   "outputs": [
    {
     "data": {
      "text/plain": [
       "(('a', 'b'), ('c', 'd'))"
      ]
     },
     "execution_count": 47,
     "metadata": {},
     "output_type": "execute_result"
    }
   ],
   "source": [
    "choc_bag"
   ]
  },
  {
   "cell_type": "code",
   "execution_count": 48,
   "id": "e290beba-7401-472a-8db0-a334fc372882",
   "metadata": {},
   "outputs": [
    {
     "name": "stdout",
     "output_type": "stream",
     "text": [
      "a\n",
      "b\n",
      "c\n",
      "d\n"
     ]
    }
   ],
   "source": [
    "for box in choc_bag:\n",
    "    for choc in box:\n",
    "        print(choc)"
   ]
  },
  {
   "cell_type": "code",
   "execution_count": 49,
   "id": "81c84998-2669-448f-8635-752e2768d1f0",
   "metadata": {},
   "outputs": [],
   "source": [
    "#sets >> are unordered collection of unique element"
   ]
  },
  {
   "cell_type": "code",
   "execution_count": 50,
   "id": "23f42640-6f0a-4489-ae39-af7fd112c69a",
   "metadata": {},
   "outputs": [],
   "source": [
    "s = {\"red\", \"orange\"}"
   ]
  },
  {
   "cell_type": "code",
   "execution_count": 51,
   "id": "8a742f6a-c9b2-4bed-ab26-c2e060ba2390",
   "metadata": {},
   "outputs": [
    {
     "data": {
      "text/plain": [
       "set"
      ]
     },
     "execution_count": 51,
     "metadata": {},
     "output_type": "execute_result"
    }
   ],
   "source": [
    "type(s)"
   ]
  },
  {
   "cell_type": "code",
   "execution_count": 52,
   "id": "aeacac56-c628-4651-9484-6c818e588572",
   "metadata": {},
   "outputs": [
    {
     "data": {
      "text/plain": [
       "{'blue', 'orange', 'red'}"
      ]
     },
     "execution_count": 52,
     "metadata": {},
     "output_type": "execute_result"
    }
   ],
   "source": [
    "s = {\"red\", \"orange\", \"red\", \"blue\", \"orange\"}\n",
    "s"
   ]
  },
  {
   "cell_type": "code",
   "execution_count": 53,
   "id": "daa342e3-c6f6-4ece-9822-90e6ed927aaf",
   "metadata": {},
   "outputs": [],
   "source": [
    "s = {\"a\", \"a\", \"a\", 1, 1.1, 1.1, 1.1, 2, 2, 2}"
   ]
  },
  {
   "cell_type": "code",
   "execution_count": 54,
   "id": "cf4f6a5e-bccc-4b9c-88c4-237d6fce8277",
   "metadata": {},
   "outputs": [
    {
     "data": {
      "text/plain": [
       "{1, 1.1, 2, 'a'}"
      ]
     },
     "execution_count": 54,
     "metadata": {},
     "output_type": "execute_result"
    }
   ],
   "source": [
    "s"
   ]
  },
  {
   "cell_type": "code",
   "execution_count": 55,
   "id": "a0cb10c0-91ae-4cd6-a6a4-6860eed154ec",
   "metadata": {},
   "outputs": [
    {
     "ename": "TypeError",
     "evalue": "'set' object is not subscriptable",
     "output_type": "error",
     "traceback": [
      "\u001b[1;31m---------------------------------------------------------------------------\u001b[0m",
      "\u001b[1;31mTypeError\u001b[0m                                 Traceback (most recent call last)",
      "Cell \u001b[1;32mIn[55], line 1\u001b[0m\n\u001b[1;32m----> 1\u001b[0m s[\u001b[38;5;241m0\u001b[39m]\n",
      "\u001b[1;31mTypeError\u001b[0m: 'set' object is not subscriptable"
     ]
    }
   ],
   "source": [
    "s[0] #error>> no concept of indexing as sets are unordered and unique"
   ]
  },
  {
   "cell_type": "code",
   "execution_count": 56,
   "id": "7f2e2c9c-ba7c-438a-985e-4c5be168166c",
   "metadata": {},
   "outputs": [],
   "source": [
    "s.add(\"keshav_purohit\") #mutable sets"
   ]
  },
  {
   "cell_type": "code",
   "execution_count": 57,
   "id": "456cbc68-bc59-4543-a940-5ebaacc0448d",
   "metadata": {},
   "outputs": [
    {
     "data": {
      "text/plain": [
       "{1, 1.1, 2, 'a', 'keshav_purohit'}"
      ]
     },
     "execution_count": 57,
     "metadata": {},
     "output_type": "execute_result"
    }
   ],
   "source": [
    "s"
   ]
  },
  {
   "cell_type": "code",
   "execution_count": 58,
   "id": "4cb35e47-12a7-49d0-b112-f3bbaa771d81",
   "metadata": {},
   "outputs": [],
   "source": [
    "s.remove(\"keshav_purohit\")"
   ]
  },
  {
   "cell_type": "code",
   "execution_count": 59,
   "id": "c9950968-dd4d-4745-8f63-d7bc805c8056",
   "metadata": {},
   "outputs": [
    {
     "data": {
      "text/plain": [
       "{1, 1.1, 2, 'a'}"
      ]
     },
     "execution_count": 59,
     "metadata": {},
     "output_type": "execute_result"
    }
   ],
   "source": [
    "s"
   ]
  },
  {
   "cell_type": "code",
   "execution_count": 60,
   "id": "5d949f88-7a22-4202-b7a7-9c54920446e9",
   "metadata": {},
   "outputs": [
    {
     "data": {
      "text/plain": [
       "{'apple', 'banana', 'egg'}"
      ]
     },
     "execution_count": 60,
     "metadata": {},
     "output_type": "execute_result"
    }
   ],
   "source": [
    "#use case of sets>> to get unique elements\n",
    "grocery_list = {\"apple\", \"banana\", \"banana\", \"egg\", \"egg\"}\n",
    "grocery_list"
   ]
  },
  {
   "cell_type": "code",
   "execution_count": 61,
   "id": "1095a4ef-fc0c-43c0-9bc2-6af2d2fd4c5f",
   "metadata": {},
   "outputs": [],
   "source": [
    "#dictionaries>>which stores the data in the form of key value pair\n",
    "my_dict = {}"
   ]
  },
  {
   "cell_type": "code",
   "execution_count": 62,
   "id": "f0d44240-3786-4c34-a5e0-1faa0b7b1da4",
   "metadata": {},
   "outputs": [
    {
     "data": {
      "text/plain": [
       "dict"
      ]
     },
     "execution_count": 62,
     "metadata": {},
     "output_type": "execute_result"
    }
   ],
   "source": [
    "type(my_dict)"
   ]
  },
  {
   "cell_type": "code",
   "execution_count": 63,
   "id": "e940f8e4-9462-4117-991c-71d7b9a70170",
   "metadata": {},
   "outputs": [],
   "source": [
    "my_dict = {\"key_course\" : \"data science\", \"duration\":200}"
   ]
  },
  {
   "cell_type": "code",
   "execution_count": 64,
   "id": "0291a9e8-2d3f-49e3-b88e-0c518a725371",
   "metadata": {},
   "outputs": [
    {
     "data": {
      "text/plain": [
       "dict"
      ]
     },
     "execution_count": 64,
     "metadata": {},
     "output_type": "execute_result"
    }
   ],
   "source": [
    "type(my_dict)"
   ]
  },
  {
   "cell_type": "code",
   "execution_count": 65,
   "id": "2c8e4ecc-529c-48a7-a89a-de31bd14d35a",
   "metadata": {},
   "outputs": [],
   "source": [
    "#use cases\n",
    "phonebook = {\"Dad\": 1234, \"Mom\":456}"
   ]
  },
  {
   "cell_type": "code",
   "execution_count": 66,
   "id": "d1b19469-a941-468a-a0a5-c46bbdfbedf6",
   "metadata": {},
   "outputs": [
    {
     "data": {
      "text/plain": [
       "{'Dad': 1234, 'Mom': 456}"
      ]
     },
     "execution_count": 66,
     "metadata": {},
     "output_type": "execute_result"
    }
   ],
   "source": [
    "phonebook"
   ]
  },
  {
   "cell_type": "code",
   "execution_count": 67,
   "id": "e12ac466-70a8-4168-8179-99685f24f946",
   "metadata": {},
   "outputs": [
    {
     "data": {
      "text/plain": [
       "dict"
      ]
     },
     "execution_count": 67,
     "metadata": {},
     "output_type": "execute_result"
    }
   ],
   "source": [
    "type(phonebook)"
   ]
  },
  {
   "cell_type": "code",
   "execution_count": 68,
   "id": "fc366f68-da88-439b-ada4-a4c949282b1c",
   "metadata": {},
   "outputs": [
    {
     "data": {
      "text/plain": [
       "1234"
      ]
     },
     "execution_count": 68,
     "metadata": {},
     "output_type": "execute_result"
    }
   ],
   "source": [
    "phonebook[\"Dad\"]"
   ]
  },
  {
   "cell_type": "code",
   "execution_count": 69,
   "id": "c4032995-93e1-4b4d-bf85-035770bff624",
   "metadata": {},
   "outputs": [
    {
     "data": {
      "text/plain": [
       "456"
      ]
     },
     "execution_count": 69,
     "metadata": {},
     "output_type": "execute_result"
    }
   ],
   "source": [
    "phonebook[\"Mom\"]"
   ]
  },
  {
   "cell_type": "code",
   "execution_count": 70,
   "id": "e9dd3cfa-9af8-420f-9a92-240d706f61fd",
   "metadata": {},
   "outputs": [],
   "source": [
    "phonebook = {\"Dad\": 1234, \"Mom\":456, \"Dad\": 780}"
   ]
  },
  {
   "cell_type": "code",
   "execution_count": 71,
   "id": "036e70b8-e74d-477e-9835-667836043662",
   "metadata": {},
   "outputs": [
    {
     "data": {
      "text/plain": [
       "780"
      ]
     },
     "execution_count": 71,
     "metadata": {},
     "output_type": "execute_result"
    }
   ],
   "source": [
    "phonebook[\"Dad\"]"
   ]
  },
  {
   "cell_type": "code",
   "execution_count": 72,
   "id": "9d1bb398-9519-4c4b-a04a-f58ffba87302",
   "metadata": {},
   "outputs": [
    {
     "data": {
      "text/plain": [
       "{'paneer_kofta': 480, 'chicken_handi': 590}"
      ]
     },
     "execution_count": 72,
     "metadata": {},
     "output_type": "execute_result"
    }
   ],
   "source": [
    "rest_menu = {\"paneer_kofta\": 480, \"chicken_handi\": 590}\n",
    "rest_menu"
   ]
  },
  {
   "cell_type": "code",
   "execution_count": 73,
   "id": "820495ec-9d88-45ac-ba8b-770a4afe112b",
   "metadata": {},
   "outputs": [
    {
     "data": {
      "text/plain": [
       "480"
      ]
     },
     "execution_count": 73,
     "metadata": {},
     "output_type": "execute_result"
    }
   ],
   "source": [
    "rest_menu['paneer_kofta']"
   ]
  },
  {
   "cell_type": "code",
   "execution_count": 74,
   "id": "f2bd48d5-8d4e-4973-88ac-0d69da708bf2",
   "metadata": {},
   "outputs": [],
   "source": [
    "rest_menu['paneer_kofta'] = 790"
   ]
  },
  {
   "cell_type": "code",
   "execution_count": 75,
   "id": "934557df-0667-46d3-90ca-772dbfe72796",
   "metadata": {},
   "outputs": [
    {
     "data": {
      "text/plain": [
       "{'paneer_kofta': 790, 'chicken_handi': 590}"
      ]
     },
     "execution_count": 75,
     "metadata": {},
     "output_type": "execute_result"
    }
   ],
   "source": [
    "rest_menu"
   ]
  },
  {
   "cell_type": "code",
   "execution_count": 76,
   "id": "996d1674-5d26-4811-bd4f-7f50be351989",
   "metadata": {},
   "outputs": [
    {
     "data": {
      "text/plain": [
       "{'Dad': 780, 'Mom': 456}"
      ]
     },
     "execution_count": 76,
     "metadata": {},
     "output_type": "execute_result"
    }
   ],
   "source": [
    "phonebook"
   ]
  },
  {
   "cell_type": "code",
   "execution_count": 77,
   "id": "3cfcdef7-a1b9-4049-9394-86c0e142f59c",
   "metadata": {},
   "outputs": [],
   "source": [
    "phonebook[\"Dad\"] = \"I have a taken a new no again, I dont want to tell you\""
   ]
  },
  {
   "cell_type": "code",
   "execution_count": 78,
   "id": "767c39c0-c77f-4ce2-a496-2cb9000edc5d",
   "metadata": {},
   "outputs": [
    {
     "data": {
      "text/plain": [
       "{'Dad': 'I have a taken a new no again, I dont want to tell you', 'Mom': 456}"
      ]
     },
     "execution_count": 78,
     "metadata": {},
     "output_type": "execute_result"
    }
   ],
   "source": [
    "phonebook"
   ]
  },
  {
   "cell_type": "code",
   "execution_count": 79,
   "id": "441c4baf-409c-47cd-a31a-8cae58f84897",
   "metadata": {},
   "outputs": [
    {
     "data": {
      "text/plain": [
       "{'paneer_kofta': 790, 'chicken_handi': 590}"
      ]
     },
     "execution_count": 79,
     "metadata": {},
     "output_type": "execute_result"
    }
   ],
   "source": [
    "rest_menu"
   ]
  },
  {
   "cell_type": "code",
   "execution_count": 80,
   "id": "2e532271-009a-42b9-af10-020d60ca729a",
   "metadata": {},
   "outputs": [
    {
     "data": {
      "text/plain": [
       "dict_keys(['paneer_kofta', 'chicken_handi'])"
      ]
     },
     "execution_count": 80,
     "metadata": {},
     "output_type": "execute_result"
    }
   ],
   "source": [
    "rest_menu.keys()"
   ]
  },
  {
   "cell_type": "code",
   "execution_count": 81,
   "id": "b586ca3a-0dcd-47d1-83aa-5437e6ed6bf3",
   "metadata": {},
   "outputs": [
    {
     "data": {
      "text/plain": [
       "dict_keys(['Dad', 'Mom'])"
      ]
     },
     "execution_count": 81,
     "metadata": {},
     "output_type": "execute_result"
    }
   ],
   "source": [
    "phonebook.keys()"
   ]
  },
  {
   "cell_type": "code",
   "execution_count": 82,
   "id": "033a3f13-065e-4ec4-92df-49045d03beac",
   "metadata": {},
   "outputs": [
    {
     "data": {
      "text/plain": [
       "dict_values([790, 590])"
      ]
     },
     "execution_count": 82,
     "metadata": {},
     "output_type": "execute_result"
    }
   ],
   "source": [
    "rest_menu.values()"
   ]
  },
  {
   "cell_type": "code",
   "execution_count": 83,
   "id": "9c16366e-96ee-45bb-8d3d-97f33191184a",
   "metadata": {},
   "outputs": [
    {
     "data": {
      "text/plain": [
       "dict_values(['I have a taken a new no again, I dont want to tell you', 456])"
      ]
     },
     "execution_count": 83,
     "metadata": {},
     "output_type": "execute_result"
    }
   ],
   "source": [
    "phonebook.values()"
   ]
  },
  {
   "cell_type": "code",
   "execution_count": 84,
   "id": "f3e2263d-36e5-431b-8a17-74fae7fce4c2",
   "metadata": {},
   "outputs": [],
   "source": [
    "from array import array "
   ]
  },
  {
   "cell_type": "code",
   "execution_count": 86,
   "id": "90e58978-3038-45dc-b6e5-77f116118fe3",
   "metadata": {},
   "outputs": [
    {
     "data": {
      "text/plain": [
       "array('i', [1, 2, 3, 4])"
      ]
     },
     "execution_count": 86,
     "metadata": {},
     "output_type": "execute_result"
    }
   ],
   "source": [
    "#array is similar to list>> homogenous data\n",
    "array('i', [1, 2, 3, 4])\n"
   ]
  },
  {
   "cell_type": "code",
   "execution_count": 87,
   "id": "f0d58e3a-7711-453e-ab2a-b945afce56f1",
   "metadata": {},
   "outputs": [
    {
     "data": {
      "text/plain": [
       "str"
      ]
     },
     "execution_count": 87,
     "metadata": {},
     "output_type": "execute_result"
    }
   ],
   "source": [
    "#string\n",
    "s = 'Ajay'\n",
    "type(s)"
   ]
  },
  {
   "cell_type": "code",
   "execution_count": 88,
   "id": "f090d77d-d528-4899-80af-448881e90a23",
   "metadata": {},
   "outputs": [
    {
     "name": "stdout",
     "output_type": "stream",
     "text": [
      "A\n",
      "j\n",
      "a\n",
      "y\n"
     ]
    }
   ],
   "source": [
    "for i in s:\n",
    "    print(i)"
   ]
  },
  {
   "cell_type": "code",
   "execution_count": null,
   "id": "0e89ce55-08c0-41df-bb4b-e01945b0f41e",
   "metadata": {},
   "outputs": [],
   "source": []
  },
  {
   "cell_type": "code",
   "execution_count": null,
   "id": "733b4f5e-09f4-45b5-bf1b-8fd07d1b3b80",
   "metadata": {},
   "outputs": [],
   "source": []
  }
 ],
 "metadata": {
  "kernelspec": {
   "display_name": "Python 3 (ipykernel)",
   "language": "python",
   "name": "python3"
  },
  "language_info": {
   "codemirror_mode": {
    "name": "ipython",
    "version": 3
   },
   "file_extension": ".py",
   "mimetype": "text/x-python",
   "name": "python",
   "nbconvert_exporter": "python",
   "pygments_lexer": "ipython3",
   "version": "3.12.7"
  }
 },
 "nbformat": 4,
 "nbformat_minor": 5
}
