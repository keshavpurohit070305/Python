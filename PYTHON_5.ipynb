{
 "cells": [
  {
   "cell_type": "markdown",
   "id": "cde4b42e-ea9a-4e42-a260-cc70c724373d",
   "metadata": {},
   "source": [
    "## LIST "
   ]
  },
  {
   "cell_type": "code",
   "execution_count": 3,
   "id": "9cbd02be-ce50-4c9c-b50d-b7c1803ce2d8",
   "metadata": {},
   "outputs": [],
   "source": [
    "#List are ordered collection of items\n",
    "#[]\n",
    "#list is like a shopping bag which can store everything\n",
    "#can store any datatype"
   ]
  },
  {
   "cell_type": "code",
   "execution_count": 4,
   "id": "a5048e92-5ed8-4f9a-bb3f-4da4ce8a24a7",
   "metadata": {},
   "outputs": [
    {
     "data": {
      "text/plain": [
       "list"
      ]
     },
     "execution_count": 4,
     "metadata": {},
     "output_type": "execute_result"
    }
   ],
   "source": [
    "type([])"
   ]
  },
  {
   "cell_type": "code",
   "execution_count": 5,
   "id": "26a8bb41-f2a9-4011-958b-e671b8ae2a1b",
   "metadata": {},
   "outputs": [],
   "source": [
    "grocery_list = [\"Milk\", \"Orange\", 1, 2.2, True, 3+5j]"
   ]
  },
  {
   "cell_type": "code",
   "execution_count": 6,
   "id": "f02c1912-87e6-4360-a80a-414ecd50196d",
   "metadata": {},
   "outputs": [
    {
     "data": {
      "text/plain": [
       "list"
      ]
     },
     "execution_count": 6,
     "metadata": {},
     "output_type": "execute_result"
    }
   ],
   "source": [
    "type(grocery_list)"
   ]
  },
  {
   "cell_type": "code",
   "execution_count": 7,
   "id": "6b629e1b-4a9a-483d-848c-52ce1a72d335",
   "metadata": {},
   "outputs": [],
   "source": [
    "#lists are mutable"
   ]
  },
  {
   "cell_type": "code",
   "execution_count": 8,
   "id": "762a1a4d-a69a-4605-84a2-fc861b944e09",
   "metadata": {},
   "outputs": [
    {
     "data": {
      "text/plain": [
       "'Milk'"
      ]
     },
     "execution_count": 8,
     "metadata": {},
     "output_type": "execute_result"
    }
   ],
   "source": [
    "grocery_list[0]"
   ]
  },
  {
   "cell_type": "code",
   "execution_count": 9,
   "id": "88d31ecb-d846-47cd-b528-9b630efd0f41",
   "metadata": {},
   "outputs": [
    {
     "data": {
      "text/plain": [
       "(3+5j)"
      ]
     },
     "execution_count": 9,
     "metadata": {},
     "output_type": "execute_result"
    }
   ],
   "source": [
    "grocery_list[-1]"
   ]
  },
  {
   "cell_type": "code",
   "execution_count": 10,
   "id": "81fdcd00-d4f7-4702-a3e2-396f49339ed8",
   "metadata": {},
   "outputs": [
    {
     "data": {
      "text/plain": [
       "['Orange', 1, 2.2, True, (3+5j)]"
      ]
     },
     "execution_count": 10,
     "metadata": {},
     "output_type": "execute_result"
    }
   ],
   "source": [
    "grocery_list[1:]"
   ]
  },
  {
   "cell_type": "code",
   "execution_count": 11,
   "id": "c5ca5caa-d6b6-4da8-8b3c-786a0b17024b",
   "metadata": {},
   "outputs": [
    {
     "data": {
      "text/plain": [
       "['Orange', 1, 2.2]"
      ]
     },
     "execution_count": 11,
     "metadata": {},
     "output_type": "execute_result"
    }
   ],
   "source": [
    "grocery_list[1:4]"
   ]
  },
  {
   "cell_type": "code",
   "execution_count": 12,
   "id": "e12f5563-1bf5-4f43-8e0d-51769edd0d9c",
   "metadata": {},
   "outputs": [
    {
     "data": {
      "text/plain": [
       "['Action2', 'Comdey', 'thriller']"
      ]
     },
     "execution_count": 12,
     "metadata": {},
     "output_type": "execute_result"
    }
   ],
   "source": [
    "movies = [\"Action1\",\"Action2\", \"Comdey\", \"thriller\"]\n",
    "movies[1:]"
   ]
  },
  {
   "cell_type": "code",
   "execution_count": 13,
   "id": "ef05e38c-084b-4269-b6f1-1e0ef010a5ed",
   "metadata": {},
   "outputs": [
    {
     "data": {
      "text/plain": [
       "['Action1', 'Action2', 'Comdey']"
      ]
     },
     "execution_count": 13,
     "metadata": {},
     "output_type": "execute_result"
    }
   ],
   "source": [
    "movies[0:3]"
   ]
  },
  {
   "cell_type": "code",
   "execution_count": 14,
   "id": "dc0bdd34-8a00-4183-ac99-b0356d002c9b",
   "metadata": {},
   "outputs": [
    {
     "data": {
      "text/plain": [
       "'index'"
      ]
     },
     "execution_count": 14,
     "metadata": {},
     "output_type": "execute_result"
    }
   ],
   "source": [
    "pages = [\"Title page\", \"chap1\", \"chap2\", \"conclusion\", \"index\"]\n",
    "pages[-1]"
   ]
  },
  {
   "cell_type": "code",
   "execution_count": 15,
   "id": "ade37f1a-1504-4da8-8594-edfb8a4a2b52",
   "metadata": {},
   "outputs": [
    {
     "data": {
      "text/plain": [
       "'conclusion'"
      ]
     },
     "execution_count": 15,
     "metadata": {},
     "output_type": "execute_result"
    }
   ],
   "source": [
    "pages[-2]"
   ]
  },
  {
   "cell_type": "code",
   "execution_count": 16,
   "id": "0c2e07e6-0c61-4914-9810-22f5d6af0286",
   "metadata": {},
   "outputs": [
    {
     "data": {
      "text/plain": [
       "'Ajay'"
      ]
     },
     "execution_count": 16,
     "metadata": {},
     "output_type": "execute_result"
    }
   ],
   "source": [
    "queue = [\"Ranjan\",\"Sanjay\",\"Bijay\",\"Ajay\"]\n",
    "queue[-1]"
   ]
  },
  {
   "cell_type": "code",
   "execution_count": 17,
   "id": "e523bcaa-2c28-4952-95e2-f7c64ffe613f",
   "metadata": {},
   "outputs": [
    {
     "data": {
      "text/plain": [
       "'Bijay'"
      ]
     },
     "execution_count": 17,
     "metadata": {},
     "output_type": "execute_result"
    }
   ],
   "source": [
    "queue[-2]"
   ]
  },
  {
   "cell_type": "code",
   "execution_count": 18,
   "id": "0876eac5-8250-43ea-89c7-844f24e4ad21",
   "metadata": {},
   "outputs": [
    {
     "data": {
      "text/plain": [
       "['Apple', 'Orange']"
      ]
     },
     "execution_count": 18,
     "metadata": {},
     "output_type": "execute_result"
    }
   ],
   "source": [
    "lis = [\"Apple\", \"Orange\"]\n",
    "lis"
   ]
  },
  {
   "cell_type": "code",
   "execution_count": 19,
   "id": "38b4a813-b9cc-4d47-a0fb-0de056d47bae",
   "metadata": {},
   "outputs": [],
   "source": [
    "lis.append(\"Banana\")"
   ]
  },
  {
   "cell_type": "code",
   "execution_count": 20,
   "id": "c01420e9-dca1-4c07-b772-d968f1a3479a",
   "metadata": {},
   "outputs": [
    {
     "data": {
      "text/plain": [
       "['Apple', 'Orange', 'Banana']"
      ]
     },
     "execution_count": 20,
     "metadata": {},
     "output_type": "execute_result"
    }
   ],
   "source": [
    "lis"
   ]
  },
  {
   "cell_type": "code",
   "execution_count": 23,
   "id": "ecbfc6bb-0d43-447b-862c-3202de788cc3",
   "metadata": {},
   "outputs": [],
   "source": [
    "#use cases\n",
    "playlist = []\n",
    "playlist.append(\"sare jahan se acha\")\n",
    "playlist.append(\"Ae mere watan ke logo\")\n",
    "playlist.append(\"ve kamleya\")"
   ]
  },
  {
   "cell_type": "code",
   "execution_count": 24,
   "id": "f6215651-0fef-42c1-8639-e959450e72b1",
   "metadata": {},
   "outputs": [
    {
     "data": {
      "text/plain": [
       "['sare jahan se acha', 'Ae mere watan ke logo', 've kamleya']"
      ]
     },
     "execution_count": 24,
     "metadata": {},
     "output_type": "execute_result"
    }
   ],
   "source": [
    "playlist"
   ]
  },
  {
   "cell_type": "code",
   "execution_count": 25,
   "id": "5ad0639b-2b28-4f2a-a312-da29dd66ea57",
   "metadata": {},
   "outputs": [],
   "source": [
    "bookshelf = []\n",
    "bookshelf.append(\"Book1\")\n",
    "bookshelf.append(\"Book2\")"
   ]
  },
  {
   "cell_type": "code",
   "execution_count": 26,
   "id": "525bafaf-29b9-430b-9890-5b34c9d06214",
   "metadata": {},
   "outputs": [
    {
     "data": {
      "text/plain": [
       "['Book1', 'Book2']"
      ]
     },
     "execution_count": 26,
     "metadata": {},
     "output_type": "execute_result"
    }
   ],
   "source": [
    "bookshelf"
   ]
  },
  {
   "cell_type": "code",
   "execution_count": 27,
   "id": "4d826be4-d1e1-431b-9bef-914f5fd104d2",
   "metadata": {},
   "outputs": [
    {
     "data": {
      "text/plain": [
       "['Apple', 'Orange', 'Banana']"
      ]
     },
     "execution_count": 27,
     "metadata": {},
     "output_type": "execute_result"
    }
   ],
   "source": [
    "lis"
   ]
  },
  {
   "cell_type": "code",
   "execution_count": 28,
   "id": "c3811183-4772-48bc-97e4-b468f474aea6",
   "metadata": {},
   "outputs": [
    {
     "data": {
      "text/plain": [
       "'Apple'"
      ]
     },
     "execution_count": 28,
     "metadata": {},
     "output_type": "execute_result"
    }
   ],
   "source": [
    "#list is mutable\n",
    "lis[0]"
   ]
  },
  {
   "cell_type": "code",
   "execution_count": 29,
   "id": "00a7afc4-e341-4e54-86b5-18af268c8bbf",
   "metadata": {},
   "outputs": [],
   "source": [
    "lis[0] = \"Mango\""
   ]
  },
  {
   "cell_type": "code",
   "execution_count": 30,
   "id": "6bf028d6-bb13-43d0-af39-803dbf24dc1c",
   "metadata": {},
   "outputs": [
    {
     "data": {
      "text/plain": [
       "['Mango', 'Orange', 'Banana']"
      ]
     },
     "execution_count": 30,
     "metadata": {},
     "output_type": "execute_result"
    }
   ],
   "source": [
    "lis"
   ]
  },
  {
   "cell_type": "code",
   "execution_count": 31,
   "id": "4c21a64f-a549-4281-a186-a2c3c9ee2810",
   "metadata": {},
   "outputs": [],
   "source": [
    "lis[1] = \"Brinjal\""
   ]
  },
  {
   "cell_type": "code",
   "execution_count": 33,
   "id": "423cf36c-910d-49bf-89f0-59c461ab8b58",
   "metadata": {},
   "outputs": [
    {
     "data": {
      "text/plain": [
       "['Mango', 'Brinjal', 'Banana']"
      ]
     },
     "execution_count": 33,
     "metadata": {},
     "output_type": "execute_result"
    }
   ],
   "source": [
    "lis"
   ]
  },
  {
   "cell_type": "code",
   "execution_count": 34,
   "id": "1832b0fa-fbb7-4ddc-b61c-dbe3e1e61888",
   "metadata": {},
   "outputs": [],
   "source": [
    "lis.append(\"apple\")"
   ]
  },
  {
   "cell_type": "code",
   "execution_count": 35,
   "id": "cd406ff2-49ad-4ce7-a014-97ec14b77a44",
   "metadata": {},
   "outputs": [
    {
     "data": {
      "text/plain": [
       "['Mango', 'Brinjal', 'Banana', 'apple']"
      ]
     },
     "execution_count": 35,
     "metadata": {},
     "output_type": "execute_result"
    }
   ],
   "source": [
    "lis"
   ]
  },
  {
   "cell_type": "code",
   "execution_count": 36,
   "id": "8e5de96e-bff2-41a1-a0c4-eb7db85f5df9",
   "metadata": {},
   "outputs": [],
   "source": [
    "lis.insert(1, \"potato\") # Insert object before index."
   ]
  },
  {
   "cell_type": "code",
   "execution_count": 37,
   "id": "c449a871-b398-4a69-b356-ec89fa9c7854",
   "metadata": {},
   "outputs": [
    {
     "data": {
      "text/plain": [
       "['Mango', 'potato', 'Brinjal', 'Banana', 'apple']"
      ]
     },
     "execution_count": 37,
     "metadata": {},
     "output_type": "execute_result"
    }
   ],
   "source": [
    "lis"
   ]
  },
  {
   "cell_type": "code",
   "execution_count": 38,
   "id": "7898d59f-ea41-4919-9de9-b2f6d2e21bd7",
   "metadata": {},
   "outputs": [
    {
     "data": {
      "text/plain": [
       "['Mango', 'potato', 'Brinjal', 'Banana', 'apple']"
      ]
     },
     "execution_count": 38,
     "metadata": {},
     "output_type": "execute_result"
    }
   ],
   "source": [
    "lis"
   ]
  },
  {
   "cell_type": "code",
   "execution_count": 39,
   "id": "3842658f-701b-4af6-887d-f167f408a2bb",
   "metadata": {},
   "outputs": [],
   "source": [
    "#use case\n",
    "bus_seat = [\"Ajay\", \"Aman\", \"Kishan\"]\n",
    "bus_seat.insert(2, \"Khushi\")"
   ]
  },
  {
   "cell_type": "code",
   "execution_count": 40,
   "id": "bec98cd0-cf83-4756-8189-ed2c29470e80",
   "metadata": {},
   "outputs": [
    {
     "data": {
      "text/plain": [
       "['Ajay', 'Aman', 'Khushi', 'Kishan']"
      ]
     },
     "execution_count": 40,
     "metadata": {},
     "output_type": "execute_result"
    }
   ],
   "source": [
    "bus_seat"
   ]
  },
  {
   "cell_type": "code",
   "execution_count": 41,
   "id": "c8b09caf-6ca1-432b-96c1-67c905fdd61c",
   "metadata": {},
   "outputs": [],
   "source": [
    "#extend >> used to append elements from another list\n",
    "my_list = [\"Apple\", \"Banana\", \"orange\"]\n",
    "brothers_list = [\"brinjal\", \"potato\"]\n",
    "my_list.extend(brothers_list) #will extend the first list"
   ]
  },
  {
   "cell_type": "code",
   "execution_count": 42,
   "id": "547d6978-1d98-4bd9-900f-80f0d287227f",
   "metadata": {},
   "outputs": [
    {
     "data": {
      "text/plain": [
       "['Apple', 'Banana', 'orange', 'brinjal', 'potato']"
      ]
     },
     "execution_count": 42,
     "metadata": {},
     "output_type": "execute_result"
    }
   ],
   "source": [
    "my_list"
   ]
  },
  {
   "cell_type": "code",
   "execution_count": 43,
   "id": "64fd8008-423a-4090-abf9-3c21521f9fcb",
   "metadata": {},
   "outputs": [
    {
     "data": {
      "text/plain": [
       "['Apple', 'Banana', 'orange', 'brinjal', 'potato']"
      ]
     },
     "execution_count": 43,
     "metadata": {},
     "output_type": "execute_result"
    }
   ],
   "source": [
    "my_list"
   ]
  },
  {
   "cell_type": "code",
   "execution_count": 44,
   "id": "7f33693b-8e94-4f13-8e4c-e8965dbfcad0",
   "metadata": {},
   "outputs": [],
   "source": [
    "my_list = [\"Apple\", \"Banana\", \"orange\"]\n",
    "brothers_list = [\"brinjal\", \"potato\"]\n",
    "brothers_list.extend(my_list)"
   ]
  },
  {
   "cell_type": "code",
   "execution_count": 45,
   "id": "fbe76add-4af3-4896-b10f-e0d416ba19b3",
   "metadata": {},
   "outputs": [
    {
     "data": {
      "text/plain": [
       "['brinjal', 'potato', 'Apple', 'Banana', 'orange']"
      ]
     },
     "execution_count": 45,
     "metadata": {},
     "output_type": "execute_result"
    }
   ],
   "source": [
    "brothers_list"
   ]
  },
  {
   "cell_type": "code",
   "execution_count": 46,
   "id": "c7be73a5-45d9-48a4-990e-b29c0d3c368f",
   "metadata": {},
   "outputs": [
    {
     "data": {
      "text/plain": [
       "['Apple', 'Banana', 'orange']"
      ]
     },
     "execution_count": 46,
     "metadata": {},
     "output_type": "execute_result"
    }
   ],
   "source": [
    "my_list"
   ]
  },
  {
   "cell_type": "code",
   "execution_count": 47,
   "id": "ef6b6ac0-9b06-4f61-b132-a60d106418ee",
   "metadata": {},
   "outputs": [
    {
     "data": {
      "text/plain": [
       "['Apple', 'Banana', 'orange', 'brinjal', 'potato']"
      ]
     },
     "execution_count": 47,
     "metadata": {},
     "output_type": "execute_result"
    }
   ],
   "source": [
    "#concatenate\n",
    "my_list = [\"Apple\", \"Banana\", \"orange\"]\n",
    "brothers_list = [\"brinjal\", \"potato\"]\n",
    "my_list + brothers_list #will create new list"
   ]
  },
  {
   "cell_type": "code",
   "execution_count": 48,
   "id": "90dcffe1-cb8c-4692-ab4f-6ee5ea64183a",
   "metadata": {},
   "outputs": [
    {
     "data": {
      "text/plain": [
       "['Apple', 'Banana', 'orange']"
      ]
     },
     "execution_count": 48,
     "metadata": {},
     "output_type": "execute_result"
    }
   ],
   "source": [
    "\n",
    "my_list"
   ]
  },
  {
   "cell_type": "code",
   "execution_count": 49,
   "id": "79e165e4-4711-489f-960b-7684d5022d30",
   "metadata": {},
   "outputs": [
    {
     "data": {
      "text/plain": [
       "['brinjal', 'potato']"
      ]
     },
     "execution_count": 49,
     "metadata": {},
     "output_type": "execute_result"
    }
   ],
   "source": [
    "brothers_list"
   ]
  },
  {
   "cell_type": "code",
   "execution_count": 50,
   "id": "c06214ee-9566-4abd-a1f0-fff0457f94c4",
   "metadata": {},
   "outputs": [
    {
     "data": {
      "text/plain": [
       "'***************'"
      ]
     },
     "execution_count": 50,
     "metadata": {},
     "output_type": "execute_result"
    }
   ],
   "source": [
    "#repeatation operation\n",
    "\n",
    "\"*\" * 15"
   ]
  },
  {
   "cell_type": "code",
   "execution_count": 51,
   "id": "5202c676-54de-4083-b168-75bde1b082dc",
   "metadata": {},
   "outputs": [
    {
     "data": {
      "text/plain": [
       "'----------'"
      ]
     },
     "execution_count": 51,
     "metadata": {},
     "output_type": "execute_result"
    }
   ],
   "source": [
    "\"-\"*10"
   ]
  },
  {
   "cell_type": "code",
   "execution_count": 52,
   "id": "00e240b0-98a8-4cce-a1cb-49319d9e3af2",
   "metadata": {},
   "outputs": [
    {
     "data": {
      "text/plain": [
       "[0, 0, 0, 0, 0, 0, 0, 0, 0, 0]"
      ]
     },
     "execution_count": 52,
     "metadata": {},
     "output_type": "execute_result"
    }
   ],
   "source": [
    "[0] * 10"
   ]
  },
  {
   "cell_type": "code",
   "execution_count": 53,
   "id": "bdf45efa-d940-4377-9143-e480f2f5e3d8",
   "metadata": {},
   "outputs": [
    {
     "data": {
      "text/plain": [
       "[1, 2, 3, 1, 2, 3, 1, 2, 3, 1, 2, 3, 1, 2, 3]"
      ]
     },
     "execution_count": 53,
     "metadata": {},
     "output_type": "execute_result"
    }
   ],
   "source": [
    "[1, 2, 3] * 5"
   ]
  },
  {
   "cell_type": "code",
   "execution_count": 54,
   "id": "e5da9d2e-4881-4fbb-a5b8-26474f7b03fa",
   "metadata": {},
   "outputs": [
    {
     "data": {
      "text/plain": [
       "[0,\n",
       " 1,\n",
       " 2,\n",
       " 3,\n",
       " 4,\n",
       " 5,\n",
       " 6,\n",
       " 7,\n",
       " 8,\n",
       " 9,\n",
       " 0,\n",
       " 1,\n",
       " 2,\n",
       " 3,\n",
       " 4,\n",
       " 5,\n",
       " 6,\n",
       " 7,\n",
       " 8,\n",
       " 9,\n",
       " 0,\n",
       " 1,\n",
       " 2,\n",
       " 3,\n",
       " 4,\n",
       " 5,\n",
       " 6,\n",
       " 7,\n",
       " 8,\n",
       " 9]"
      ]
     },
     "execution_count": 54,
     "metadata": {},
     "output_type": "execute_result"
    }
   ],
   "source": [
    "list(range(10)) * 3"
   ]
  },
  {
   "cell_type": "code",
   "execution_count": 55,
   "id": "6d91d2c8-5fe3-443c-ab17-17b3c8e85876",
   "metadata": {},
   "outputs": [
    {
     "name": "stdout",
     "output_type": "stream",
     "text": [
      "Your appointment is tommorrow \n",
      "Your appointment is tommorrow \n",
      "Your appointment is tommorrow \n",
      "\n"
     ]
    }
   ],
   "source": [
    "msg = \"Your appointment is tommorrow \\n\"\n",
    "print(msg*3)"
   ]
  },
  {
   "cell_type": "code",
   "execution_count": 56,
   "id": "a145c2ce-bd2b-42f0-88ed-a0f0e42557e5",
   "metadata": {},
   "outputs": [
    {
     "data": {
      "text/plain": [
       "['Milk', 'Orange', 1, 2.2, True, (3+5j)]"
      ]
     },
     "execution_count": 56,
     "metadata": {},
     "output_type": "execute_result"
    }
   ],
   "source": [
    "#membership in , not in\n",
    "\n",
    "grocery_list"
   ]
  },
  {
   "cell_type": "code",
   "execution_count": 57,
   "id": "c2e97175-8508-40bc-85d9-6dd3beeaa9c0",
   "metadata": {},
   "outputs": [
    {
     "data": {
      "text/plain": [
       "True"
      ]
     },
     "execution_count": 57,
     "metadata": {},
     "output_type": "execute_result"
    }
   ],
   "source": [
    "\"Milk\" in grocery_list"
   ]
  },
  {
   "cell_type": "code",
   "execution_count": 58,
   "id": "ac26ed0f-f8c7-40b0-b6c1-281e5cb6857c",
   "metadata": {},
   "outputs": [
    {
     "data": {
      "text/plain": [
       "False"
      ]
     },
     "execution_count": 58,
     "metadata": {},
     "output_type": "execute_result"
    }
   ],
   "source": [
    "\"POTATO\" in grocery_list"
   ]
  },
  {
   "cell_type": "code",
   "execution_count": 59,
   "id": "c35e15ac-1102-4afa-a96a-ee65249bdbc5",
   "metadata": {},
   "outputs": [
    {
     "data": {
      "text/plain": [
       "True"
      ]
     },
     "execution_count": 59,
     "metadata": {},
     "output_type": "execute_result"
    }
   ],
   "source": [
    "\"POTATO\" not in grocery_list"
   ]
  },
  {
   "cell_type": "code",
   "execution_count": 60,
   "id": "61726c33-2c8c-46a3-9b6b-75b48a7ef467",
   "metadata": {},
   "outputs": [],
   "source": [
    "#deep copy and shallow copy\n",
    "\n",
    "#shallow copy >> value will change with change in other list"
   ]
  },
  {
   "cell_type": "code",
   "execution_count": 61,
   "id": "3eb20dc5-6086-4df9-984e-47ab726c9484",
   "metadata": {},
   "outputs": [],
   "source": [
    "grocery_list = ['Milk', 'Orange', 1, 2.2, True, (3+5j)]"
   ]
  },
  {
   "cell_type": "code",
   "execution_count": 62,
   "id": "66c61da9-57ee-452f-8004-72d99ba41d8a",
   "metadata": {},
   "outputs": [
    {
     "data": {
      "text/plain": [
       "['A', 'B']"
      ]
     },
     "execution_count": 62,
     "metadata": {},
     "output_type": "execute_result"
    }
   ],
   "source": [
    "a = [\"A\", \"B\"]\n",
    "a"
   ]
  },
  {
   "cell_type": "code",
   "execution_count": 63,
   "id": "a8e12ca7-ed09-4e02-a6fa-c3cd14a28b3d",
   "metadata": {},
   "outputs": [
    {
     "data": {
      "text/plain": [
       "['Milk', 'Orange', 1, 2.2, True, (3+5j)]"
      ]
     },
     "execution_count": 63,
     "metadata": {},
     "output_type": "execute_result"
    }
   ],
   "source": [
    "grocery_list"
   ]
  },
  {
   "cell_type": "code",
   "execution_count": 64,
   "id": "d88ea960-cc90-4a67-a7b3-19cfab4da170",
   "metadata": {},
   "outputs": [],
   "source": [
    "a = grocery_list #shallow copy"
   ]
  },
  {
   "cell_type": "code",
   "execution_count": 65,
   "id": "9ae484e7-b6ad-4cf5-becf-c75ebf4bcea2",
   "metadata": {},
   "outputs": [
    {
     "data": {
      "text/plain": [
       "['Milk', 'Orange', 1, 2.2, True, (3+5j)]"
      ]
     },
     "execution_count": 65,
     "metadata": {},
     "output_type": "execute_result"
    }
   ],
   "source": [
    "a"
   ]
  },
  {
   "cell_type": "code",
   "execution_count": 66,
   "id": "79a3e8b9-160e-4fef-abae-dec39b9a2a34",
   "metadata": {},
   "outputs": [
    {
     "data": {
      "text/plain": [
       "['Milk', 'Orange', 1, 2.2, True, (3+5j)]"
      ]
     },
     "execution_count": 66,
     "metadata": {},
     "output_type": "execute_result"
    }
   ],
   "source": [
    "grocery_list"
   ]
  },
  {
   "cell_type": "code",
   "execution_count": 67,
   "id": "911d8638-3a1f-4843-8f16-0c95c1bdc034",
   "metadata": {},
   "outputs": [],
   "source": [
    "a[0] = \"potato\""
   ]
  },
  {
   "cell_type": "code",
   "execution_count": 68,
   "id": "6d4dbf4d-51af-4bd2-bb86-9fd4d68ee9e9",
   "metadata": {},
   "outputs": [
    {
     "data": {
      "text/plain": [
       "['potato', 'Orange', 1, 2.2, True, (3+5j)]"
      ]
     },
     "execution_count": 68,
     "metadata": {},
     "output_type": "execute_result"
    }
   ],
   "source": [
    "a"
   ]
  },
  {
   "cell_type": "code",
   "execution_count": 69,
   "id": "323ed6e1-30dd-4fd7-87c9-649eda2e2aaa",
   "metadata": {},
   "outputs": [
    {
     "data": {
      "text/plain": [
       "['potato', 'Orange', 1, 2.2, True, (3+5j)]"
      ]
     },
     "execution_count": 69,
     "metadata": {},
     "output_type": "execute_result"
    }
   ],
   "source": [
    "grocery_list"
   ]
  },
  {
   "cell_type": "code",
   "execution_count": 70,
   "id": "3d4c7048-7557-46ad-b144-87f7d74ee092",
   "metadata": {},
   "outputs": [
    {
     "data": {
      "text/plain": [
       "['potato', 'Orange', 1, 2.2, True, (3+5j)]"
      ]
     },
     "execution_count": 70,
     "metadata": {},
     "output_type": "execute_result"
    }
   ],
   "source": [
    "#deep copy >> will not change the value in another list\n",
    "grocery_list"
   ]
  },
  {
   "cell_type": "code",
   "execution_count": 71,
   "id": "5c445c3d-e510-46da-85c1-84fcc89ece96",
   "metadata": {},
   "outputs": [],
   "source": [
    "b = grocery_list.copy() #deep copy"
   ]
  },
  {
   "cell_type": "code",
   "execution_count": 72,
   "id": "3de0b9ba-93ed-4c66-acd4-9b6bf5f7688b",
   "metadata": {},
   "outputs": [],
   "source": [
    "b[0] = \"Milk\""
   ]
  },
  {
   "cell_type": "code",
   "execution_count": 73,
   "id": "c2699102-0bd5-49a7-ac53-4a37f91f0f5d",
   "metadata": {},
   "outputs": [
    {
     "data": {
      "text/plain": [
       "['Milk', 'Orange', 1, 2.2, True, (3+5j)]"
      ]
     },
     "execution_count": 73,
     "metadata": {},
     "output_type": "execute_result"
    }
   ],
   "source": [
    "b"
   ]
  },
  {
   "cell_type": "code",
   "execution_count": 74,
   "id": "06bda038-dbc4-4607-b8c8-e35d7fdf7241",
   "metadata": {},
   "outputs": [
    {
     "data": {
      "text/plain": [
       "['potato', 'Orange', 1, 2.2, True, (3+5j)]"
      ]
     },
     "execution_count": 74,
     "metadata": {},
     "output_type": "execute_result"
    }
   ],
   "source": [
    "grocery_list"
   ]
  },
  {
   "cell_type": "code",
   "execution_count": 75,
   "id": "a19ed287-6f4d-487d-a419-3ceb4733d5d3",
   "metadata": {},
   "outputs": [
    {
     "data": {
      "text/plain": [
       "['Algorithm', 'Algorithm', 'Data Str', 'web']"
      ]
     },
     "execution_count": 75,
     "metadata": {},
     "output_type": "execute_result"
    }
   ],
   "source": [
    "#sorting list\n",
    "book_list = [\"Data Str\", \"Algorithm\", \"web\", \"Algorithm\"]\n",
    "sorted(book_list)"
   ]
  },
  {
   "cell_type": "code",
   "execution_count": 76,
   "id": "555b922a-a4f9-4984-89b1-024afcdd87f6",
   "metadata": {},
   "outputs": [
    {
     "data": {
      "text/plain": [
       "1"
      ]
     },
     "execution_count": 76,
     "metadata": {},
     "output_type": "execute_result"
    }
   ],
   "source": [
    "book_list.index(\"Algorithm\") #Returns the index of first occurence"
   ]
  },
  {
   "cell_type": "code",
   "execution_count": 77,
   "id": "2e0950db-65c2-4b35-b141-6f5ae98091b4",
   "metadata": {},
   "outputs": [
    {
     "data": {
      "text/plain": [
       "2"
      ]
     },
     "execution_count": 77,
     "metadata": {},
     "output_type": "execute_result"
    }
   ],
   "source": [
    "book_list.index(\"web\")"
   ]
  },
  {
   "cell_type": "code",
   "execution_count": 78,
   "id": "f03e45b5-7272-4cea-82f6-82d5bcd0d1bb",
   "metadata": {},
   "outputs": [
    {
     "data": {
      "text/plain": [
       "4"
      ]
     },
     "execution_count": 78,
     "metadata": {},
     "output_type": "execute_result"
    }
   ],
   "source": [
    "len(book_list) #no of elements in the list"
   ]
  },
  {
   "cell_type": "code",
   "execution_count": 79,
   "id": "8609997f-c73f-4736-a825-98cdd3880f96",
   "metadata": {},
   "outputs": [
    {
     "data": {
      "text/plain": [
       "2"
      ]
     },
     "execution_count": 79,
     "metadata": {},
     "output_type": "execute_result"
    }
   ],
   "source": [
    "book_list.count(\"Algorithm\")#count gives the count of a specific element in a list"
   ]
  },
  {
   "cell_type": "code",
   "execution_count": 80,
   "id": "7e76c2db-6b38-4762-b53f-45bf5fbf059a",
   "metadata": {},
   "outputs": [],
   "source": [
    "book_list.remove(\"Data Str\")"
   ]
  },
  {
   "cell_type": "code",
   "execution_count": 81,
   "id": "9e46ee35-7372-447c-8d4b-3b77346f46c0",
   "metadata": {},
   "outputs": [
    {
     "data": {
      "text/plain": [
       "['Algorithm', 'web', 'Algorithm']"
      ]
     },
     "execution_count": 81,
     "metadata": {},
     "output_type": "execute_result"
    }
   ],
   "source": [
    "book_list"
   ]
  },
  {
   "cell_type": "code",
   "execution_count": 82,
   "id": "049370f5-6ce0-48b3-947d-3e2ee0ece384",
   "metadata": {},
   "outputs": [],
   "source": [
    "book_list.sort()"
   ]
  },
  {
   "cell_type": "code",
   "execution_count": 83,
   "id": "05eb8293-bd08-4f97-9bb5-5033fcc71e2a",
   "metadata": {},
   "outputs": [
    {
     "data": {
      "text/plain": [
       "['Algorithm', 'Algorithm', 'web']"
      ]
     },
     "execution_count": 83,
     "metadata": {},
     "output_type": "execute_result"
    }
   ],
   "source": [
    "book_list"
   ]
  },
  {
   "cell_type": "code",
   "execution_count": 84,
   "id": "88b287e0-0d54-4575-ad8d-ced0032d7dcf",
   "metadata": {},
   "outputs": [],
   "source": [
    "del book_list #deletes the variable/list"
   ]
  },
  {
   "cell_type": "code",
   "execution_count": 85,
   "id": "d8f69588-90b3-459d-b256-5ec25602737c",
   "metadata": {},
   "outputs": [
    {
     "ename": "NameError",
     "evalue": "name 'book_list' is not defined",
     "output_type": "error",
     "traceback": [
      "\u001b[1;31m---------------------------------------------------------------------------\u001b[0m",
      "\u001b[1;31mNameError\u001b[0m                                 Traceback (most recent call last)",
      "Cell \u001b[1;32mIn[85], line 1\u001b[0m\n\u001b[1;32m----> 1\u001b[0m book_list\n",
      "\u001b[1;31mNameError\u001b[0m: name 'book_list' is not defined"
     ]
    }
   ],
   "source": [
    "book_list"
   ]
  },
  {
   "cell_type": "code",
   "execution_count": 86,
   "id": "b783b38c-f1ff-4ca9-94e1-a90565869b5b",
   "metadata": {},
   "outputs": [],
   "source": [
    "book_list = [\"Data Str\", \"Algorithm\", \"web\", \"Algorithm\"]\n",
    "book_list.clear() #it deletes the element of list, but variable list will not be deleted>>cleared"
   ]
  },
  {
   "cell_type": "code",
   "execution_count": 87,
   "id": "296613d9-4603-494f-92db-b89374f7bb40",
   "metadata": {},
   "outputs": [
    {
     "data": {
      "text/plain": [
       "[]"
      ]
     },
     "execution_count": 87,
     "metadata": {},
     "output_type": "execute_result"
    }
   ],
   "source": [
    "book_list"
   ]
  },
  {
   "cell_type": "code",
   "execution_count": 88,
   "id": "24276b30-eab8-4474-b4c8-89d6b2a97aff",
   "metadata": {},
   "outputs": [
    {
     "data": {
      "text/plain": [
       "'Algorithm'"
      ]
     },
     "execution_count": 88,
     "metadata": {},
     "output_type": "execute_result"
    }
   ],
   "source": [
    "book_list = [\"Data Str\", \"Algorithm\", \"web\", \"Algorithm\"]\n",
    "book_list.pop() #removes the last lement"
   ]
  },
  {
   "cell_type": "code",
   "execution_count": 89,
   "id": "f0b5fa6b-4bad-4bc2-812f-36b2bfacdd9b",
   "metadata": {},
   "outputs": [
    {
     "data": {
      "text/plain": [
       "['Data Str', 'Algorithm', 'web']"
      ]
     },
     "execution_count": 89,
     "metadata": {},
     "output_type": "execute_result"
    }
   ],
   "source": [
    "book_list"
   ]
  },
  {
   "cell_type": "code",
   "execution_count": 90,
   "id": "c3aa6aaa-233c-4d4d-a374-77d4d7bfd698",
   "metadata": {},
   "outputs": [
    {
     "data": {
      "text/plain": [
       "'Algorithm'"
      ]
     },
     "execution_count": 90,
     "metadata": {},
     "output_type": "execute_result"
    }
   ],
   "source": [
    "book_list.pop(1)"
   ]
  },
  {
   "cell_type": "code",
   "execution_count": 91,
   "id": "b6f1b5df-d06d-4f88-a509-cda98b99e9ed",
   "metadata": {},
   "outputs": [
    {
     "data": {
      "text/plain": [
       "['Data Str', 'web']"
      ]
     },
     "execution_count": 91,
     "metadata": {},
     "output_type": "execute_result"
    }
   ],
   "source": [
    "book_list"
   ]
  },
  {
   "cell_type": "code",
   "execution_count": 92,
   "id": "edfe35f5-7067-40f3-9e1e-7c22e6172ad4",
   "metadata": {},
   "outputs": [],
   "source": [
    "#list comprehension>>concise code"
   ]
  },
  {
   "cell_type": "code",
   "execution_count": 93,
   "id": "720ef0a8-d13a-4ee6-b419-21eb8474d581",
   "metadata": {},
   "outputs": [],
   "source": [
    " prices = [10, 20, 30, 40, 50]\n",
    "doubled_price = []\n",
    "for i in prices:\n",
    "    doubled_price.append(i*2)"
   ]
  },
  {
   "cell_type": "code",
   "execution_count": 94,
   "id": "3a3e8d0c-5350-4ee9-8ed1-9140e21b9a66",
   "metadata": {},
   "outputs": [
    {
     "data": {
      "text/plain": [
       "[20, 40, 60, 80, 100]"
      ]
     },
     "execution_count": 94,
     "metadata": {},
     "output_type": "execute_result"
    }
   ],
   "source": [
    "doubled_price"
   ]
  },
  {
   "cell_type": "code",
   "execution_count": 95,
   "id": "c9ff08d8-9001-4e8f-b09f-b0cba6d3d6bb",
   "metadata": {},
   "outputs": [],
   "source": [
    "doubled_price = [price * 2 for price in prices]"
   ]
  },
  {
   "cell_type": "code",
   "execution_count": 96,
   "id": "089db462-7cd4-46ab-ad2c-7ea3281f56a1",
   "metadata": {},
   "outputs": [
    {
     "data": {
      "text/plain": [
       "[20, 40, 60, 80, 100]"
      ]
     },
     "execution_count": 96,
     "metadata": {},
     "output_type": "execute_result"
    }
   ],
   "source": [
    "doubled_price"
   ]
  },
  {
   "cell_type": "code",
   "execution_count": 97,
   "id": "86db4424-f7d2-41a5-b5d3-e9ad502131b4",
   "metadata": {},
   "outputs": [
    {
     "data": {
      "text/plain": [
       "['Ajay', 'Bijay', 'Sanjay']"
      ]
     },
     "execution_count": 97,
     "metadata": {},
     "output_type": "execute_result"
    }
   ],
   "source": [
    "names = [\"ajay\", \"bijay\", \"sanjay\"]\n",
    "[name.capitalize() for name in names]"
   ]
  },
  {
   "cell_type": "code",
   "execution_count": 98,
   "id": "8a768db5-93fa-42d1-aa20-3dfab2bf3670",
   "metadata": {},
   "outputs": [
    {
     "data": {
      "text/plain": [
       "[1, 4, 9, 16, 25]"
      ]
     },
     "execution_count": 98,
     "metadata": {},
     "output_type": "execute_result"
    }
   ],
   "source": [
    "#use cases\n",
    "numbers = [1, 2, 3, 4, 5]\n",
    "[num**2 for num in numbers]"
   ]
  },
  {
   "cell_type": "code",
   "execution_count": 99,
   "id": "64a2d89b-2658-4767-b034-b18d7af15649",
   "metadata": {},
   "outputs": [
    {
     "data": {
      "text/plain": [
       "'ppt'"
      ]
     },
     "execution_count": 99,
     "metadata": {},
     "output_type": "execute_result"
    }
   ],
   "source": [
    "str1 = \"doc1.ppt\"\n",
    "str1.split(\".\")[-1]"
   ]
  },
  {
   "cell_type": "code",
   "execution_count": 100,
   "id": "47df1ae4-2d2d-4fb0-99b5-f3e1a4d788a5",
   "metadata": {},
   "outputs": [
    {
     "data": {
      "text/plain": [
       "['ppt', 'pdf', 'jpg', 'py']"
      ]
     },
     "execution_count": 100,
     "metadata": {},
     "output_type": "execute_result"
    }
   ],
   "source": [
    "file_name = [\"doc1.ppt\", \"doc2.pdf\", \"doc3.jpg\", \"doc4.py\"]\n",
    "[file.split(\".\")[-1] for file in file_name]"
   ]
  },
  {
   "cell_type": "code",
   "execution_count": 101,
   "id": "7a103cef-1e09-4b7d-a3e8-08eda3e6ee5e",
   "metadata": {},
   "outputs": [
    {
     "data": {
      "text/plain": [
       "[['doc1', 'ppt'], ['doc2', 'pdf'], ['doc3', 'jpg'], ['doc4', 'py']]"
      ]
     },
     "execution_count": 101,
     "metadata": {},
     "output_type": "execute_result"
    }
   ],
   "source": [
    "file_name = [\"doc1.ppt\", \"doc2.pdf\", \"doc3.jpg\", \"doc4.py\"]\n",
    "[file.split(\".\")for file in file_name]"
   ]
  },
  {
   "cell_type": "code",
   "execution_count": 102,
   "id": "f9770c83-7168-40a1-821e-10b0fb005acf",
   "metadata": {},
   "outputs": [
    {
     "data": {
      "text/plain": [
       "['sj@yahoo.com', 'rj@yahoo.com']"
      ]
     },
     "execution_count": 102,
     "metadata": {},
     "output_type": "execute_result"
    }
   ],
   "source": [
    "#conditional list comprehension\n",
    "email_address = [\"aj@gmail.com\", \"sj@yahoo.com\", \"rj@yahoo.com\", \"mj@gmail.com\"]\n",
    "[email for email in email_address if email.endswith(\"@yahoo.com\")]"
   ]
  },
  {
   "cell_type": "code",
   "execution_count": 103,
   "id": "78cc03e2-4030-4aef-9b2c-bbacc4081a39",
   "metadata": {},
   "outputs": [],
   "source": [
    "#nested list comprehension"
   ]
  },
  {
   "cell_type": "code",
   "execution_count": 104,
   "id": "fb78efe3-0b67-4284-80b1-f2039868d914",
   "metadata": {},
   "outputs": [
    {
     "data": {
      "text/plain": [
       "[[1, 4], [1, 5], [1, 6], [2, 4], [2, 5], [2, 6], [3, 4], [3, 5], [3, 6]]"
      ]
     },
     "execution_count": 104,
     "metadata": {},
     "output_type": "execute_result"
    }
   ],
   "source": [
    "pairs = []\n",
    "for x in [1, 2, 3]:\n",
    "    for y in [4, 5, 6]:\n",
    "        pairs.append([x, y])\n",
    "pairs"
   ]
  },
  {
   "cell_type": "code",
   "execution_count": 105,
   "id": "80243328-198d-4196-aa5c-71b38ea435a4",
   "metadata": {},
   "outputs": [
    {
     "data": {
      "text/plain": [
       "[[1, 4], [1, 5], [1, 6], [2, 4], [2, 5], [2, 6], [3, 4], [3, 5], [3, 6]]"
      ]
     },
     "execution_count": 105,
     "metadata": {},
     "output_type": "execute_result"
    }
   ],
   "source": [
    "[[x, y] for x in [1, 2, 3] for y in [4, 5, 6]]"
   ]
  },
  {
   "cell_type": "code",
   "execution_count": 106,
   "id": "60a87192-f702-473f-a47a-5f1bd6ba35c3",
   "metadata": {},
   "outputs": [],
   "source": [
    "#list as stack and queue (optional)"
   ]
  },
  {
   "cell_type": "code",
   "execution_count": 107,
   "id": "410e7a57-349b-48d4-b8fc-1e868fd60e03",
   "metadata": {},
   "outputs": [],
   "source": [
    "#stack>>last in first out principles>> The last element added to the stack will be the first one to be removed\n",
    "#only one end"
   ]
  },
  {
   "cell_type": "code",
   "execution_count": 108,
   "id": "971caddb-b3a2-47c9-aade-221f52c8ff05",
   "metadata": {},
   "outputs": [
    {
     "name": "stderr",
     "output_type": "stream",
     "text": [
      "'[image.png]' is not recognized as an internal or external command,\n",
      "operable program or batch file.\n"
     ]
    }
   ],
   "source": [
    "![image.png](attachment:f347ea88-5032-48cf-861b-95387bb23081.png)"
   ]
  },
  {
   "cell_type": "code",
   "execution_count": 109,
   "id": "6e72f08a-8f54-459c-919a-ba3c27057dae",
   "metadata": {},
   "outputs": [],
   "source": [
    "stack_of_plates = []\n",
    "stack_of_plates.append(\"plate1\")\n",
    "stack_of_plates.append(\"plate2\")\n",
    "stack_of_plates.append(\"plate3\")\n",
    "stack_of_plates.append(\"plate4\")\n"
   ]
  },
  {
   "cell_type": "code",
   "execution_count": 110,
   "id": "ad77b1db-9049-41b1-9aaf-0112534a61af",
   "metadata": {},
   "outputs": [
    {
     "data": {
      "text/plain": [
       "['plate1', 'plate2', 'plate3', 'plate4']"
      ]
     },
     "execution_count": 110,
     "metadata": {},
     "output_type": "execute_result"
    }
   ],
   "source": [
    "stack_of_plates"
   ]
  },
  {
   "cell_type": "code",
   "execution_count": 111,
   "id": "1b1fa889-e9c8-4e55-a1d5-9a59762590e2",
   "metadata": {},
   "outputs": [
    {
     "data": {
      "text/plain": [
       "'plate4'"
      ]
     },
     "execution_count": 111,
     "metadata": {},
     "output_type": "execute_result"
    }
   ],
   "source": [
    "stack_of_plates.pop()"
   ]
  },
  {
   "cell_type": "code",
   "execution_count": 112,
   "id": "5ad9d5d4-2870-450d-a7cc-cee59e83e4e9",
   "metadata": {},
   "outputs": [
    {
     "data": {
      "text/plain": [
       "['plate1', 'plate2', 'plate3']"
      ]
     },
     "execution_count": 112,
     "metadata": {},
     "output_type": "execute_result"
    }
   ],
   "source": [
    "stack_of_plates"
   ]
  },
  {
   "cell_type": "code",
   "execution_count": 113,
   "id": "211aec2b-14e8-400d-9ab6-53adad05381d",
   "metadata": {},
   "outputs": [],
   "source": [
    "#use case\n",
    "browsing_history = []\n",
    "browsing_history.append(\"home_page\")\n",
    "browsing_history.append(\"about us\")\n",
    "browsing_history.append(\"contact\")"
   ]
  },
  {
   "cell_type": "code",
   "execution_count": 114,
   "id": "b96371eb-293f-44e4-88f5-bbe0c3136261",
   "metadata": {},
   "outputs": [
    {
     "data": {
      "text/plain": [
       "['home_page', 'about us', 'contact']"
      ]
     },
     "execution_count": 114,
     "metadata": {},
     "output_type": "execute_result"
    }
   ],
   "source": [
    "browsing_history"
   ]
  },
  {
   "cell_type": "code",
   "execution_count": 115,
   "id": "495f3b09-8745-4d7f-8f2b-72d09c01c581",
   "metadata": {},
   "outputs": [
    {
     "data": {
      "text/plain": [
       "'contact'"
      ]
     },
     "execution_count": 115,
     "metadata": {},
     "output_type": "execute_result"
    }
   ],
   "source": [
    "browsing_history.pop()"
   ]
  },
  {
   "cell_type": "code",
   "execution_count": 116,
   "id": "7608ebfb-35be-4383-b712-76e8a4b133a9",
   "metadata": {},
   "outputs": [
    {
     "data": {
      "text/plain": [
       "['home_page', 'about us']"
      ]
     },
     "execution_count": 116,
     "metadata": {},
     "output_type": "execute_result"
    }
   ],
   "source": [
    "browsing_history"
   ]
  },
  {
   "cell_type": "code",
   "execution_count": 117,
   "id": "0b32c368-6ec3-4e54-9db1-fa13b722a0fa",
   "metadata": {},
   "outputs": [],
   "source": [
    "#Queue>> follows first in first out\n",
    "#it works in orderly sequential manner\n",
    "#two ends"
   ]
  },
  {
   "cell_type": "code",
   "execution_count": 119,
   "id": "2a52b820-ea4d-4ef4-9945-bd9fbe37ea40",
   "metadata": {},
   "outputs": [],
   "source": [
    "from collections import deque \n",
    "#library is a collection of python code(module)\n",
    "#collection is a library and deque is module"
   ]
  },
  {
   "cell_type": "code",
   "execution_count": null,
   "id": "42b23bb9-dec0-499e-85fc-59b0ba52f389",
   "metadata": {},
   "outputs": [],
   "source": []
  }
 ],
 "metadata": {
  "kernelspec": {
   "display_name": "Python 3 (ipykernel)",
   "language": "python",
   "name": "python3"
  },
  "language_info": {
   "codemirror_mode": {
    "name": "ipython",
    "version": 3
   },
   "file_extension": ".py",
   "mimetype": "text/x-python",
   "name": "python",
   "nbconvert_exporter": "python",
   "pygments_lexer": "ipython3",
   "version": "3.12.7"
  }
 },
 "nbformat": 4,
 "nbformat_minor": 5
}
